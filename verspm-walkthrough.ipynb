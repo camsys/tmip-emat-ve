{
 "cells": [
  {
   "cell_type": "markdown",
   "metadata": {},
   "source": [
    "# VERSPM Model Interface"
   ]
  },
  {
   "cell_type": "code",
   "execution_count": 1,
   "metadata": {
    "ExecuteTime": {
     "end_time": "2020-07-22T21:17:57.233981Z",
     "start_time": "2020-07-22T21:17:54.659342Z"
    }
   },
   "outputs": [],
   "source": [
    "import emat\n",
    "import os\n",
    "import pandas as pd\n",
    "import numpy as np\n",
    "import gzip\n",
    "from emat.util.show_dir import show_dir, show_file_contents"
   ]
  },
  {
   "cell_type": "markdown",
   "metadata": {},
   "source": [
    "This notebook is meant to illustrate the use of TMIP-EMAT's\n",
    "various modes of operation.  It provides an illustration of how to use \n",
    "TMIP-EMAT and the demo interface to run the command line version\n",
    "of the [Road Test](https://tmip-emat.github.io/source/emat.examples/RoadTest/road_test_yaml.html) \n",
    "model. A similar approach can be developed to run\n",
    "any transportation model that can be run from the command line, including\n",
    "for proprietary modeling tools that are typically run from a graphical\n",
    "user interface (GUI) but that provide command line access also."
   ]
  },
  {
   "cell_type": "markdown",
   "metadata": {},
   "source": [
    "In this example notebook, we will activate some logging features.  The \n",
    "same logging utility is written directly into the EMAT and the\n",
    "`core_files_demo.py` module. This will give us a view of what's happening\n",
    "inside the code as it runs."
   ]
  },
  {
   "cell_type": "code",
   "execution_count": 2,
   "metadata": {
    "ExecuteTime": {
     "end_time": "2020-07-22T21:17:57.240011Z",
     "start_time": "2020-07-22T21:17:57.236381Z"
    }
   },
   "outputs": [],
   "source": [
    "import logging\n",
    "from emat.util.loggers import log_to_stderr\n",
    "log = log_to_stderr(logging.INFO)"
   ]
  },
  {
   "cell_type": "markdown",
   "metadata": {},
   "source": [
    "## Connecting to the Model"
   ]
  },
  {
   "cell_type": "markdown",
   "metadata": {},
   "source": [
    "The interface for this model is located in the `core_files_demo.py`\n",
    "module, which we will import into this notebook.  This file is extensively\n",
    "documented in comments, and is a great starting point for new users\n",
    "who want to write an interface for a new bespoke travel demand model."
   ]
  },
  {
   "cell_type": "code",
   "execution_count": 3,
   "metadata": {
    "ExecuteTime": {
     "end_time": "2020-07-22T21:17:57.245897Z",
     "start_time": "2020-07-22T21:17:57.242355Z"
    }
   },
   "outputs": [],
   "source": [
    "import emat_verspm"
   ]
  },
  {
   "cell_type": "markdown",
   "metadata": {},
   "source": [
    "Within this module, you will find a definition for the \n",
    "`RoadTestFileModel` class.\n",
    "\n",
    "We initialize an instance of the model interface object.\n",
    "If you look at the module code, you'll note the `__init__` function\n",
    "does a number of things, including creating a temporary directory\n",
    "to work in, copying the needed files into this temporary directory,\n",
    "loading the scope, and creating a SQLite database to work within.\n",
    "For your implementation, you might or might not do any of these steps.\n",
    "In particular, you'll probably want to use a database that is\n",
    "not in a temporary location, so that the results will be available\n",
    "after this notebook is closed."
   ]
  },
  {
   "cell_type": "code",
   "execution_count": 4,
   "metadata": {
    "ExecuteTime": {
     "end_time": "2020-07-22T21:17:57.302262Z",
     "start_time": "2020-07-22T21:17:57.247893Z"
    }
   },
   "outputs": [
    {
     "name": "stderr",
     "output_type": "stream",
     "text": [
      "[00:03.26] MainProcess/WARNING: changing cwd to /var/folders/js/bk_dt9015j79_f6bxnc44dsr0000gp/T/tmp2v_r9ty1\n",
      "[00:03.27] MainProcess/INFO: running script scope.sql\n",
      "[00:03.28] MainProcess/INFO: running script exp_design.sql\n",
      "[00:03.28] MainProcess/INFO: running script meta_model.sql\n"
     ]
    }
   ],
   "source": [
    "fx = emat_verspm.VERSPModel()"
   ]
  },
  {
   "cell_type": "code",
   "execution_count": null,
   "metadata": {},
   "outputs": [],
   "source": []
  },
  {
   "cell_type": "markdown",
   "metadata": {},
   "source": [
    "Once we have loaded the `RoadTestFileModel` class, we have\n",
    "a number of files available in the \"master_directory\" that \n",
    "was created as that temporary directory:"
   ]
  },
  {
   "cell_type": "markdown",
   "metadata": {},
   "source": [
    "## Understanding Directories\n",
    "\n",
    "The TMIP-EMAT interface design for files-based bespoke models uses\n",
    "pointers for several directories to control the operation of the \n",
    "model.\n",
    "\n",
    "- **local_directory**  \n",
    "    This is the working directory for this instance of TMIP-EMAT,\n",
    "    not that for the core model itself. Typically it can be Python's \n",
    "    usual current working directory, accessible via `os.getcwd()`.\n",
    "    In this directory typically you'll have a TMIP-EMAT model \n",
    "    configuration *yaml* file, a scope definition *yaml* file, and\n",
    "    a sub-directory containing the files needed to run the core model\n",
    "    itself.\n",
    "\n",
    "- **model_path**  \n",
    "    The relative path from the `local_directory` to the directory where\n",
    "    the core model files are located.  When the core model itself is actually\n",
    "    run, this should be to the \"current working directory\" for that run.\n",
    "    The `model_path` must be given in the model config *yaml* file.\n",
    "\n",
    "- **rel_output_path**  \n",
    "    The relative path from the `model_path` to the directory where\n",
    "    the core model output files are located. The default value of this \n",
    "    path is \"./Outputs\" but this can be overridden by setting \n",
    "    `rel_output_path` in the model config *yaml* file. If the outputs\n",
    "    are comingled with other input files in the core model directory,\n",
    "    this can be set to \".\" (just a dot).\n",
    "\n",
    "- **archive_path**  \n",
    "    The path where model archive directories can be found. This path\n",
    "    must be given in the model config *yaml* file. It can be given as\n",
    "    an absolute path, or a relative path. If it is a relative path, \n",
    "    it should be relative to the `local_directory`.\n",
    "    \n",
    "These directories, especially the ones other than the `local_directory`,\n",
    "are defined in a model configuration *yaml* file. This makes it easy to\n",
    "change the directory pointers when moving TMIP-EMAT between different\n",
    "machines that may have different file system structures."
   ]
  },
  {
   "cell_type": "markdown",
   "metadata": {},
   "source": [
    "## Single Run Operation for Development and Debugging"
   ]
  },
  {
   "cell_type": "markdown",
   "metadata": {},
   "source": [
    "Before we take on the task of running this model in exploratory mode, we'll\n",
    "want to make sure that our interface code is working correctly. To check each\n",
    "of the components of the interface (setup, run, post-process, load-measures,\n",
    "and archive), we can run each individually in sequence, and inspect the results\n",
    "to make sure they are correct."
   ]
  },
  {
   "cell_type": "markdown",
   "metadata": {},
   "source": [
    "### setup\n",
    "\n",
    "This method is the place where the core model *set up* takes place,\n",
    "including creating or modifying files as necessary to prepare\n",
    "for a core model run.  When running experiments, this method\n",
    "is called once for each core model experiment, where each experiment\n",
    "is defined by a set of particular values for both the exogenous\n",
    "uncertainties and the policy levers.  These values are passed to\n",
    "the experiment only here, and not in the `run` method itself.\n",
    "This facilitates debugging, as the `setup` method can be used \n",
    "without the `run` method, as we do here. This allows us to manually\n",
    "inspect the prepared files and ensure they are correct before\n",
    "actually running a potentially expensive model.\n",
    "\n",
    "Each input exogenous uncertainty or policy lever can potentially\n",
    "be used to manipulate multiple different aspects of the underlying\n",
    "core model.  For example, a policy lever that includes a number of\n",
    "discrete future network \"build\" options might trigger the replacement\n",
    "of multiple related network definition files.  Or, a single uncertainty\n",
    "relating to the cost of fuel might scale both a parameter linked to\n",
    "the modeled per-mile cost of operating an automobile and the\n",
    "modeled total cost of fuel used by transit services."
   ]
  },
  {
   "cell_type": "markdown",
   "metadata": {},
   "source": [
    "For this demo model, running the core model itself in files mode \n",
    "requires two configuration files to be available, one for levers and\n",
    "another for uncertainties.  These two files are provided in the demo\n",
    "in two ways: as a runnable base file (for the levers) and as a template\n",
    "file (for the uncertainties)."
   ]
  },
  {
   "cell_type": "markdown",
   "metadata": {},
   "source": [
    "The levers file is a *ready-to-use* file (for this demo, in YAML format,\n",
    "although your model may use a different file format for input files).\n",
    "It has default values pre-coded into the file, and to modify this \n",
    "file for use by EMAT the `setup` method needs to parse and edit this\n",
    "file to swap out the default values for new ones in each experiment.\n",
    "This can be done using regular expressions (as in this demo), or any other method you\n",
    "like to edit the file appropriately.  The advantage of this approach\n",
    "is that the base file is ready to use with the core model as-is, facilitating\n",
    "the use of this file outside the EMAT context."
   ]
  },
  {
   "cell_type": "code",
   "execution_count": 5,
   "metadata": {
    "ExecuteTime": {
     "end_time": "2020-07-22T21:17:57.305508Z",
     "start_time": "2020-07-22T21:17:57.303626Z"
    }
   },
   "outputs": [],
   "source": [
    "#show_file_contents(fx.master_directory.name, 'road-test-files', 'demo-inputs-l.yml')"
   ]
  },
  {
   "cell_type": "markdown",
   "metadata": {},
   "source": [
    "By contrast, the uncertainties file is in a *template* format. The\n",
    "values of the parameters that will be manipulated by EMAT for each \n",
    "experiment are not given by default values, but instead \n",
    "each value to be set is indicated in the file by a unique token that is easy to\n",
    "search and replace, and definitely not something that appear in any script otherwise.\n",
    "This approach makes the text-substitution code that is used in this module much\n",
    "simpler and less prone to bugs.  But there is a small downside of this approach:\n",
    "every parameter must definitely be replaced in this process, as the template file\n",
    "is unusable outside the EMAT context, and also every unique token needs to be replaced. "
   ]
  },
  {
   "cell_type": "code",
   "execution_count": 6,
   "metadata": {
    "ExecuteTime": {
     "end_time": "2020-07-22T21:17:57.308982Z",
     "start_time": "2020-07-22T21:17:57.307001Z"
    }
   },
   "outputs": [],
   "source": [
    "#show_file_contents(fx.master_directory.name, 'road-test-files', 'demo-inputs-x.yml.template')"
   ]
  },
  {
   "cell_type": "markdown",
   "metadata": {},
   "source": [
    "Regardless of which file management system you use, the `setup` method\n",
    "is the place to make edits to these input files and write them into \n",
    "your working directory.  To do so,\n",
    "the `setup` method takes one argument: a dictionary containing key-value\n",
    "pairs that assign a particular value to each input (exogenous uncertainty \n",
    "or policy lever) that is defined in the model scope.  The keys must match \n",
    "exactly with the names of the parameters given in the scope. \n",
    "\n",
    "If you have written your `setup` method to call the super-class `setup`,\n",
    "you will find that if you give keys as input that are not defined in\n",
    "the scope, you'll get a KeyError."
   ]
  },
  {
   "cell_type": "code",
   "execution_count": 7,
   "metadata": {
    "ExecuteTime": {
     "end_time": "2020-07-22T21:17:57.312234Z",
     "start_time": "2020-07-22T21:17:57.310489Z"
    }
   },
   "outputs": [],
   "source": [
    "# bad_params = {\n",
    "#     'name_not_in_scope': 'is_a_problem',\n",
    "# }\n",
    "\n",
    "# try:\n",
    "#     fx.setup(bad_params)\n",
    "# except KeyError as error:\n",
    "#     log.error(repr(error))"
   ]
  },
  {
   "cell_type": "markdown",
   "metadata": {},
   "source": [
    "On the other hand, your custom model may or may not allow you to leave out\n",
    "some parameters.  It is up to you to decide how to handle missing values, \n",
    "either by setting them at their default values or raising an error. In \n",
    "normal operation, parameters typically won't be left out from the design\n",
    "of experiments, so it is not usually important to monitor this carefully.\n",
    "\n",
    "In our example module's `setup`, all of the uncertainty values must be given,\n",
    "because the template file would be unusable otherwise. But the policy levers \n",
    "can be omitted, and if so they are left at their default values in the \n",
    "original file.  Note that the default values in that file are not strictly\n",
    "consistent with the default values in the scope file, and TMIP-EMAT does \n",
    "nothing on its own to address this discrepancy."
   ]
  },
  {
   "cell_type": "code",
   "execution_count": 8,
   "metadata": {
    "ExecuteTime": {
     "end_time": "2020-07-22T21:17:57.319347Z",
     "start_time": "2020-07-22T21:17:57.315091Z"
    }
   },
   "outputs": [
    {
     "name": "stderr",
     "output_type": "stream",
     "text": [
      "[00:03.32] MainProcess/INFO: VERSPM SETUP...\n",
      "[00:03.33] MainProcess/INFO: VERSPM SETUP complete\n"
     ]
    }
   ],
   "source": [
    "params = {\n",
    "    'ValueOfTime': 13,\n",
    "    'Income': 46300,\n",
    "} \n",
    "\n",
    "fx.setup(params)"
   ]
  },
  {
   "cell_type": "markdown",
   "metadata": {},
   "source": [
    "After running `setup` successfully, we will have overwritten the \n",
    "\"demo-inputs-l.yml\" file with new values, and written a new \n",
    "\"demo-inputs-x.yml\" file into the model working directory with those\n",
    "values."
   ]
  },
  {
   "cell_type": "code",
   "execution_count": 9,
   "metadata": {
    "ExecuteTime": {
     "end_time": "2020-07-22T21:17:57.339516Z",
     "start_time": "2020-07-22T21:17:57.321594Z"
    }
   },
   "outputs": [
    {
     "name": "stdout",
     "output_type": "stream",
     "text": [
      "tmp2v_r9ty1/\n",
      "├── VERSPM/\n",
      "│   ├── .Rprofile\n",
      "│   ├── defs/\n",
      "│   │   ├── deflators.csv\n",
      "│   │   ├── geo.csv\n",
      "│   │   ├── model_parameters.json\n",
      "│   │   ├── run_parameters.json\n",
      "│   │   └── units.csv\n",
      "│   ├── inputs/\n",
      "│   │   ├── azone_carsvc_characteristics.csv\n",
      "│   │   ├── azone_charging_availability.csv\n",
      "│   │   ├── azone_electricity_carbon_intensity.csv\n",
      "│   │   ├── azone_fuel_power_cost.csv\n",
      "│   │   ├── azone_gq_pop_by_age.csv\n",
      "│   │   ├── azone_hh_lttrk_prop.csv\n",
      "│   │   ├── azone_hh_pop_by_age.csv\n",
      "│   │   ├── azone_hh_veh_mean_age.csv\n",
      "│   │   ├── azone_hh_veh_own_taxes.csv\n",
      "│   │   ├── azone_hhsize_targets.csv\n",
      "│   │   ├── azone_lttrk_prop.csv\n",
      "│   │   ├── azone_payd_insurance_prop.csv\n",
      "│   │   ├── azone_per_cap_inc.csv\n",
      "│   │   ├── azone_prop_sov_dvmt_diverted.csv\n",
      "│   │   ├── azone_veh_use_taxes.csv\n",
      "│   │   ├── azone_vehicle_access_times.csv\n",
      "│   │   ├── bzone_carsvc_availability.csv\n",
      "│   │   ├── bzone_dwelling_units.csv\n",
      "│   │   ├── bzone_employment.csv\n",
      "│   │   ├── bzone_hh_inc_qrtl_prop.csv\n",
      "│   │   ├── bzone_lat_lon.csv\n",
      "│   │   ├── bzone_network_design.csv\n",
      "│   │   ├── bzone_parking.csv\n",
      "│   │   ├── bzone_transit_service.csv\n",
      "│   │   ├── bzone_travel_demand_mgt.csv\n",
      "│   │   ├── bzone_unprotected_area.csv\n",
      "│   │   ├── bzone_urban-mixed-use_prop.csv\n",
      "│   │   ├── bzone_urban-town_du_proportions.csv\n",
      "│   │   ├── marea_base_year_dvmt.csv\n",
      "│   │   ├── marea_congestion_charges.csv\n",
      "│   │   ├── marea_dvmt_split_by_road_class.csv\n",
      "│   │   ├── marea_lane_miles.csv\n",
      "│   │   ├── marea_operations_deployment.csv\n",
      "│   │   ├── marea_speed_smooth_ecodrive.csv\n",
      "│   │   ├── marea_transit_ave_fuel_carbon_intensity.csv\n",
      "│   │   ├── marea_transit_biofuel_mix.csv\n",
      "│   │   ├── marea_transit_fuel.csv\n",
      "│   │   ├── marea_transit_powertrain_prop.csv\n",
      "│   │   ├── marea_transit_service.csv\n",
      "│   │   ├── other_ops_effectiveness.csv\n",
      "│   │   ├── region_ave_fuel_carbon_intensity.csv\n",
      "│   │   ├── region_base_year_dvmt.csv\n",
      "│   │   ├── region_carsvc_powertrain_prop.csv\n",
      "│   │   ├── region_co2e_costs.csv\n",
      "│   │   ├── region_comsvc_ave_veh_age.csv\n",
      "│   │   ├── region_comsvc_lttrk_prop.csv\n",
      "│   │   ├── region_comsvc_powertrain_prop.csv\n",
      "│   │   ├── region_comsvc_veh_mean_age.csv\n",
      "│   │   ├── region_hvytrk_powertrain_prop.csv\n",
      "│   │   ├── region_prop_externalities_paid.csv\n",
      "│   │   ├── region_road_cost.csv\n",
      "│   │   ├── temp_azone_relative_employment.csv\n",
      "│   │   ├── temp_region_base_year_hvytrk_dvmt.csv\n",
      "│   │   └── temp_region_hh_driver_adjust_prop.csv\n",
      "│   └── run_model.R\n",
      "├── verspm-model-config.yml\n",
      "├── verspm-scope.yml\n",
      "└── verspm.db\n"
     ]
    }
   ],
   "source": [
    "show_dir(fx.local_directory)"
   ]
  },
  {
   "cell_type": "code",
   "execution_count": 10,
   "metadata": {
    "ExecuteTime": {
     "end_time": "2020-07-22T21:17:57.343334Z",
     "start_time": "2020-07-22T21:17:57.340778Z"
    }
   },
   "outputs": [
    {
     "name": "stdout",
     "output_type": "stream",
     "text": [
      "[{\"NAME\": \"ValueOfTime\", \"VALUE\": \"13\", \"TYPE\": \"currency\", \"UNITS\": \"base cost year dollars per hour\"}]\n"
     ]
    }
   ],
   "source": [
    "show_file_contents(fx.local_directory, 'VERSPM', 'defs', 'model_parameters.json')"
   ]
  },
  {
   "cell_type": "markdown",
   "metadata": {},
   "source": [
    "### run"
   ]
  },
  {
   "cell_type": "markdown",
   "metadata": {},
   "source": [
    "The `run` method is the place where the core model run takes place.\n",
    "Note that this method takes no arguments; all the input\n",
    "exogenous uncertainties and policy levers are delivered to the\n",
    "core model in the `setup` method, which will be executed prior\n",
    "to calling this method. This facilitates debugging, as the `setup`\n",
    "method can be used without the `run` method as we did above, allowing\n",
    "us to manually inspect the prepared files and ensure they\n",
    "are correct before actually running a potentially expensive model."
   ]
  },
  {
   "cell_type": "code",
   "execution_count": 11,
   "metadata": {
    "ExecuteTime": {
     "end_time": "2020-07-22T21:20:14.266385Z",
     "start_time": "2020-07-22T21:17:57.344700Z"
    }
   },
   "outputs": [
    {
     "name": "stderr",
     "output_type": "stream",
     "text": [
      "[00:03.35] MainProcess/INFO: VERSPM RUN ...\n",
      "[02:20.27] MainProcess/INFO: VERSPM RUN complete\n"
     ]
    }
   ],
   "source": [
    "fx.run()"
   ]
  },
  {
   "cell_type": "markdown",
   "metadata": {},
   "source": [
    "The `RoadTestFileModel` class includes a custom `last_run_logs` method,\n",
    "which displays both the \"stdout\" and \"stderr\" logs generated by the \n",
    "model executable during the most recent call to the `run` method.\n",
    "We can use this method for debugging purposes, to identify why the \n",
    "core model crashes (if it does crash).  In this first test it did not\n",
    "crash, and the logs look good."
   ]
  },
  {
   "cell_type": "code",
   "execution_count": 12,
   "metadata": {
    "ExecuteTime": {
     "end_time": "2020-07-22T21:20:14.271456Z",
     "start_time": "2020-07-22T21:20:14.268338Z"
    },
    "scrolled": true
   },
   "outputs": [
    {
     "name": "stdout",
     "output_type": "stream",
     "text": [
      "=== STDOUT ===\n",
      "run_model.R: script entered\n",
      "run_model.R: library visioneval loaded\n",
      "[1] \"2020-07-22 16:17:57 -- Initializing Model. This may take a while.\"\n",
      "[1] \"2020-07-22 16:18:02 -- Model successfully initialized.\"\n",
      "run_model.R: initializeModel completed\n",
      "[1] \"2020-07-22 16:18:02 -- Starting module 'CreateHouseholds' for year '2010'.\"\n",
      "[1] \"2020-07-22 16:18:04 -- Finish module 'CreateHouseholds' for year '2010'.\"\n",
      "[1] \"2020-07-22 16:18:04 -- Starting module 'PredictWorkers' for year '2010'.\"\n",
      "[1] \"2020-07-22 16:18:06 -- Finish module 'PredictWorkers' for year '2010'.\"\n",
      "[1] \"2020-07-22 16:18:06 -- Starting module 'AssignLifeCycle' for year '2010'.\"\n",
      "[1] \"2020-07-22 16:18:06 -- Finish module 'AssignLifeCycle' for year '2010'.\"\n",
      "[1] \"2020-07-22 16:18:06 -- Starting module 'PredictIncome' for year '2010'.\"\n",
      "[1] \"2020-07-22 16:18:09 -- Finish module 'PredictIncome' for year '2010'.\"\n",
      "[1] \"2020-07-22 16:18:09 -- Starting module 'PredictHousing' for year '2010'.\"\n",
      "[1] \"2020-07-22 16:18:12 -- Finish module 'PredictHousing' for year '2010'.\"\n",
      "[1] \"2020-07-22 16:18:12 -- Starting module 'LocateEmployment' for year '2010'.\"\n",
      "[1] \"2020-07-22 16:18:13 -- Finish module 'LocateEmployment' for year '2010'.\"\n",
      "[1] \"2020-07-22 16:18:13 -- Starting module 'AssignLocTypes' for year '2010'.\"\n",
      "[1] \"2020-07-22 16:18:14 -- Finish module 'AssignLocTypes' for year '2010'.\"\n",
      "[1] \"2020-07-22 16:18:14 -- Starting module 'Calculate4DMeasures' for year '2010'.\"\n",
      "[1] \"2020-07-22 16:18:15 -- Finish module 'Calculate4DMeasures' for year '2010'.\"\n",
      "[1] \"2020-07-22 16:18:15 -- Starting module 'CalculateUrbanMixMeasure' for year '2010'.\"\n",
      "[1] \"2020-07-22 16:18:15 -- Finish module 'CalculateUrbanMixMeasure' for year '2010'.\"\n",
      "[1] \"2020-07-22 16:18:15 -- Starting module 'AssignParkingRestrictions' for year '2010'.\"\n",
      "[1] \"2020-07-22 16:18:15 -- Finish module 'AssignParkingRestrictions' for year '2010'.\"\n",
      "[1] \"2020-07-22 16:18:15 -- Starting module 'AssignDemandManagement' for year '2010'.\"\n",
      "[1] \"2020-07-22 16:18:16 -- Finish module 'AssignDemandManagement' for year '2010'.\"\n",
      "[1] \"2020-07-22 16:18:16 -- Starting module 'AssignCarSvcAvailability' for year '2010'.\"\n",
      "[1] \"2020-07-22 16:18:16 -- Finish module 'AssignCarSvcAvailability' for year '2010'.\"\n",
      "[1] \"2020-07-22 16:18:16 -- Starting module 'AssignTransitService' for year '2010'.\"\n",
      "[1] \"2020-07-22 16:18:16 -- Finish module 'AssignTransitService' for year '2010'.\"\n",
      "[1] \"2020-07-22 16:18:16 -- Starting module 'AssignRoadMiles' for year '2010'.\"\n",
      "[1] \"2020-07-22 16:18:16 -- Finish module 'AssignRoadMiles' for year '2010'.\"\n",
      "[1] \"2020-07-22 16:18:16 -- Starting module 'AssignDrivers' for year '2010'.\"\n",
      "[1] \"2020-07-22 16:18:18 -- Finish module 'AssignDrivers' for year '2010'.\"\n",
      "[1] \"2020-07-22 16:18:18 -- Starting module 'AssignVehicleOwnership' for year '2010'.\"\n",
      "[1] \"2020-07-22 16:18:20 -- Finish module 'AssignVehicleOwnership' for year '2010'.\"\n",
      "[1] \"2020-07-22 16:18:20 -- Starting module 'AssignVehicleType' for year '2010'.\"\n",
      "[1] \"2020-07-22 16:18:22 -- Finish module 'AssignVehicleType' for year '2010'.\"\n",
      "[1] \"2020-07-22 16:18:22 -- Starting module 'CreateVehicleTable' for year '2010'.\"\n",
      "[1] \"2020-07-22 16:18:23 -- Finish module 'CreateVehicleTable' for year '2010'.\"\n",
      "[1] \"2020-07-22 16:18:23 -- Starting module 'AssignVehicleAge' for year '2010'.\"\n",
      "[1] \"2020-07-22 16:18:24 -- Finish module 'AssignVehicleAge' for year '2010'.\"\n",
      "[1] \"2020-07-22 16:18:24 -- Starting module 'CalculateVehicleOwnCost' for year '2010'.\"\n",
      "[1] \"2020-07-22 16:18:26 -- Finish module 'CalculateVehicleOwnCost' for year '2010'.\"\n",
      "[1] \"2020-07-22 16:18:26 -- Starting module 'AdjustVehicleOwnership' for year '2010'.\"\n",
      "[1] \"2020-07-22 16:18:27 -- Finish module 'AdjustVehicleOwnership' for year '2010'.\"\n",
      "[1] \"2020-07-22 16:18:27 -- Starting module 'CalculateHouseholdDvmt' for year '2010'.\"\n",
      "[1] \"2020-07-22 16:18:27 -- Finish module 'CalculateHouseholdDvmt' for year '2010'.\"\n",
      "[1] \"2020-07-22 16:18:27 -- Starting module 'CalculateAltModeTrips' for year '2010'.\"\n",
      "[1] \"2020-07-22 16:18:28 -- Finish module 'CalculateAltModeTrips' for year '2010'.\"\n",
      "[1] \"2020-07-22 16:18:28 -- Starting module 'CalculateVehicleTrips' for year '2010'.\"\n",
      "[1] \"2020-07-22 16:18:28 -- Finish module 'CalculateVehicleTrips' for year '2010'.\"\n",
      "[1] \"2020-07-22 16:18:28 -- Starting module 'DivertSovTravel' for year '2010'.\"\n",
      "[1] \"2020-07-22 16:18:29 -- Finish module 'DivertSovTravel' for year '2010'.\"\n",
      "[1] \"2020-07-22 16:18:29 -- Starting module 'CalculateCarbonIntensity' for year '2010'.\"\n",
      "[1] \"2020-07-22 16:18:30 -- Finish module 'CalculateCarbonIntensity' for year '2010'.\"\n",
      "[1] \"2020-07-22 16:18:30 -- Starting module 'AssignHhVehiclePowertrain' for year '2010'.\"\n",
      "[1] \"2020-07-22 16:18:32 -- Finish module 'AssignHhVehiclePowertrain' for year '2010'.\"\n",
      "[1] \"2020-07-22 16:18:32 -- Starting module 'CalculateRoadDvmt' for year '2010'.\"\n",
      "[1] \"2020-07-22 16:18:32 -- Finish module 'CalculateRoadDvmt' for year '2010'.\"\n",
      "[1] \"2020-07-22 16:18:32 -- Starting module 'CalculateRoadPerformance' for year '2010'.\"\n",
      "[1] \"2020-07-22 16:18:34 -- Finish module 'CalculateRoadPerformance' for year '2010'.\"\n",
      "[1] \"2020-07-22 16:18:34 -- Starting module 'CalculateMpgMpkwhAdjustments' for year '2010'.\"\n",
      "[1] \"2020-07-22 16:18:35 -- Finish module 'CalculateMpgMpkwhAdjustments' for year '2010'.\"\n",
      "[1] \"2020-07-22 16:18:35 -- Starting module 'AdjustHhVehicleMpgMpkwh' for year '2010'.\"\n",
      "[1] \"2020-07-22 16:18:37 -- Finish module 'AdjustHhVehicleMpgMpkwh' for year '2010'.\"\n",
      "[1] \"2020-07-22 16:18:37 -- Starting module 'CalculateVehicleOperatingCost' for year '2010'.\"\n",
      "[1] \"2020-07-22 16:18:40 -- Finish module 'CalculateVehicleOperatingCost' for year '2010'.\"\n",
      "[1] \"2020-07-22 16:18:40 -- Starting module 'BudgetHouseholdDvmt' for year '2010'.\"\n",
      "[1] \"2020-07-22 16:18:42 -- Finish module 'BudgetHouseholdDvmt' for year '2010'.\"\n",
      "[1] \"2020-07-22 16:18:42 -- Starting module 'BalanceRoadCostsAndRevenues' for year '2010'.\"\n",
      "[1] \"2020-07-22 16:18:43 -- Finish module 'BalanceRoadCostsAndRevenues' for year '2010'.\"\n",
      "[1] \"2020-07-22 16:18:43 -- Starting module 'CalculateRoadDvmt' for year '2010'.\"\n",
      "[1] \"2020-07-22 16:18:43 -- Finish module 'CalculateRoadDvmt' for year '2010'.\"\n",
      "[1] \"2020-07-22 16:18:43 -- Starting module 'CalculateRoadPerformance' for year '2010'.\"\n",
      "[1] \"2020-07-22 16:18:45 -- Finish module 'CalculateRoadPerformance' for year '2010'.\"\n",
      "[1] \"2020-07-22 16:18:45 -- Starting module 'CalculateMpgMpkwhAdjustments' for year '2010'.\"\n",
      "[1] \"2020-07-22 16:18:45 -- Finish module 'CalculateMpgMpkwhAdjustments' for year '2010'.\"\n",
      "[1] \"2020-07-22 16:18:45 -- Starting module 'AdjustHhVehicleMpgMpkwh' for year '2010'.\"\n",
      "[1] \"2020-07-22 16:18:47 -- Finish module 'AdjustHhVehicleMpgMpkwh' for year '2010'.\"\n",
      "[1] \"2020-07-22 16:18:47 -- Starting module 'CalculateVehicleOperatingCost' for year '2010'.\"\n",
      "[1] \"2020-07-22 16:18:50 -- Finish module 'CalculateVehicleOperatingCost' for year '2010'.\"\n",
      "[1] \"2020-07-22 16:18:50 -- Starting module 'BudgetHouseholdDvmt' for year '2010'.\"\n",
      "[1] \"2020-07-22 16:18:52 -- Finish module 'BudgetHouseholdDvmt' for year '2010'.\"\n",
      "[1] \"2020-07-22 16:18:52 -- Starting module 'BalanceRoadCostsAndRevenues' for year '2010'.\"\n",
      "[1] \"2020-07-22 16:18:53 -- Finish module 'BalanceRoadCostsAndRevenues' for year '2010'.\"\n",
      "[1] \"2020-07-22 16:18:53 -- Starting module 'CalculateComEnergyAndEmissions' for year '2010'.\"\n",
      "[1] \"2020-07-22 16:18:53 -- Finish module 'CalculateComEnergyAndEmissions' for year '2010'.\"\n",
      "[1] \"2020-07-22 16:18:53 -- Starting module 'CalculatePtranEnergyAndEmissions' for year '2010'.\"\n",
      "[1] \"2020-07-22 16:18:54 -- Finish module 'CalculatePtranEnergyAndEmissions' for year '2010'.\"\n",
      "[1] \"2020-07-22 16:18:54 -- Starting module 'CreateHouseholds' for year '2038'.\"\n",
      "[1] \"2020-07-22 16:18:56 -- Finish module 'CreateHouseholds' for year '2038'.\"\n",
      "[1] \"2020-07-22 16:18:56 -- Starting module 'PredictWorkers' for year '2038'.\"\n",
      "[1] \"2020-07-22 16:19:00 -- Finish module 'PredictWorkers' for year '2038'.\"\n",
      "[1] \"2020-07-22 16:19:00 -- Starting module 'AssignLifeCycle' for year '2038'.\"\n",
      "[1] \"2020-07-22 16:19:00 -- Finish module 'AssignLifeCycle' for year '2038'.\"\n",
      "[1] \"2020-07-22 16:19:00 -- Starting module 'PredictIncome' for year '2038'.\"\n",
      "[1] \"2020-07-22 16:19:04 -- Finish module 'PredictIncome' for year '2038'.\"\n",
      "[1] \"2020-07-22 16:19:04 -- Starting module 'PredictHousing' for year '2038'.\"\n",
      "[1] \"2020-07-22 16:19:07 -- Finish module 'PredictHousing' for year '2038'.\"\n",
      "[1] \"2020-07-22 16:19:07 -- Starting module 'LocateEmployment' for year '2038'.\"\n",
      "[1] \"2020-07-22 16:19:08 -- Finish module 'LocateEmployment' for year '2038'.\"\n",
      "[1] \"2020-07-22 16:19:08 -- Starting module 'AssignLocTypes' for year '2038'.\"\n",
      "[1] \"2020-07-22 16:19:11 -- Finish module 'AssignLocTypes' for year '2038'.\"\n",
      "[1] \"2020-07-22 16:19:11 -- Starting module 'Calculate4DMeasures' for year '2038'.\"\n",
      "[1] \"2020-07-22 16:19:11 -- Finish module 'Calculate4DMeasures' for year '2038'.\"\n",
      "[1] \"2020-07-22 16:19:11 -- Starting module 'CalculateUrbanMixMeasure' for year '2038'.\"\n",
      "[1] \"2020-07-22 16:19:12 -- Finish module 'CalculateUrbanMixMeasure' for year '2038'.\"\n",
      "[1] \"2020-07-22 16:19:12 -- Starting module 'AssignParkingRestrictions' for year '2038'.\"\n",
      "[1] \"2020-07-22 16:19:12 -- Finish module 'AssignParkingRestrictions' for year '2038'.\"\n",
      "[1] \"2020-07-22 16:19:12 -- Starting module 'AssignDemandManagement' for year '2038'.\"\n",
      "[1] \"2020-07-22 16:19:13 -- Finish module 'AssignDemandManagement' for year '2038'.\"\n",
      "[1] \"2020-07-22 16:19:13 -- Starting module 'AssignCarSvcAvailability' for year '2038'.\"\n",
      "[1] \"2020-07-22 16:19:13 -- Finish module 'AssignCarSvcAvailability' for year '2038'.\"\n",
      "[1] \"2020-07-22 16:19:13 -- Starting module 'AssignTransitService' for year '2038'.\"\n",
      "[1] \"2020-07-22 16:19:13 -- Finish module 'AssignTransitService' for year '2038'.\"\n",
      "[1] \"2020-07-22 16:19:13 -- Starting module 'AssignRoadMiles' for year '2038'.\"\n",
      "[1] \"2020-07-22 16:19:13 -- Finish module 'AssignRoadMiles' for year '2038'.\"\n",
      "[1] \"2020-07-22 16:19:13 -- Starting module 'AssignDrivers' for year '2038'.\"\n",
      "[1] \"2020-07-22 16:19:15 -- Finish module 'AssignDrivers' for year '2038'.\"\n",
      "[1] \"2020-07-22 16:19:15 -- Starting module 'AssignVehicleOwnership' for year '2038'.\"\n",
      "[1] \"2020-07-22 16:19:17 -- Finish module 'AssignVehicleOwnership' for year '2038'.\"\n",
      "[1] \"2020-07-22 16:19:17 -- Starting module 'AssignVehicleType' for year '2038'.\"\n",
      "[1] \"2020-07-22 16:19:21 -- Finish module 'AssignVehicleType' for year '2038'.\"\n",
      "[1] \"2020-07-22 16:19:21 -- Starting module 'CreateVehicleTable' for year '2038'.\"\n",
      "[1] \"2020-07-22 16:19:23 -- Finish module 'CreateVehicleTable' for year '2038'.\"\n",
      "[1] \"2020-07-22 16:19:23 -- Starting module 'AssignVehicleAge' for year '2038'.\"\n",
      "[1] \"2020-07-22 16:19:24 -- Finish module 'AssignVehicleAge' for year '2038'.\"\n",
      "[1] \"2020-07-22 16:19:24 -- Starting module 'CalculateVehicleOwnCost' for year '2038'.\"\n",
      "[1] \"2020-07-22 16:19:28 -- Finish module 'CalculateVehicleOwnCost' for year '2038'.\"\n",
      "[1] \"2020-07-22 16:19:28 -- Starting module 'AdjustVehicleOwnership' for year '2038'.\"\n",
      "[1] \"2020-07-22 16:19:31 -- Finish module 'AdjustVehicleOwnership' for year '2038'.\"\n",
      "[1] \"2020-07-22 16:19:31 -- Starting module 'CalculateHouseholdDvmt' for year '2038'.\"\n",
      "[1] \"2020-07-22 16:19:31 -- Finish module 'CalculateHouseholdDvmt' for year '2038'.\"\n",
      "[1] \"2020-07-22 16:19:31 -- Starting module 'CalculateAltModeTrips' for year '2038'.\"\n",
      "[1] \"2020-07-22 16:19:32 -- Finish module 'CalculateAltModeTrips' for year '2038'.\"\n",
      "[1] \"2020-07-22 16:19:32 -- Starting module 'CalculateVehicleTrips' for year '2038'.\"\n",
      "[1] \"2020-07-22 16:19:33 -- Finish module 'CalculateVehicleTrips' for year '2038'.\"\n",
      "[1] \"2020-07-22 16:19:33 -- Starting module 'DivertSovTravel' for year '2038'.\"\n",
      "[1] \"2020-07-22 16:19:34 -- Finish module 'DivertSovTravel' for year '2038'.\"\n",
      "[1] \"2020-07-22 16:19:34 -- Starting module 'CalculateCarbonIntensity' for year '2038'.\"\n",
      "[1] \"2020-07-22 16:19:34 -- Finish module 'CalculateCarbonIntensity' for year '2038'.\"\n",
      "[1] \"2020-07-22 16:19:34 -- Starting module 'AssignHhVehiclePowertrain' for year '2038'.\"\n",
      "[1] \"2020-07-22 16:19:37 -- Finish module 'AssignHhVehiclePowertrain' for year '2038'.\"\n",
      "[1] \"2020-07-22 16:19:37 -- Starting module 'CalculateRoadDvmt' for year '2038'.\"\n",
      "[1] \"2020-07-22 16:19:38 -- Finish module 'CalculateRoadDvmt' for year '2038'.\"\n",
      "[1] \"2020-07-22 16:19:38 -- Starting module 'CalculateRoadPerformance' for year '2038'.\"\n",
      "[1] \"2020-07-22 16:19:40 -- Finish module 'CalculateRoadPerformance' for year '2038'.\"\n",
      "[1] \"2020-07-22 16:19:40 -- Starting module 'CalculateMpgMpkwhAdjustments' for year '2038'.\"\n",
      "[1] \"2020-07-22 16:19:41 -- Finish module 'CalculateMpgMpkwhAdjustments' for year '2038'.\"\n",
      "[1] \"2020-07-22 16:19:41 -- Starting module 'AdjustHhVehicleMpgMpkwh' for year '2038'.\"\n",
      "[1] \"2020-07-22 16:19:43 -- Finish module 'AdjustHhVehicleMpgMpkwh' for year '2038'.\"\n",
      "[1] \"2020-07-22 16:19:43 -- Starting module 'CalculateVehicleOperatingCost' for year '2038'.\"\n",
      "[1] \"2020-07-22 16:19:49 -- Finish module 'CalculateVehicleOperatingCost' for year '2038'.\"\n",
      "[1] \"2020-07-22 16:19:49 -- Starting module 'BudgetHouseholdDvmt' for year '2038'.\"\n",
      "[1] \"2020-07-22 16:19:51 -- Finish module 'BudgetHouseholdDvmt' for year '2038'.\"\n",
      "[1] \"2020-07-22 16:19:51 -- Starting module 'BalanceRoadCostsAndRevenues' for year '2038'.\"\n",
      "[1] \"2020-07-22 16:19:52 -- Finish module 'BalanceRoadCostsAndRevenues' for year '2038'.\"\n",
      "[1] \"2020-07-22 16:19:52 -- Starting module 'CalculateRoadDvmt' for year '2038'.\"\n",
      "[1] \"2020-07-22 16:19:53 -- Finish module 'CalculateRoadDvmt' for year '2038'.\"\n",
      "[1] \"2020-07-22 16:19:53 -- Starting module 'CalculateRoadPerformance' for year '2038'.\"\n",
      "[1] \"2020-07-22 16:19:53 -- Finish module 'CalculateRoadPerformance' for year '2038'.\"\n",
      "[1] \"2020-07-22 16:19:53 -- Starting module 'CalculateMpgMpkwhAdjustments' for year '2038'.\"\n",
      "[1] \"2020-07-22 16:19:54 -- Finish module 'CalculateMpgMpkwhAdjustments' for year '2038'.\"\n",
      "[1] \"2020-07-22 16:19:54 -- Starting module 'AdjustHhVehicleMpgMpkwh' for year '2038'.\"\n",
      "[1] \"2020-07-22 16:19:56 -- Finish module 'AdjustHhVehicleMpgMpkwh' for year '2038'.\"\n",
      "[1] \"2020-07-22 16:19:56 -- Starting module 'CalculateVehicleOperatingCost' for year '2038'.\"\n",
      "[1] \"2020-07-22 16:20:02 -- Finish module 'CalculateVehicleOperatingCost' for year '2038'.\"\n",
      "[1] \"2020-07-22 16:20:02 -- Starting module 'BudgetHouseholdDvmt' for year '2038'.\"\n",
      "[1] \"2020-07-22 16:20:04 -- Finish module 'BudgetHouseholdDvmt' for year '2038'.\"\n",
      "[1] \"2020-07-22 16:20:04 -- Starting module 'BalanceRoadCostsAndRevenues' for year '2038'.\"\n",
      "[1] \"2020-07-22 16:20:05 -- Finish module 'BalanceRoadCostsAndRevenues' for year '2038'.\"\n",
      "[1] \"2020-07-22 16:20:05 -- Starting module 'CalculateComEnergyAndEmissions' for year '2038'.\"\n",
      "[1] \"2020-07-22 16:20:06 -- Finish module 'CalculateComEnergyAndEmissions' for year '2038'.\"\n",
      "[1] \"2020-07-22 16:20:06 -- Starting module 'CalculatePtranEnergyAndEmissions' for year '2038'.\"\n",
      "[1] \"2020-07-22 16:20:06 -- Finish module 'CalculatePtranEnergyAndEmissions' for year '2038'.\"\n",
      "run_model.R: run complete.\n",
      "Model State File: /private/var/folders/js/bk_dt9015j79_f6bxnc44dsr0000gp/T/tmp2v_r9ty1/VERSPM/ModelState.Rda \n",
      "Length of InputIndex: 858 \n",
      "Rows in GroupTableName: 517 \n",
      "Length of Description: 517 \n",
      "492 rows in Group/Table/Name data.frame\n",
      "Datastore is /private/var/folders/js/bk_dt9015j79_f6bxnc44dsr0000gp/T/tmp2v_r9ty1/VERSPM/Datastore \n",
      "Extracting data...Done\n",
      "Include Tables:\n",
      "character(0)\n",
      "Exclude Tables:\n",
      "character(0)\n",
      "Exporting Tables:\n",
      "[1] \"Bzone\"     \"Azone\"     \"Marea\"     \"Household\" \"Worker\"    \"Vehicle\"  \n",
      "[7] \"Region\"   \n",
      "Exporting Bzone ...Done (as Bzone.csv)\n",
      "Exporting Azone ...Done (as Azone.csv)\n",
      "Exporting Marea ...Done (as Marea.csv)\n",
      "Exporting Household ...Done (as Household.csv)\n",
      "Exporting Worker ...Done (as Worker.csv)\n",
      "Exporting Vehicle ...Done (as Vehicle.csv)\n",
      "Exporting Region ...Done (as Region.csv)\n",
      "\n",
      "=== STDERR ===\n",
      "Failed with error:  ‘.onLoad failed in loadNamespace() for 'tcltk', details:\n",
      "  call: fun(libname, pkgname)\n",
      "  error: X11 library is missing: install XQuartz from xquartz.macosforge.org’\n",
      "\n",
      "=== END OF LOG ===\n"
     ]
    }
   ],
   "source": [
    "fx.last_run_logs()"
   ]
  },
  {
   "cell_type": "code",
   "execution_count": 14,
   "metadata": {
    "ExecuteTime": {
     "end_time": "2020-07-22T21:25:46.165507Z",
     "start_time": "2020-07-22T21:25:46.159405Z"
    }
   },
   "outputs": [
    {
     "name": "stdout",
     "output_type": "stream",
     "text": [
      "output/\n",
      "├── Azone.csv\n",
      "├── Bzone.csv\n",
      "├── Household.csv\n",
      "├── Marea.csv\n",
      "├── Region.csv\n",
      "├── Vehicle.csv\n",
      "└── Worker.csv\n"
     ]
    }
   ],
   "source": [
    "show_dir(os.path.join(fx.master_directory.name, 'VERSPM', 'output'))"
   ]
  },
  {
   "cell_type": "code",
   "execution_count": null,
   "metadata": {
    "ExecuteTime": {
     "end_time": "2020-07-22T21:20:14.323226Z",
     "start_time": "2020-07-22T21:17:54.679Z"
    }
   },
   "outputs": [],
   "source": [
    "STOP"
   ]
  },
  {
   "cell_type": "markdown",
   "metadata": {},
   "source": [
    "### post-process\n",
    "\n",
    "There is an (optional) `post_process` step that is separate from the `run` step.\n",
    "\n",
    "Post-processing differs from the main model run in two important ways:\n",
    "\n",
    "- It can be run to efficiently generate a subset of performance measures.\n",
    "- It can be run based on archived model main-run core model results.\n",
    "\n",
    "Both features are designed to support workflows where new performance \n",
    "measures are added to the exploratory scope after the main model run(s)\n",
    "are completed. By allowing the `post_process` method to be run only for a \n",
    "subset of measures, we can avoid replicating possibly expensive \n",
    "post-processing steps when we have already completed them, or when they\n",
    "are not needed for a particular application.  \n",
    "\n",
    "For example, consider an exploratory modeling activity where the scope \n",
    "at the time of the initial model run experiments was focused on highway\n",
    "measures, and transit usage was not explored extensively, and no \n",
    "network assignment was done for transit trips when the experiments were\n",
    "initially run.  By creating a post-process step to run the transit \n",
    "network assignment, we can apply that step to existing archived results,\n",
    "as well as have it run automatically for future model experients\n",
    "where transit usage is under study, but continue to omit it for future \n",
    "model experients where we do not need it.\n",
    "\n",
    "An optional `measure_names` argument allows the post-processor to\n",
    "identify which measures need additional computational effort to generate,\n",
    "and to skip excluded measures that are not currently of interest, or\n",
    "which have already been computed and do not need to be computed again.\n",
    "\n",
    "The post processing is isolated from the main model run to allow it to\n",
    "be run later using archived model results.  When executed directly \n",
    "after a core model run, it will operate on the results of the model\n",
    "stored in the local working directory.  However, it can also be\n",
    "used with an optional `output_path` argument, which can be pointed at\n",
    "a model archive directory instead of the local working directory.\n",
    "\n",
    "A consequence of this (and an intentional limitation) is that the \n",
    "`post_process` method should only use files from the set of files \n",
    "that are or will be archived from the core model run, and not attempt\n",
    "to use other non-persistent temporary or intermediate files that \n",
    "will not be archived."
   ]
  },
  {
   "cell_type": "code",
   "execution_count": null,
   "metadata": {
    "ExecuteTime": {
     "end_time": "2020-07-22T21:20:14.324487Z",
     "start_time": "2020-07-22T21:17:54.681Z"
    }
   },
   "outputs": [],
   "source": [
    "fx.post_process()"
   ]
  },
  {
   "cell_type": "markdown",
   "metadata": {},
   "source": [
    "At this point, the model's output performance measures should be available in one\n",
    "or more output files that can be read in the next step.  For this example, the\n",
    "results are written to two separate files: 'output_1.csv.gz' and 'output.yaml'."
   ]
  },
  {
   "cell_type": "code",
   "execution_count": null,
   "metadata": {
    "ExecuteTime": {
     "end_time": "2020-07-22T21:20:14.325650Z",
     "start_time": "2020-07-22T21:17:54.682Z"
    }
   },
   "outputs": [],
   "source": [
    "show_file_contents(fx.local_directory, 'road-test-files', \"Outputs\", \"output.yaml\")"
   ]
  },
  {
   "cell_type": "markdown",
   "metadata": {},
   "source": [
    "Note in this example, some of the values in the `output_1.csv.gz` file\n",
    "are intentionally manipulated in a contrived manner, so that there is \n",
    "some work for the post-processor to do."
   ]
  },
  {
   "cell_type": "code",
   "execution_count": null,
   "metadata": {
    "ExecuteTime": {
     "end_time": "2020-07-22T21:20:14.326604Z",
     "start_time": "2020-07-22T21:17:54.683Z"
    }
   },
   "outputs": [],
   "source": [
    "show_file_contents(fx.local_directory, 'road-test-files', \"Outputs\", \"output_1.csv.gz\")"
   ]
  },
  {
   "cell_type": "markdown",
   "metadata": {},
   "source": [
    "### load-measures\n",
    "\n",
    "The `load_measures` method is the place to actually reach into\n",
    "files in the core model's run results and extract performance\n",
    "measures, returning a dictionary of key-value pairs for the \n",
    "various performance measures. It takes an optional list giving a \n",
    "subset of performance measures to load, and like the `post_process` \n",
    "method also can be pointed at an archive location instead of loading \n",
    "measures from the local working directory (which is the default).\n",
    "The `load_measures` method should not do any post-processing\n",
    "of results (i.e. it should read from but not write to the model\n",
    "outputs directory)."
   ]
  },
  {
   "cell_type": "code",
   "execution_count": null,
   "metadata": {
    "ExecuteTime": {
     "end_time": "2020-07-22T21:20:14.327799Z",
     "start_time": "2020-07-22T21:17:54.684Z"
    }
   },
   "outputs": [],
   "source": [
    "fx.load_measures()"
   ]
  },
  {
   "cell_type": "markdown",
   "metadata": {},
   "source": [
    "You may note that the implementation of `RoadTestFileModel` in the `core_files_demo` module\n",
    "does not actually include a `load_measures` method itself, but instead inherits this method\n",
    "from the `FilesCoreModel` superclass. The instructions on how to actually find the relevant\n",
    "performance measures for this file are instead loaded into table parsers, which are defined\n",
    "in the `RoadTestFileModel.__init__` constructor.  There are [details and illustrations\n",
    "of how to write and use parsers in the file parsing examples page of the TMIP-EMAT documentation.](https://tmip-emat.github.io/source/emat.models/table_parse_example.html)"
   ]
  },
  {
   "cell_type": "markdown",
   "metadata": {},
   "source": [
    "### archive\n",
    "\n",
    "The `archive` method copies the relevant model output files to an archive location for \n",
    "longer term storage.  The particular archive location is based on the experiment id\n",
    "for a particular experiment, and can be customized if desired by overloading the \n",
    "`get_experiment_archive_path` method.  This customization is not done in this demo,\n",
    "so the default location is used."
   ]
  },
  {
   "cell_type": "code",
   "execution_count": null,
   "metadata": {
    "ExecuteTime": {
     "end_time": "2020-07-22T21:20:14.328739Z",
     "start_time": "2020-07-22T21:17:54.686Z"
    }
   },
   "outputs": [],
   "source": [
    "fx.get_experiment_archive_path(parameters=params)"
   ]
  },
  {
   "cell_type": "markdown",
   "metadata": {},
   "source": [
    "Actually running the `archive` method should copy any relevant output files\n",
    "from the `model_path` of the current active model into a subdirectory of `archive_path`."
   ]
  },
  {
   "cell_type": "code",
   "execution_count": null,
   "metadata": {
    "ExecuteTime": {
     "end_time": "2020-07-22T21:20:14.329768Z",
     "start_time": "2020-07-22T21:17:54.687Z"
    }
   },
   "outputs": [],
   "source": [
    "fx.archive(params)"
   ]
  },
  {
   "cell_type": "code",
   "execution_count": null,
   "metadata": {
    "ExecuteTime": {
     "end_time": "2020-07-22T21:20:14.330712Z",
     "start_time": "2020-07-22T21:17:54.688Z"
    }
   },
   "outputs": [],
   "source": [
    "show_dir(fx.local_directory)"
   ]
  },
  {
   "cell_type": "markdown",
   "metadata": {},
   "source": [
    "It is permissible, but not required, to simply copy the entire contents of the \n",
    "former to the latter, as is done in this example. However, if the current active model\n",
    "directory has a lot of boilerplate files that don't change with the inputs, or\n",
    "if it becomes full of intermediate or temporary files that definitely will never\n",
    "be used to compute performance measures, it can be advisable to selectively copy\n",
    "only relevant files. In that case, those files and whatever related sub-directory\n",
    "tree structure exists in the current active model should be replicated within the\n",
    "experiments archive directory."
   ]
  },
  {
   "cell_type": "markdown",
   "metadata": {},
   "source": [
    "## Normal Operation for Running Multiple Experiments"
   ]
  },
  {
   "cell_type": "markdown",
   "metadata": {},
   "source": [
    "For this demo, we'll create a design of experiments with only 8 experiments.\n",
    "The `design_experiments` method of the `RoadTestFileModel` object is not defined\n",
    "in the custom `core_files_demo` written for this model, but rather is a generic\n",
    "function provide by the TMIP-EMAT main library.\n",
    "Real applications will typically use a larger number of experiments, but this small number\n",
    "is sufficient to demonstrate the operation of the tools."
   ]
  },
  {
   "cell_type": "code",
   "execution_count": null,
   "metadata": {
    "ExecuteTime": {
     "end_time": "2020-07-22T21:20:14.331646Z",
     "start_time": "2020-07-22T21:17:54.690Z"
    }
   },
   "outputs": [],
   "source": [
    "design1 = fx.design_experiments(design_name='lhs_1', n_samples=8)\n",
    "design1"
   ]
  },
  {
   "cell_type": "markdown",
   "metadata": {},
   "source": [
    "The `run_experiments` command will automatically run the model once for each experiment in the named design.\n",
    "The demo command line version of the road test model is (intentionally) a little bit slow, so will take a few\n",
    "seconds to conduct these eight model experiment runs."
   ]
  },
  {
   "cell_type": "code",
   "execution_count": null,
   "metadata": {
    "ExecuteTime": {
     "end_time": "2020-07-22T21:20:14.332550Z",
     "start_time": "2020-07-22T21:17:54.691Z"
    }
   },
   "outputs": [],
   "source": [
    "fx.run_experiments(design_name='lhs_1')"
   ]
  },
  {
   "cell_type": "markdown",
   "metadata": {},
   "source": [
    "### Re-running Failed Experiments\n",
    "\n",
    "If you pay attention to the logged output, you might notice that one of the \n",
    "experiments (the last one) failed.  We can see `NaN` values in the outputs."
   ]
  },
  {
   "cell_type": "code",
   "execution_count": null,
   "metadata": {
    "ExecuteTime": {
     "end_time": "2020-07-22T21:20:14.333521Z",
     "start_time": "2020-07-22T21:17:54.692Z"
    }
   },
   "outputs": [],
   "source": [
    "results = fx.read_experiment_measures('lhs_1')\n",
    "results"
   ]
  },
  {
   "cell_type": "markdown",
   "metadata": {},
   "source": [
    "We can collect the id's of the failed experiments programmatically. To collect all the experiments that are\n",
    "missing any performance measure output, we can do this:"
   ]
  },
  {
   "cell_type": "code",
   "execution_count": null,
   "metadata": {
    "ExecuteTime": {
     "end_time": "2020-07-22T21:20:14.334557Z",
     "start_time": "2020-07-22T21:17:54.693Z"
    }
   },
   "outputs": [],
   "source": [
    "fails = results.isna().any(axis=1)\n",
    "failed_experiment_ids = fails.index[fails]\n",
    "failed_experiment_ids"
   ]
  },
  {
   "cell_type": "markdown",
   "metadata": {},
   "source": [
    "When there is an error (thrown as a `subprocess.CalledProcessError`)\n",
    "during the execution of a `FilesCoreModel`, the output from stdout\n",
    "and stderr are written to log files in the archive location, instead\n",
    "of having the legit model outputs written there.\n",
    "\n",
    "We can see the log output by reading in the log file, like this:"
   ]
  },
  {
   "cell_type": "code",
   "execution_count": null,
   "metadata": {
    "ExecuteTime": {
     "end_time": "2020-07-22T21:20:14.335778Z",
     "start_time": "2020-07-22T21:17:54.695Z"
    }
   },
   "outputs": [],
   "source": [
    "error_log = os.path.join(\n",
    "    fx.get_experiment_archive_path(9), \n",
    "    'error.stdout.log'\n",
    ")\n",
    "with open(error_log, 'r') as stdout:\n",
    "    error_log_content = stdout.read()\n",
    "    \n",
    "print(error_log_content)"
   ]
  },
  {
   "cell_type": "markdown",
   "metadata": {},
   "source": [
    "Here we see the log file is explicitly taunting us about \n",
    "randomly crashing the model run.  That's fine -- we wanted to\n",
    "crash the execution randomly to show what to do in this event, cause it happens \n",
    "sometimes.  Maybe a disk filled up, or there is an intermittent\n",
    "license problem that causes a failure one in a while.  If that's the\n",
    "case and we can fix it just by re-running, awesome!\n",
    "\n",
    "We can load just the failed experiments to try them again."
   ]
  },
  {
   "cell_type": "code",
   "execution_count": null,
   "metadata": {
    "ExecuteTime": {
     "end_time": "2020-07-22T21:20:14.337147Z",
     "start_time": "2020-07-22T21:17:54.696Z"
    }
   },
   "outputs": [],
   "source": [
    "failed_experiments = fx.read_experiment_parameters(experiment_ids=failed_experiment_ids)\n",
    "failed_experiments"
   ]
  },
  {
   "cell_type": "markdown",
   "metadata": {},
   "source": [
    "Normally, there is a \"short circuit\" process that will\n",
    "prevent re-running a core model experiment, instead the performance measure results\n",
    "will simply be loaded from the database, which is typically much faster than\n",
    "actually running the core model.  But, if the performance measures stored in the\n",
    "database are junk, we will not want to trigger the short circuit system, and\n",
    "actually run the full core model again.  To do so, we can disable the\n",
    "short circuit like this:"
   ]
  },
  {
   "cell_type": "code",
   "execution_count": null,
   "metadata": {
    "ExecuteTime": {
     "end_time": "2020-07-22T21:20:14.338403Z",
     "start_time": "2020-07-22T21:17:54.697Z"
    }
   },
   "outputs": [],
   "source": [
    "fx.allow_short_circuit = False"
   ]
  },
  {
   "cell_type": "markdown",
   "metadata": {},
   "source": [
    "Now we can re-run the failed experiment.  If it failed because of a transient error, \n",
    "e.g. a disk space problem that's been fixed, then perhaps we can simply re-run the model\n",
    "and it will work."
   ]
  },
  {
   "cell_type": "code",
   "execution_count": null,
   "metadata": {
    "ExecuteTime": {
     "end_time": "2020-07-22T21:20:14.339441Z",
     "start_time": "2020-07-22T21:17:54.699Z"
    }
   },
   "outputs": [],
   "source": [
    "fx.run_experiments(failed_experiments)"
   ]
  },
  {
   "cell_type": "markdown",
   "metadata": {},
   "source": [
    "Much better!  Now we can see we have a more complete set of outputs, without the NaN's.  Hooray!"
   ]
  },
  {
   "cell_type": "code",
   "execution_count": null,
   "metadata": {
    "ExecuteTime": {
     "end_time": "2020-07-22T21:20:14.340762Z",
     "start_time": "2020-07-22T21:17:54.700Z"
    }
   },
   "outputs": [],
   "source": [
    "results = fx.db.read_experiment_all(scope_name=fx.scope.name, design_name='lhs_1')\n",
    "results"
   ]
  },
  {
   "cell_type": "markdown",
   "metadata": {},
   "source": [
    "## Multiprocessing for Running Multiple Experiments\n",
    "\n",
    "The examples above are all single-process demonstrations of using TMIP-EMAT to run core model\n",
    "experiments.  If your core model itself is multi-threaded or otherwise is designed to make \n",
    "full use of your multi-core CPU, or if a single core model run will otherwise max out some\n",
    "computational resource (e.g. RAM, disk space) then single process operation should be sufficient.\n",
    "\n",
    "If, on the other hand, your core model is such that you can run multiple independent instances of\n",
    "the model side-by-side on the same machine, then you could benefit from a multiprocessing \n",
    "approach.  This can be accomplished by splitting a design of experiments over several\n",
    "processes that you start manually, or by using an automatic multiprocessing library such as \n",
    "`dask.distributed`."
   ]
  },
  {
   "cell_type": "markdown",
   "metadata": {},
   "source": [
    "### Running a Subset of Experiments Manually\n",
    "\n",
    "Suppose, for example, you wanted to distribute the workload of running experiments over several processes,\n",
    "or even over several computers. If each process has file system access to the same TMIP-EMAT database of\n",
    "experiments, we can orchestrate these experiments in parallel by manually splitting up the processes.\n",
    "\n",
    "To begin with, we'll have one process create a complete design of experiments, and save it to the \n",
    "database (which happens automatically here)."
   ]
  },
  {
   "cell_type": "code",
   "execution_count": null,
   "metadata": {
    "ExecuteTime": {
     "end_time": "2020-07-22T21:20:14.341892Z",
     "start_time": "2020-07-22T21:17:54.702Z"
    }
   },
   "outputs": [],
   "source": [
    "design2 = fx.design_experiments(design_name='lhs_2', n_samples=8, random_seed=42)"
   ]
  },
  {
   "cell_type": "markdown",
   "metadata": {},
   "source": [
    "Then, we can create set up a copy of the same model in a different process, even on a different\n",
    "machine, as long as we point back to the same original database file. This implies the different\n",
    "process has access to the file system where the original file is stored. It is valuable to\n",
    "read and write to the same database file, not just a copy of the file, as this will obviate the need\n",
    "to sync the experimental data manually afterwards.  In this demo, we'll \n",
    "just create a new directory to work in, but we'll point to the database in the original directory.\n",
    "Instead of allowing our model to implicitly create a new database file in the new directory, we'll\n",
    "instantiate a SQLiteDB object pointing to the original database."
   ]
  },
  {
   "cell_type": "code",
   "execution_count": null,
   "metadata": {
    "ExecuteTime": {
     "end_time": "2020-07-22T21:20:14.343104Z",
     "start_time": "2020-07-22T21:17:54.703Z"
    }
   },
   "outputs": [],
   "source": [
    "database_filename = fx.db.database_path\n",
    "db2 = emat.SQLiteDB(database_filename)"
   ]
  },
  {
   "cell_type": "markdown",
   "metadata": {},
   "source": [
    "Now, `db2` is a `emat.SQLiteDB` object, which wraps a *new* connection to the *original* database.\n",
    "Then, we'll pass that `db2` explicitly to the new `RoadTestFileModel` constructor, which will\n",
    "create a complete copy of our model (other than the database) in a new directory."
   ]
  },
  {
   "cell_type": "code",
   "execution_count": null,
   "metadata": {
    "ExecuteTime": {
     "end_time": "2020-07-22T21:20:14.344260Z",
     "start_time": "2020-07-22T21:17:54.704Z"
    }
   },
   "outputs": [],
   "source": [
    "fx2 = core_files_demo.RoadTestFileModel(db=db2)"
   ]
  },
  {
   "cell_type": "markdown",
   "metadata": {},
   "source": [
    "To run a particular slice of a design of experiments, we need to load the experimental design first, \n",
    "and then pass that slice to the `run_experiments` function, instead of just giving the `design_name`."
   ]
  },
  {
   "cell_type": "code",
   "execution_count": null,
   "metadata": {
    "ExecuteTime": {
     "end_time": "2020-07-22T21:20:14.345305Z",
     "start_time": "2020-07-22T21:17:54.706Z"
    }
   },
   "outputs": [],
   "source": [
    "design2 = fx.read_experiment_parameters('lhs_2')"
   ]
  },
  {
   "cell_type": "markdown",
   "metadata": {},
   "source": [
    "For splitting the work across a number of similarly capable processes or machines,\n",
    "the double-colon slice is convenient.  If, for example, you are splitting the work\n",
    "over 4 computers, you can run each with slices `0::4`, `1::4`, `2::4`, and `3::4`.\n",
    "This slices in skip-step manner, so slice below will run every 4th experiment\n",
    "from the design, starting with experiment index 0 (i.e. the first one).  "
   ]
  },
  {
   "cell_type": "code",
   "execution_count": null,
   "metadata": {
    "ExecuteTime": {
     "end_time": "2020-07-22T21:20:14.346384Z",
     "start_time": "2020-07-22T21:17:54.707Z"
    }
   },
   "outputs": [],
   "source": [
    "fx2.run_experiments(design2.iloc[0::4])"
   ]
  },
  {
   "cell_type": "markdown",
   "metadata": {},
   "source": [
    "Because we have linked the second model instance back to the same database, after\n",
    "these experiments have finished we can access the results from the original `fx`\n",
    "instance."
   ]
  },
  {
   "cell_type": "code",
   "execution_count": null,
   "metadata": {
    "ExecuteTime": {
     "end_time": "2020-07-22T21:20:14.347427Z",
     "start_time": "2020-07-22T21:17:54.708Z"
    }
   },
   "outputs": [],
   "source": [
    "fx.read_experiment_measures('lhs_2')"
   ]
  },
  {
   "cell_type": "markdown",
   "metadata": {},
   "source": [
    "It is important to note that for this manual multiprocessing technique to work, where\n",
    "different processes run the model simultaneously, each process must be in a seperate \n",
    "Python instance (e.g. in seperate Jupyter notebooks, not in the same notebook as shown here)."
   ]
  },
  {
   "cell_type": "markdown",
   "metadata": {},
   "source": [
    "### Automatic Multiprocessing for Running Multiple Experiments\n",
    "\n",
    "The examples above are all essentially single-process demonstrations of using TMIP-EMAT to run core model\n",
    "experiments, either by running all in one single process, or by having a user manually instantiate a number \n",
    "of single processes.  If your core model itself is multi-threaded or otherwise is designed to make \n",
    "full use of your multi-core CPU, or if a single core model run will otherwise max out some\n",
    "computational resource (e.g. RAM, disk space) then single process operation should be sufficient.\n",
    "\n",
    "If, on the other hand, your model is such that you can run multiple independent instances of\n",
    "the model side-by-side on the same machine, but you don't want to manage the process of manually, \n",
    "then you could benefit from a multiprocessing approach that uses the `dask.distributed` library.  To\n",
    "demonstrate this, we'll create yet another small design of experiments to run."
   ]
  },
  {
   "cell_type": "code",
   "execution_count": null,
   "metadata": {
    "ExecuteTime": {
     "end_time": "2020-07-22T21:20:14.348619Z",
     "start_time": "2020-07-22T21:17:54.710Z"
    }
   },
   "outputs": [],
   "source": [
    "design3 = fx.design_experiments(design_name='lhs_3', n_samples=8, random_seed=3)\n",
    "design3"
   ]
  },
  {
   "cell_type": "markdown",
   "metadata": {},
   "source": [
    "The demo module is set up to facilitate distributed multiprocessing. During the `setup`\n",
    "step, the code detects if it is being run in a distributed \"worker\" environment instead of\n",
    "in a normal Python environment.  If the \"worker\" environment is detected, then a copy\n",
    "of the entire files-based model is made into the worker's local workspace, and the model\n",
    "is run there instead of in the master workspace.  This allows each worker to edit the files\n",
    "independently and simultaneously, without disturbing other parallel workers.\n",
    "\n",
    "With this small modification, we are ready to run this demo model in parallel subprocesses.\n",
    "to do, we simply import the `get_client` function, and use that for the `evaluator` argument\n",
    "in the `run_experiments` method."
   ]
  },
  {
   "cell_type": "code",
   "execution_count": null,
   "metadata": {
    "ExecuteTime": {
     "end_time": "2020-07-22T21:20:14.349780Z",
     "start_time": "2020-07-22T21:17:54.711Z"
    }
   },
   "outputs": [],
   "source": [
    "from emat.util.distributed import get_client # for multi-process operation\n",
    "fx.run_experiments(design=design3, evaluator=get_client())"
   ]
  },
  {
   "cell_type": "markdown",
   "metadata": {},
   "source": [
    "## Running without a Database\n",
    "\n",
    "It is possible to use the methods from TMIP-EMAT without connecting to a \n",
    "database at all, although this is not recommended.  The demo `RoadTestFileModel`\n",
    "by default creates a database for you if one is not given, but it also \n",
    "allows explicitly disclaiming a database by setting the `db` argument to `False`."
   ]
  },
  {
   "cell_type": "code",
   "execution_count": null,
   "metadata": {
    "ExecuteTime": {
     "end_time": "2020-07-22T21:20:14.351127Z",
     "start_time": "2020-07-22T21:17:54.712Z"
    }
   },
   "outputs": [],
   "source": [
    "fx_nodb = core_files_demo.RoadTestFileModel(db=False)"
   ]
  },
  {
   "cell_type": "markdown",
   "metadata": {},
   "source": [
    "Without a database, the methods still work, but the data is not stored anywhere persistent.\n",
    "So, for example, the `design_experiments` will return a pandas DataFrame containing a \n",
    "design, but not store it."
   ]
  },
  {
   "cell_type": "code",
   "execution_count": null,
   "metadata": {
    "ExecuteTime": {
     "end_time": "2020-07-22T21:20:14.352264Z",
     "start_time": "2020-07-22T21:17:54.713Z"
    }
   },
   "outputs": [],
   "source": [
    "design4 = fx_nodb.design_experiments(design_name='lhs_4', n_samples=8, random_seed=4)\n",
    "design4"
   ]
  },
  {
   "cell_type": "markdown",
   "metadata": {},
   "source": [
    "If you try to run these experiments by giving the design name, it will fail,\n",
    "because there is no database to query to convert that name into experimental\n",
    "parameters."
   ]
  },
  {
   "cell_type": "code",
   "execution_count": null,
   "metadata": {
    "ExecuteTime": {
     "end_time": "2020-07-22T21:20:14.353508Z",
     "start_time": "2020-07-22T21:17:54.715Z"
    }
   },
   "outputs": [],
   "source": [
    "try:\n",
    "    fx_nodb.run_experiments('lhs_4')\n",
    "except ValueError as error:\n",
    "    log.error(repr(error))"
   ]
  },
  {
   "cell_type": "code",
   "execution_count": null,
   "metadata": {},
   "outputs": [],
   "source": []
  },
  {
   "cell_type": "code",
   "execution_count": null,
   "metadata": {
    "ExecuteTime": {
     "end_time": "2020-07-22T21:20:14.354699Z",
     "start_time": "2020-07-22T21:17:54.717Z"
    }
   },
   "outputs": [],
   "source": [
    "from emat.examples import road_test"
   ]
  },
  {
   "cell_type": "code",
   "execution_count": null,
   "metadata": {
    "ExecuteTime": {
     "end_time": "2020-07-22T21:20:14.355737Z",
     "start_time": "2020-07-22T21:17:54.718Z"
    }
   },
   "outputs": [],
   "source": [
    "_s, _db, _m = road_test()"
   ]
  },
  {
   "cell_type": "code",
   "execution_count": null,
   "metadata": {
    "ExecuteTime": {
     "end_time": "2020-07-22T21:20:14.356694Z",
     "start_time": "2020-07-22T21:17:54.719Z"
    }
   },
   "outputs": [],
   "source": [
    "_m.run_experiments(design3, db=False)"
   ]
  },
  {
   "cell_type": "code",
   "execution_count": null,
   "metadata": {},
   "outputs": [],
   "source": []
  }
 ],
 "metadata": {
  "jupytext": {
   "formats": "ipynb,py:percent"
  },
  "kernelspec": {
   "display_name": "Python 3",
   "language": "python",
   "name": "python3"
  },
  "language_info": {
   "codemirror_mode": {
    "name": "ipython",
    "version": 3
   },
   "file_extension": ".py",
   "mimetype": "text/x-python",
   "name": "python",
   "nbconvert_exporter": "python",
   "pygments_lexer": "ipython3",
   "version": "3.7.6"
  },
  "pycharm": {
   "stem_cell": {
    "cell_type": "raw",
    "metadata": {
     "collapsed": false
    },
    "source": []
   }
  },
  "toc": {
   "base_numbering": 1,
   "nav_menu": {},
   "number_sections": true,
   "sideBar": true,
   "skip_h1_title": false,
   "title_cell": "Table of Contents",
   "title_sidebar": "Contents",
   "toc_cell": false,
   "toc_position": {},
   "toc_section_display": true,
   "toc_window_display": true
  }
 },
 "nbformat": 4,
 "nbformat_minor": 4
}
