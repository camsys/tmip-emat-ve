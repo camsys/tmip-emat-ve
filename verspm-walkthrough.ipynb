{
 "cells": [
  {
   "cell_type": "markdown",
   "metadata": {},
   "source": [
    "# VERSPM Model Interface"
   ]
  },
  {
   "cell_type": "code",
   "execution_count": null,
   "metadata": {},
   "outputs": [],
   "source": [
    "import emat\n",
    "import os"
   ]
  },
  {
   "cell_type": "markdown",
   "metadata": {},
   "source": [
    "This notebook is meant to illustrate the use of TMIP-EMAT's\n",
    "with VisionEval's RSPM Model.  It provides an illustration of how to use \n",
    "TMIP-EMAT and the interface to run the model."
   ]
  },
  {
   "cell_type": "markdown",
   "metadata": {},
   "source": [
    "In this example notebook, we will activate some logging features.  The \n",
    "same logging utility is written directly into the EMAT and the\n",
    "`emat_verspm.py` module. This will give us a view of what's happening\n",
    "inside the code as it runs."
   ]
  },
  {
   "cell_type": "code",
   "execution_count": null,
   "metadata": {},
   "outputs": [],
   "source": [
    "import logging\n",
    "from emat.util.loggers import log_to_stderr\n",
    "log = log_to_stderr(logging.INFO)"
   ]
  },
  {
   "cell_type": "markdown",
   "metadata": {},
   "source": [
    "## Connecting to the Model"
   ]
  },
  {
   "cell_type": "markdown",
   "metadata": {},
   "source": [
    "The interface for this model is located in the `emat_verspm.py`\n",
    "module, which we will import into this notebook. "
   ]
  },
  {
   "cell_type": "code",
   "execution_count": null,
   "metadata": {},
   "outputs": [],
   "source": [
    "import emat_verspm"
   ]
  },
  {
   "cell_type": "markdown",
   "metadata": {},
   "source": [
    "Let's initialize a database file to store results."
   ]
  },
  {
   "cell_type": "code",
   "execution_count": null,
   "metadata": {},
   "outputs": [],
   "source": [
    "database_path = os.path.expanduser(\"~/EMAT-VE/ve2-rspm-2020-10-17.db\")\n",
    "initialize = not os.path.exists(database_path)\n",
    "db = emat.SQLiteDB(database_path, initialize=initialize)"
   ]
  },
  {
   "cell_type": "markdown",
   "metadata": {},
   "source": [
    "Within this module, you will find a definition for the \n",
    "`VERSPModel` class.  We initialize an instance of the model interface object."
   ]
  },
  {
   "cell_type": "code",
   "execution_count": null,
   "metadata": {},
   "outputs": [],
   "source": [
    "fx = emat_verspm.VERSPModel(db=db)"
   ]
  },
  {
   "cell_type": "markdown",
   "metadata": {},
   "source": [
    "## Single Run Operation for Development and Debugging"
   ]
  },
  {
   "cell_type": "markdown",
   "metadata": {},
   "source": [
    "Before we take on the task of running this model in exploratory mode, we'll\n",
    "want to make sure that our interface code is working correctly. To check each\n",
    "of the components of the interface (setup, run, post-process, load-measures,\n",
    "and archive), we can run each individually in sequence, and inspect the results\n",
    "to make sure they are correct."
   ]
  },
  {
   "cell_type": "markdown",
   "metadata": {},
   "source": [
    "### setup\n",
    "\n",
    "This method is the place where the core model *set up* takes place,\n",
    "including creating or modifying files as necessary to prepare\n",
    "for a core model run.  When running experiments, this method\n",
    "is called once for each core model experiment, where each experiment\n",
    "is defined by a set of particular values for both the exogenous\n",
    "uncertainties and the policy levers.  These values are passed to\n",
    "the experiment only here, and not in the `run` method itself.\n",
    "This facilitates debugging, as the `setup` method can be used \n",
    "without the `run` method, as we do here. This allows us to manually\n",
    "inspect the prepared files and ensure they are correct before\n",
    "actually running a potentially expensive model.\n",
    "\n",
    "Each input exogenous uncertainty or policy lever can potentially\n",
    "be used to manipulate multiple different aspects of the underlying\n",
    "core model.  For example, a policy lever that includes a number of\n",
    "discrete future network \"build\" options might trigger the replacement\n",
    "of multiple related network definition files.  Or, a single uncertainty\n",
    "relating to the cost of fuel might scale both a parameter linked to\n",
    "the modeled per-mile cost of operating an automobile and the\n",
    "modeled total cost of fuel used by transit services."
   ]
  },
  {
   "cell_type": "markdown",
   "metadata": {},
   "source": [
    "In our RSPM module's `setup`, parameters that are omitted are set at their\n",
    "deafult values, but we can give a subset of parameters with non-default values\n",
    "if we like."
   ]
  },
  {
   "cell_type": "code",
   "execution_count": null,
   "metadata": {},
   "outputs": [],
   "source": [
    "params = {\n",
    "    'ValueOfTime': 13,\n",
    "    'Income': 46300,\n",
    "    'Transit': 1.34,\n",
    "    'ElectricCost': 0.14,\n",
    "    'FuelCost': 4.25,\n",
    "} \n",
    "\n",
    "fx.setup(params)"
   ]
  },
  {
   "cell_type": "markdown",
   "metadata": {},
   "source": [
    "### run"
   ]
  },
  {
   "cell_type": "markdown",
   "metadata": {},
   "source": [
    "The `run` method is the place where the core model run takes place.\n",
    "Note that this method takes no arguments; all the input\n",
    "exogenous uncertainties and policy levers are delivered to the\n",
    "core model in the `setup` method, which will be executed prior\n",
    "to calling this method. This facilitates debugging, as the `setup`\n",
    "method can be used without the `run` method as we did above, allowing\n",
    "us to manually inspect the prepared files and ensure they\n",
    "are correct before actually running a potentially expensive model."
   ]
  },
  {
   "cell_type": "code",
   "execution_count": null,
   "metadata": {},
   "outputs": [],
   "source": [
    "fx.run()"
   ]
  },
  {
   "cell_type": "markdown",
   "metadata": {},
   "source": [
    "The `VERSPModel` class includes a custom `last_run_logs` method,\n",
    "which displays both the \"stdout\" and \"stderr\" logs generated by the \n",
    "model executable during the most recent call to the `run` method.\n",
    "We can use this method for debugging purposes, to identify why the \n",
    "core model crashes (if it does crash).  In this first test it did not\n",
    "crash, and the logs look good."
   ]
  },
  {
   "cell_type": "code",
   "execution_count": null,
   "metadata": {},
   "outputs": [],
   "source": [
    "fx.last_run_logs()"
   ]
  },
  {
   "cell_type": "markdown",
   "metadata": {},
   "source": [
    "If we look in the model's output directory, we see all the output files we need."
   ]
  },
  {
   "cell_type": "code",
   "execution_count": null,
   "metadata": {},
   "outputs": [],
   "source": [
    "from emat.util.show_dir import show_dir\n",
    "show_dir(os.path.join(fx.master_directory.name, 'VERSPM', 'output'))"
   ]
  },
  {
   "cell_type": "markdown",
   "metadata": {},
   "source": [
    "### post-process\n",
    "\n",
    "There is a `post_process` step that is separate from the `run` step.\n",
    "\n",
    "For VERSPM, the post-processing replicates the calculations needed to\n",
    "create some of the same summary performance measures as the _R_ version of\n",
    "VisionEval does when run with scenarios."
   ]
  },
  {
   "cell_type": "code",
   "execution_count": null,
   "metadata": {},
   "outputs": [],
   "source": [
    "fx.post_process()"
   ]
  },
  {
   "cell_type": "markdown",
   "metadata": {},
   "source": [
    "### load-measures\n",
    "\n",
    "The `load_measures` method is the place to actually reach into\n",
    "files in the RSPM's run results and extract particular performance\n",
    "measures, returning a dictionary of key-value pairs for the \n",
    "various performance measures.  "
   ]
  },
  {
   "cell_type": "code",
   "execution_count": null,
   "metadata": {},
   "outputs": [],
   "source": [
    "fx.load_measures()"
   ]
  },
  {
   "cell_type": "markdown",
   "metadata": {},
   "source": [
    "### archive\n",
    "\n",
    "The `archive` method copies the relevant model output files to an archive location for \n",
    "longer term storage.  The particular archive location is based on the experiment id\n",
    "for a particular experiment plus a unique run id, and can be customized if desired by overloading the \n",
    "`get_experiment_archive_path` method.  This customization is not done in this demo,\n",
    "so the default location is used."
   ]
  },
  {
   "cell_type": "markdown",
   "metadata": {},
   "source": [
    "Actually running the `archive` method should copy any relevant output files\n",
    "from the `model_path` of the current active model into a subdirectory of `archive_path`."
   ]
  },
  {
   "cell_type": "code",
   "execution_count": null,
   "metadata": {},
   "outputs": [],
   "source": [
    "fx.archive(params)"
   ]
  },
  {
   "cell_type": "markdown",
   "metadata": {},
   "source": [
    "It is permissible, but not required, to simply copy the entire contents of the \n",
    "former to the latter, as is done in this example. However, if the current active model\n",
    "directory has a lot of boilerplate files that don't change with the inputs, or\n",
    "if it becomes full of intermediate or temporary files that definitely will never\n",
    "be used to compute performance measures, it can be advisable to selectively copy\n",
    "only relevant files. In that case, those files and whatever related sub-directory\n",
    "tree structure exists in the current active model should be replicated within the\n",
    "experiments archive directory."
   ]
  },
  {
   "cell_type": "markdown",
   "metadata": {},
   "source": [
    "## Running a Single Reference Experiment"
   ]
  },
  {
   "cell_type": "markdown",
   "metadata": {},
   "source": [
    "Once we have finished the development of our interface, we don't need to worry about \n",
    "running these individual parts. Instead, we can simply trigger one or more full \n",
    "core model RSPM runs from a single command.\n",
    "\n",
    "For example, we can run a reference experiment with all default values to establish \n",
    "a baseline set of results."
   ]
  },
  {
   "cell_type": "code",
   "execution_count": null,
   "metadata": {},
   "outputs": [],
   "source": [
    "fx.run_reference_experiment()"
   ]
  },
  {
   "cell_type": "markdown",
   "metadata": {},
   "source": [
    "## Single Thread Operation for Running Multiple Experiments"
   ]
  },
  {
   "cell_type": "markdown",
   "metadata": {},
   "source": [
    "For this demo, we'll create a design of experiments with only 3 experiments.\n",
    "The `design_experiments` method of the `VERSPModel` object is not defined\n",
    "in the custom code written for this model, but rather is a generic\n",
    "function provide by the TMIP-EMAT main library.\n",
    "Real applications will typically use a larger number of experiments, but this small number\n",
    "is sufficient to demonstrate the operation of the tools."
   ]
  },
  {
   "cell_type": "code",
   "execution_count": null,
   "metadata": {},
   "outputs": [],
   "source": [
    "design1 = fx.design_experiments(n_samples=3)\n",
    "design1"
   ]
  },
  {
   "cell_type": "markdown",
   "metadata": {},
   "source": [
    "The `run_experiments` command will automatically run the model once for each experiment in the named design."
   ]
  },
  {
   "cell_type": "code",
   "execution_count": null,
   "metadata": {},
   "outputs": [],
   "source": [
    "fx.run_experiments(design1)"
   ]
  },
  {
   "cell_type": "markdown",
   "metadata": {},
   "source": [
    "## Multiprocessing for Running Multiple Experiments\n",
    "\n",
    "The examples above are all single-process demonstrations of using TMIP-EMAT to run core model\n",
    "VERSPM experiments. The RSPM model itself is single-threaded, but you can run multiple independent instances of\n",
    "the model side-by-side on the same machine, so you can benefit from a multiprocessing \n",
    "approach.  This can be accomplished by splitting a design of experiments over several\n",
    "processes that you start manually, or by using an automatic multiprocessing library such as \n",
    "`dask.distributed`."
   ]
  },
  {
   "cell_type": "code",
   "execution_count": null,
   "metadata": {},
   "outputs": [],
   "source": [
    "design2 = fx.design_experiments(random_seed=3, sampler='ulhs')\n",
    "design2"
   ]
  },
  {
   "cell_type": "markdown",
   "metadata": {},
   "source": [
    "The module is set up to facilitate distributed multiprocessing. During the `setup`\n",
    "step, the code detects if it is being run in a distributed \"worker\" environment instead of\n",
    "in a normal Python environment.  If the \"worker\" environment is detected, then a copy\n",
    "of the entire VERSPM model is made into the worker's local workspace, and the model\n",
    "is run there instead of in the master workspace.  This allows each worker to edit the files\n",
    "independently and simultaneously, without disturbing other parallel workers.\n",
    "\n",
    "To run the model with parallel subprocesses, we can use the asynchronous evaluator\n",
    "built into TMIP-EMAT. This model running engine will start background processes and \n",
    "run the model without locking up this Jupyter Notebook, so we can interactively inspect\n",
    "the progress of the model runs while they are running."
   ]
  },
  {
   "cell_type": "code",
   "execution_count": null,
   "metadata": {},
   "outputs": [],
   "source": [
    "work = fx.async_experiments(design=design2, db=db, batch_size=1)"
   ]
  },
  {
   "cell_type": "code",
   "execution_count": null,
   "metadata": {},
   "outputs": [],
   "source": [
    "work.progress()"
   ]
  },
  {
   "cell_type": "code",
   "execution_count": null,
   "metadata": {},
   "outputs": [],
   "source": [
    "work.progress()"
   ]
  },
  {
   "cell_type": "code",
   "execution_count": null,
   "metadata": {},
   "outputs": [],
   "source": [
    "work.progress()"
   ]
  },
  {
   "cell_type": "code",
   "execution_count": null,
   "metadata": {},
   "outputs": [],
   "source": [
    "fx.db.read_design_names(None)"
   ]
  },
  {
   "cell_type": "code",
   "execution_count": null,
   "metadata": {},
   "outputs": [],
   "source": [
    "fx.db.read_experiment_all(None, runs='all', with_run_ids=True)"
   ]
  },
  {
   "cell_type": "code",
   "execution_count": null,
   "metadata": {},
   "outputs": [],
   "source": []
  }
 ],
 "metadata": {
  "jupytext": {
   "formats": "ipynb,py:percent"
  },
  "kernelspec": {
   "display_name": "Python 3",
   "language": "python",
   "name": "python3"
  },
  "language_info": {
   "codemirror_mode": {
    "name": "ipython",
    "version": 3
   },
   "file_extension": ".py",
   "mimetype": "text/x-python",
   "name": "python",
   "nbconvert_exporter": "python",
   "pygments_lexer": "ipython3",
   "version": "3.8.6"
  },
  "pycharm": {
   "stem_cell": {
    "cell_type": "raw",
    "metadata": {
     "collapsed": false
    },
    "source": []
   }
  },
  "toc": {
   "base_numbering": 1,
   "nav_menu": {},
   "number_sections": true,
   "sideBar": true,
   "skip_h1_title": false,
   "title_cell": "Table of Contents",
   "title_sidebar": "Contents",
   "toc_cell": false,
   "toc_position": {
    "height": "calc(100% - 180px)",
    "left": "10px",
    "top": "150px",
    "width": "220.2375030517578px"
   },
   "toc_section_display": true,
   "toc_window_display": true
  }
 },
 "nbformat": 4,
 "nbformat_minor": 4
}
