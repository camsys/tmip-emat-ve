{
 "cells": [
  {
   "cell_type": "markdown",
   "metadata": {},
   "source": [
    "# VERSPM Model Interface"
   ]
  },
  {
   "cell_type": "code",
   "execution_count": 1,
   "metadata": {
    "ExecuteTime": {
     "end_time": "2020-07-23T19:15:13.960077Z",
     "start_time": "2020-07-23T19:15:11.410984Z"
    }
   },
   "outputs": [],
   "source": [
    "import emat\n",
    "import os\n",
    "import pandas as pd\n",
    "import numpy as np\n",
    "import gzip\n",
    "from emat.util.show_dir import show_dir, show_file_contents"
   ]
  },
  {
   "cell_type": "markdown",
   "metadata": {},
   "source": [
    "This notebook is meant to illustrate the use of TMIP-EMAT's\n",
    "various modes of operation.  It provides an illustration of how to use \n",
    "TMIP-EMAT and the demo interface to run the command line version\n",
    "of the [Road Test](https://tmip-emat.github.io/source/emat.examples/RoadTest/road_test_yaml.html) \n",
    "model. A similar approach can be developed to run\n",
    "any transportation model that can be run from the command line, including\n",
    "for proprietary modeling tools that are typically run from a graphical\n",
    "user interface (GUI) but that provide command line access also."
   ]
  },
  {
   "cell_type": "markdown",
   "metadata": {},
   "source": [
    "In this example notebook, we will activate some logging features.  The \n",
    "same logging utility is written directly into the EMAT and the\n",
    "`core_files_demo.py` module. This will give us a view of what's happening\n",
    "inside the code as it runs."
   ]
  },
  {
   "cell_type": "code",
   "execution_count": 2,
   "metadata": {
    "ExecuteTime": {
     "end_time": "2020-07-23T19:15:13.966092Z",
     "start_time": "2020-07-23T19:15:13.962502Z"
    }
   },
   "outputs": [],
   "source": [
    "import logging\n",
    "from emat.util.loggers import log_to_stderr\n",
    "log = log_to_stderr(logging.INFO)"
   ]
  },
  {
   "cell_type": "markdown",
   "metadata": {},
   "source": [
    "## Connecting to the Model"
   ]
  },
  {
   "cell_type": "markdown",
   "metadata": {},
   "source": [
    "The interface for this model is located in the `core_files_demo.py`\n",
    "module, which we will import into this notebook.  This file is extensively\n",
    "documented in comments, and is a great starting point for new users\n",
    "who want to write an interface for a new bespoke travel demand model."
   ]
  },
  {
   "cell_type": "code",
   "execution_count": 3,
   "metadata": {
    "ExecuteTime": {
     "end_time": "2020-07-23T19:15:13.974657Z",
     "start_time": "2020-07-23T19:15:13.968413Z"
    }
   },
   "outputs": [],
   "source": [
    "import emat_verspm"
   ]
  },
  {
   "cell_type": "markdown",
   "metadata": {},
   "source": [
    "Within this module, you will find a definition for the \n",
    "`RoadTestFileModel` class.\n",
    "\n",
    "We initialize an instance of the model interface object.\n",
    "If you look at the module code, you'll note the `__init__` function\n",
    "does a number of things, including creating a temporary directory\n",
    "to work in, copying the needed files into this temporary directory,\n",
    "loading the scope, and creating a SQLite database to work within.\n",
    "For your implementation, you might or might not do any of these steps.\n",
    "In particular, you'll probably want to use a database that is\n",
    "not in a temporary location, so that the results will be available\n",
    "after this notebook is closed."
   ]
  },
  {
   "cell_type": "code",
   "execution_count": 4,
   "metadata": {
    "ExecuteTime": {
     "end_time": "2020-07-23T19:15:14.034992Z",
     "start_time": "2020-07-23T19:15:13.976831Z"
    }
   },
   "outputs": [
    {
     "name": "stderr",
     "output_type": "stream",
     "text": [
      "[00:03.14] MainProcess/WARNING: changing cwd to /var/folders/js/bk_dt9015j79_f6bxnc44dsr0000gp/T/tmpn3zjrpw2\n",
      "[00:03.16] MainProcess/INFO: running script scope.sql\n",
      "[00:03.16] MainProcess/INFO: running script exp_design.sql\n",
      "[00:03.17] MainProcess/INFO: running script meta_model.sql\n"
     ]
    }
   ],
   "source": [
    "fx = emat_verspm.VERSPModel()"
   ]
  },
  {
   "cell_type": "code",
   "execution_count": null,
   "metadata": {},
   "outputs": [],
   "source": []
  },
  {
   "cell_type": "markdown",
   "metadata": {},
   "source": [
    "Once we have loaded the `RoadTestFileModel` class, we have\n",
    "a number of files available in the \"master_directory\" that \n",
    "was created as that temporary directory:"
   ]
  },
  {
   "cell_type": "markdown",
   "metadata": {},
   "source": [
    "## Understanding Directories\n",
    "\n",
    "The TMIP-EMAT interface design for files-based bespoke models uses\n",
    "pointers for several directories to control the operation of the \n",
    "model.\n",
    "\n",
    "- **local_directory**  \n",
    "    This is the working directory for this instance of TMIP-EMAT,\n",
    "    not that for the core model itself. Typically it can be Python's \n",
    "    usual current working directory, accessible via `os.getcwd()`.\n",
    "    In this directory typically you'll have a TMIP-EMAT model \n",
    "    configuration *yaml* file, a scope definition *yaml* file, and\n",
    "    a sub-directory containing the files needed to run the core model\n",
    "    itself.\n",
    "\n",
    "- **model_path**  \n",
    "    The relative path from the `local_directory` to the directory where\n",
    "    the core model files are located.  When the core model itself is actually\n",
    "    run, this should be to the \"current working directory\" for that run.\n",
    "    The `model_path` must be given in the model config *yaml* file.\n",
    "\n",
    "- **rel_output_path**  \n",
    "    The relative path from the `model_path` to the directory where\n",
    "    the core model output files are located. The default value of this \n",
    "    path is \"./Outputs\" but this can be overridden by setting \n",
    "    `rel_output_path` in the model config *yaml* file. If the outputs\n",
    "    are comingled with other input files in the core model directory,\n",
    "    this can be set to \".\" (just a dot).\n",
    "\n",
    "- **archive_path**  \n",
    "    The path where model archive directories can be found. This path\n",
    "    must be given in the model config *yaml* file. It can be given as\n",
    "    an absolute path, or a relative path. If it is a relative path, \n",
    "    it should be relative to the `local_directory`.\n",
    "    \n",
    "These directories, especially the ones other than the `local_directory`,\n",
    "are defined in a model configuration *yaml* file. This makes it easy to\n",
    "change the directory pointers when moving TMIP-EMAT between different\n",
    "machines that may have different file system structures."
   ]
  },
  {
   "cell_type": "markdown",
   "metadata": {},
   "source": [
    "## Single Run Operation for Development and Debugging"
   ]
  },
  {
   "cell_type": "markdown",
   "metadata": {},
   "source": [
    "Before we take on the task of running this model in exploratory mode, we'll\n",
    "want to make sure that our interface code is working correctly. To check each\n",
    "of the components of the interface (setup, run, post-process, load-measures,\n",
    "and archive), we can run each individually in sequence, and inspect the results\n",
    "to make sure they are correct."
   ]
  },
  {
   "cell_type": "markdown",
   "metadata": {},
   "source": [
    "### setup\n",
    "\n",
    "This method is the place where the core model *set up* takes place,\n",
    "including creating or modifying files as necessary to prepare\n",
    "for a core model run.  When running experiments, this method\n",
    "is called once for each core model experiment, where each experiment\n",
    "is defined by a set of particular values for both the exogenous\n",
    "uncertainties and the policy levers.  These values are passed to\n",
    "the experiment only here, and not in the `run` method itself.\n",
    "This facilitates debugging, as the `setup` method can be used \n",
    "without the `run` method, as we do here. This allows us to manually\n",
    "inspect the prepared files and ensure they are correct before\n",
    "actually running a potentially expensive model.\n",
    "\n",
    "Each input exogenous uncertainty or policy lever can potentially\n",
    "be used to manipulate multiple different aspects of the underlying\n",
    "core model.  For example, a policy lever that includes a number of\n",
    "discrete future network \"build\" options might trigger the replacement\n",
    "of multiple related network definition files.  Or, a single uncertainty\n",
    "relating to the cost of fuel might scale both a parameter linked to\n",
    "the modeled per-mile cost of operating an automobile and the\n",
    "modeled total cost of fuel used by transit services."
   ]
  },
  {
   "cell_type": "markdown",
   "metadata": {},
   "source": [
    "For this demo model, running the core model itself in files mode \n",
    "requires two configuration files to be available, one for levers and\n",
    "another for uncertainties.  These two files are provided in the demo\n",
    "in two ways: as a runnable base file (for the levers) and as a template\n",
    "file (for the uncertainties)."
   ]
  },
  {
   "cell_type": "markdown",
   "metadata": {},
   "source": [
    "The levers file is a *ready-to-use* file (for this demo, in YAML format,\n",
    "although your model may use a different file format for input files).\n",
    "It has default values pre-coded into the file, and to modify this \n",
    "file for use by EMAT the `setup` method needs to parse and edit this\n",
    "file to swap out the default values for new ones in each experiment.\n",
    "This can be done using regular expressions (as in this demo), or any other method you\n",
    "like to edit the file appropriately.  The advantage of this approach\n",
    "is that the base file is ready to use with the core model as-is, facilitating\n",
    "the use of this file outside the EMAT context."
   ]
  },
  {
   "cell_type": "code",
   "execution_count": 5,
   "metadata": {
    "ExecuteTime": {
     "end_time": "2020-07-23T19:15:14.038543Z",
     "start_time": "2020-07-23T19:15:14.036608Z"
    }
   },
   "outputs": [],
   "source": [
    "#show_file_contents(fx.master_directory.name, 'road-test-files', 'demo-inputs-l.yml')"
   ]
  },
  {
   "cell_type": "markdown",
   "metadata": {},
   "source": [
    "By contrast, the uncertainties file is in a *template* format. The\n",
    "values of the parameters that will be manipulated by EMAT for each \n",
    "experiment are not given by default values, but instead \n",
    "each value to be set is indicated in the file by a unique token that is easy to\n",
    "search and replace, and definitely not something that appear in any script otherwise.\n",
    "This approach makes the text-substitution code that is used in this module much\n",
    "simpler and less prone to bugs.  But there is a small downside of this approach:\n",
    "every parameter must definitely be replaced in this process, as the template file\n",
    "is unusable outside the EMAT context, and also every unique token needs to be replaced. "
   ]
  },
  {
   "cell_type": "code",
   "execution_count": 6,
   "metadata": {
    "ExecuteTime": {
     "end_time": "2020-07-23T19:15:14.041825Z",
     "start_time": "2020-07-23T19:15:14.039939Z"
    }
   },
   "outputs": [],
   "source": [
    "#show_file_contents(fx.master_directory.name, 'road-test-files', 'demo-inputs-x.yml.template')"
   ]
  },
  {
   "cell_type": "markdown",
   "metadata": {},
   "source": [
    "Regardless of which file management system you use, the `setup` method\n",
    "is the place to make edits to these input files and write them into \n",
    "your working directory.  To do so,\n",
    "the `setup` method takes one argument: a dictionary containing key-value\n",
    "pairs that assign a particular value to each input (exogenous uncertainty \n",
    "or policy lever) that is defined in the model scope.  The keys must match \n",
    "exactly with the names of the parameters given in the scope. \n",
    "\n",
    "If you have written your `setup` method to call the super-class `setup`,\n",
    "you will find that if you give keys as input that are not defined in\n",
    "the scope, you'll get a KeyError."
   ]
  },
  {
   "cell_type": "code",
   "execution_count": 7,
   "metadata": {
    "ExecuteTime": {
     "end_time": "2020-07-23T19:15:14.044926Z",
     "start_time": "2020-07-23T19:15:14.043253Z"
    }
   },
   "outputs": [],
   "source": [
    "# bad_params = {\n",
    "#     'name_not_in_scope': 'is_a_problem',\n",
    "# }\n",
    "\n",
    "# try:\n",
    "#     fx.setup(bad_params)\n",
    "# except KeyError as error:\n",
    "#     log.error(repr(error))"
   ]
  },
  {
   "cell_type": "markdown",
   "metadata": {},
   "source": [
    "On the other hand, your custom model may or may not allow you to leave out\n",
    "some parameters.  It is up to you to decide how to handle missing values, \n",
    "either by setting them at their default values or raising an error. In \n",
    "normal operation, parameters typically won't be left out from the design\n",
    "of experiments, so it is not usually important to monitor this carefully.\n",
    "\n",
    "In our example module's `setup`, all of the uncertainty values must be given,\n",
    "because the template file would be unusable otherwise. But the policy levers \n",
    "can be omitted, and if so they are left at their default values in the \n",
    "original file.  Note that the default values in that file are not strictly\n",
    "consistent with the default values in the scope file, and TMIP-EMAT does \n",
    "nothing on its own to address this discrepancy."
   ]
  },
  {
   "cell_type": "code",
   "execution_count": 8,
   "metadata": {
    "ExecuteTime": {
     "end_time": "2020-07-23T19:15:14.053052Z",
     "start_time": "2020-07-23T19:15:14.047908Z"
    }
   },
   "outputs": [
    {
     "name": "stderr",
     "output_type": "stream",
     "text": [
      "[00:03.21] MainProcess/INFO: VERSPM SETUP...\n",
      "[00:03.21] MainProcess/WARNING:  - for Bicycles using default value 0.08\n",
      "[00:03.21] MainProcess/INFO: VERSPM SETUP complete\n"
     ]
    }
   ],
   "source": [
    "params = {\n",
    "    'ValueOfTime': 13,\n",
    "    'Income': 46300,\n",
    "} \n",
    "\n",
    "fx.setup(params)"
   ]
  },
  {
   "cell_type": "markdown",
   "metadata": {},
   "source": [
    "After running `setup` successfully, we will have overwritten the \n",
    "\"demo-inputs-l.yml\" file with new values, and written a new \n",
    "\"demo-inputs-x.yml\" file into the model working directory with those\n",
    "values."
   ]
  },
  {
   "cell_type": "code",
   "execution_count": 9,
   "metadata": {
    "ExecuteTime": {
     "end_time": "2020-07-23T19:15:14.073277Z",
     "start_time": "2020-07-23T19:15:14.055438Z"
    }
   },
   "outputs": [
    {
     "name": "stdout",
     "output_type": "stream",
     "text": [
      "tmpn3zjrpw2/\n",
      "├── VERSPM/\n",
      "│   ├── .Rprofile\n",
      "│   ├── defs/\n",
      "│   │   ├── deflators.csv\n",
      "│   │   ├── geo.csv\n",
      "│   │   ├── model_parameters.json\n",
      "│   │   ├── run_parameters.json\n",
      "│   │   └── units.csv\n",
      "│   ├── inputs/\n",
      "│   │   ├── azone_carsvc_characteristics.csv\n",
      "│   │   ├── azone_charging_availability.csv\n",
      "│   │   ├── azone_electricity_carbon_intensity.csv\n",
      "│   │   ├── azone_fuel_power_cost.csv\n",
      "│   │   ├── azone_gq_pop_by_age.csv\n",
      "│   │   ├── azone_hh_lttrk_prop.csv\n",
      "│   │   ├── azone_hh_pop_by_age.csv\n",
      "│   │   ├── azone_hh_veh_mean_age.csv\n",
      "│   │   ├── azone_hh_veh_own_taxes.csv\n",
      "│   │   ├── azone_hhsize_targets.csv\n",
      "│   │   ├── azone_lttrk_prop.csv\n",
      "│   │   ├── azone_payd_insurance_prop.csv\n",
      "│   │   ├── azone_per_cap_inc.csv\n",
      "│   │   ├── azone_prop_sov_dvmt_diverted.csv\n",
      "│   │   ├── azone_veh_use_taxes.csv\n",
      "│   │   ├── azone_vehicle_access_times.csv\n",
      "│   │   ├── bzone_carsvc_availability.csv\n",
      "│   │   ├── bzone_dwelling_units.csv\n",
      "│   │   ├── bzone_employment.csv\n",
      "│   │   ├── bzone_hh_inc_qrtl_prop.csv\n",
      "│   │   ├── bzone_lat_lon.csv\n",
      "│   │   ├── bzone_network_design.csv\n",
      "│   │   ├── bzone_parking.csv\n",
      "│   │   ├── bzone_transit_service.csv\n",
      "│   │   ├── bzone_travel_demand_mgt.csv\n",
      "│   │   ├── bzone_unprotected_area.csv\n",
      "│   │   ├── bzone_urban-mixed-use_prop.csv\n",
      "│   │   ├── bzone_urban-town_du_proportions.csv\n",
      "│   │   ├── marea_base_year_dvmt.csv\n",
      "│   │   ├── marea_congestion_charges.csv\n",
      "│   │   ├── marea_dvmt_split_by_road_class.csv\n",
      "│   │   ├── marea_lane_miles.csv\n",
      "│   │   ├── marea_operations_deployment.csv\n",
      "│   │   ├── marea_speed_smooth_ecodrive.csv\n",
      "│   │   ├── marea_transit_ave_fuel_carbon_intensity.csv\n",
      "│   │   ├── marea_transit_biofuel_mix.csv\n",
      "│   │   ├── marea_transit_fuel.csv\n",
      "│   │   ├── marea_transit_powertrain_prop.csv\n",
      "│   │   ├── marea_transit_service.csv\n",
      "│   │   ├── other_ops_effectiveness.csv\n",
      "│   │   ├── region_ave_fuel_carbon_intensity.csv\n",
      "│   │   ├── region_base_year_dvmt.csv\n",
      "│   │   ├── region_carsvc_powertrain_prop.csv\n",
      "│   │   ├── region_co2e_costs.csv\n",
      "│   │   ├── region_comsvc_ave_veh_age.csv\n",
      "│   │   ├── region_comsvc_lttrk_prop.csv\n",
      "│   │   ├── region_comsvc_powertrain_prop.csv\n",
      "│   │   ├── region_comsvc_veh_mean_age.csv\n",
      "│   │   ├── region_hvytrk_powertrain_prop.csv\n",
      "│   │   ├── region_prop_externalities_paid.csv\n",
      "│   │   ├── region_road_cost.csv\n",
      "│   │   ├── temp_azone_relative_employment.csv\n",
      "│   │   ├── temp_region_base_year_hvytrk_dvmt.csv\n",
      "│   │   └── temp_region_hh_driver_adjust_prop.csv\n",
      "│   └── run_model.R\n",
      "├── verspm-model-config.yml\n",
      "├── verspm-scope.yml\n",
      "└── verspm.db\n"
     ]
    }
   ],
   "source": [
    "show_dir(fx.local_directory)"
   ]
  },
  {
   "cell_type": "code",
   "execution_count": 10,
   "metadata": {
    "ExecuteTime": {
     "end_time": "2020-07-23T19:15:14.077442Z",
     "start_time": "2020-07-23T19:15:14.074636Z"
    }
   },
   "outputs": [
    {
     "name": "stdout",
     "output_type": "stream",
     "text": [
      "[{\"NAME\": \"ValueOfTime\", \"VALUE\": \"13\", \"TYPE\": \"currency\", \"UNITS\": \"base cost year dollars per hour\"}]\n"
     ]
    }
   ],
   "source": [
    "show_file_contents(fx.local_directory, 'VERSPM', 'defs', 'model_parameters.json')"
   ]
  },
  {
   "cell_type": "markdown",
   "metadata": {},
   "source": [
    "### run"
   ]
  },
  {
   "cell_type": "markdown",
   "metadata": {},
   "source": [
    "The `run` method is the place where the core model run takes place.\n",
    "Note that this method takes no arguments; all the input\n",
    "exogenous uncertainties and policy levers are delivered to the\n",
    "core model in the `setup` method, which will be executed prior\n",
    "to calling this method. This facilitates debugging, as the `setup`\n",
    "method can be used without the `run` method as we did above, allowing\n",
    "us to manually inspect the prepared files and ensure they\n",
    "are correct before actually running a potentially expensive model."
   ]
  },
  {
   "cell_type": "code",
   "execution_count": 11,
   "metadata": {
    "ExecuteTime": {
     "end_time": "2020-07-23T19:17:30.258137Z",
     "start_time": "2020-07-23T19:15:14.078909Z"
    }
   },
   "outputs": [
    {
     "name": "stderr",
     "output_type": "stream",
     "text": [
      "[00:03.24] MainProcess/INFO: VERSPM RUN ...\n",
      "[02:19.42] MainProcess/INFO: VERSPM RUN complete\n"
     ]
    }
   ],
   "source": [
    "fx.run()"
   ]
  },
  {
   "cell_type": "markdown",
   "metadata": {},
   "source": [
    "The `RoadTestFileModel` class includes a custom `last_run_logs` method,\n",
    "which displays both the \"stdout\" and \"stderr\" logs generated by the \n",
    "model executable during the most recent call to the `run` method.\n",
    "We can use this method for debugging purposes, to identify why the \n",
    "core model crashes (if it does crash).  In this first test it did not\n",
    "crash, and the logs look good."
   ]
  },
  {
   "cell_type": "code",
   "execution_count": 12,
   "metadata": {
    "ExecuteTime": {
     "end_time": "2020-07-23T19:17:30.263173Z",
     "start_time": "2020-07-23T19:17:30.259934Z"
    },
    "scrolled": true
   },
   "outputs": [
    {
     "name": "stdout",
     "output_type": "stream",
     "text": [
      "=== STDOUT ===\n",
      "run_model.R: script entered\n",
      "run_model.R: library visioneval loaded\n",
      "[1] \"2020-07-23 14:15:14 -- Initializing Model. This may take a while.\"\n",
      "[1] \"2020-07-23 14:15:19 -- Model successfully initialized.\"\n",
      "run_model.R: initializeModel completed\n",
      "[1] \"2020-07-23 14:15:19 -- Starting module 'CreateHouseholds' for year '2010'.\"\n",
      "[1] \"2020-07-23 14:15:20 -- Finish module 'CreateHouseholds' for year '2010'.\"\n",
      "[1] \"2020-07-23 14:15:20 -- Starting module 'PredictWorkers' for year '2010'.\"\n",
      "[1] \"2020-07-23 14:15:22 -- Finish module 'PredictWorkers' for year '2010'.\"\n",
      "[1] \"2020-07-23 14:15:22 -- Starting module 'AssignLifeCycle' for year '2010'.\"\n",
      "[1] \"2020-07-23 14:15:23 -- Finish module 'AssignLifeCycle' for year '2010'.\"\n",
      "[1] \"2020-07-23 14:15:23 -- Starting module 'PredictIncome' for year '2010'.\"\n",
      "[1] \"2020-07-23 14:15:26 -- Finish module 'PredictIncome' for year '2010'.\"\n",
      "[1] \"2020-07-23 14:15:26 -- Starting module 'PredictHousing' for year '2010'.\"\n",
      "[1] \"2020-07-23 14:15:28 -- Finish module 'PredictHousing' for year '2010'.\"\n",
      "[1] \"2020-07-23 14:15:28 -- Starting module 'LocateEmployment' for year '2010'.\"\n",
      "[1] \"2020-07-23 14:15:29 -- Finish module 'LocateEmployment' for year '2010'.\"\n",
      "[1] \"2020-07-23 14:15:29 -- Starting module 'AssignLocTypes' for year '2010'.\"\n",
      "[1] \"2020-07-23 14:15:31 -- Finish module 'AssignLocTypes' for year '2010'.\"\n",
      "[1] \"2020-07-23 14:15:31 -- Starting module 'Calculate4DMeasures' for year '2010'.\"\n",
      "[1] \"2020-07-23 14:15:31 -- Finish module 'Calculate4DMeasures' for year '2010'.\"\n",
      "[1] \"2020-07-23 14:15:31 -- Starting module 'CalculateUrbanMixMeasure' for year '2010'.\"\n",
      "[1] \"2020-07-23 14:15:31 -- Finish module 'CalculateUrbanMixMeasure' for year '2010'.\"\n",
      "[1] \"2020-07-23 14:15:31 -- Starting module 'AssignParkingRestrictions' for year '2010'.\"\n",
      "[1] \"2020-07-23 14:15:32 -- Finish module 'AssignParkingRestrictions' for year '2010'.\"\n",
      "[1] \"2020-07-23 14:15:32 -- Starting module 'AssignDemandManagement' for year '2010'.\"\n",
      "[1] \"2020-07-23 14:15:32 -- Finish module 'AssignDemandManagement' for year '2010'.\"\n",
      "[1] \"2020-07-23 14:15:32 -- Starting module 'AssignCarSvcAvailability' for year '2010'.\"\n",
      "[1] \"2020-07-23 14:15:32 -- Finish module 'AssignCarSvcAvailability' for year '2010'.\"\n",
      "[1] \"2020-07-23 14:15:32 -- Starting module 'AssignTransitService' for year '2010'.\"\n",
      "[1] \"2020-07-23 14:15:33 -- Finish module 'AssignTransitService' for year '2010'.\"\n",
      "[1] \"2020-07-23 14:15:33 -- Starting module 'AssignRoadMiles' for year '2010'.\"\n",
      "[1] \"2020-07-23 14:15:33 -- Finish module 'AssignRoadMiles' for year '2010'.\"\n",
      "[1] \"2020-07-23 14:15:33 -- Starting module 'AssignDrivers' for year '2010'.\"\n",
      "[1] \"2020-07-23 14:15:35 -- Finish module 'AssignDrivers' for year '2010'.\"\n",
      "[1] \"2020-07-23 14:15:35 -- Starting module 'AssignVehicleOwnership' for year '2010'.\"\n",
      "[1] \"2020-07-23 14:15:36 -- Finish module 'AssignVehicleOwnership' for year '2010'.\"\n",
      "[1] \"2020-07-23 14:15:36 -- Starting module 'AssignVehicleType' for year '2010'.\"\n",
      "[1] \"2020-07-23 14:15:39 -- Finish module 'AssignVehicleType' for year '2010'.\"\n",
      "[1] \"2020-07-23 14:15:39 -- Starting module 'CreateVehicleTable' for year '2010'.\"\n",
      "[1] \"2020-07-23 14:15:40 -- Finish module 'CreateVehicleTable' for year '2010'.\"\n",
      "[1] \"2020-07-23 14:15:40 -- Starting module 'AssignVehicleAge' for year '2010'.\"\n",
      "[1] \"2020-07-23 14:15:41 -- Finish module 'AssignVehicleAge' for year '2010'.\"\n",
      "[1] \"2020-07-23 14:15:41 -- Starting module 'CalculateVehicleOwnCost' for year '2010'.\"\n",
      "[1] \"2020-07-23 14:15:42 -- Finish module 'CalculateVehicleOwnCost' for year '2010'.\"\n",
      "[1] \"2020-07-23 14:15:42 -- Starting module 'AdjustVehicleOwnership' for year '2010'.\"\n",
      "[1] \"2020-07-23 14:15:44 -- Finish module 'AdjustVehicleOwnership' for year '2010'.\"\n",
      "[1] \"2020-07-23 14:15:44 -- Starting module 'CalculateHouseholdDvmt' for year '2010'.\"\n",
      "[1] \"2020-07-23 14:15:44 -- Finish module 'CalculateHouseholdDvmt' for year '2010'.\"\n",
      "[1] \"2020-07-23 14:15:44 -- Starting module 'CalculateAltModeTrips' for year '2010'.\"\n",
      "[1] \"2020-07-23 14:15:44 -- Finish module 'CalculateAltModeTrips' for year '2010'.\"\n",
      "[1] \"2020-07-23 14:15:44 -- Starting module 'CalculateVehicleTrips' for year '2010'.\"\n",
      "[1] \"2020-07-23 14:15:45 -- Finish module 'CalculateVehicleTrips' for year '2010'.\"\n",
      "[1] \"2020-07-23 14:15:45 -- Starting module 'DivertSovTravel' for year '2010'.\"\n",
      "[1] \"2020-07-23 14:15:46 -- Finish module 'DivertSovTravel' for year '2010'.\"\n",
      "[1] \"2020-07-23 14:15:46 -- Starting module 'CalculateCarbonIntensity' for year '2010'.\"\n",
      "[1] \"2020-07-23 14:15:46 -- Finish module 'CalculateCarbonIntensity' for year '2010'.\"\n",
      "[1] \"2020-07-23 14:15:46 -- Starting module 'AssignHhVehiclePowertrain' for year '2010'.\"\n",
      "[1] \"2020-07-23 14:15:48 -- Finish module 'AssignHhVehiclePowertrain' for year '2010'.\"\n",
      "[1] \"2020-07-23 14:15:48 -- Starting module 'CalculateRoadDvmt' for year '2010'.\"\n",
      "[1] \"2020-07-23 14:15:49 -- Finish module 'CalculateRoadDvmt' for year '2010'.\"\n",
      "[1] \"2020-07-23 14:15:49 -- Starting module 'CalculateRoadPerformance' for year '2010'.\"\n",
      "[1] \"2020-07-23 14:15:51 -- Finish module 'CalculateRoadPerformance' for year '2010'.\"\n",
      "[1] \"2020-07-23 14:15:51 -- Starting module 'CalculateMpgMpkwhAdjustments' for year '2010'.\"\n",
      "[1] \"2020-07-23 14:15:52 -- Finish module 'CalculateMpgMpkwhAdjustments' for year '2010'.\"\n",
      "[1] \"2020-07-23 14:15:52 -- Starting module 'AdjustHhVehicleMpgMpkwh' for year '2010'.\"\n",
      "[1] \"2020-07-23 14:15:53 -- Finish module 'AdjustHhVehicleMpgMpkwh' for year '2010'.\"\n",
      "[1] \"2020-07-23 14:15:53 -- Starting module 'CalculateVehicleOperatingCost' for year '2010'.\"\n",
      "[1] \"2020-07-23 14:15:57 -- Finish module 'CalculateVehicleOperatingCost' for year '2010'.\"\n",
      "[1] \"2020-07-23 14:15:57 -- Starting module 'BudgetHouseholdDvmt' for year '2010'.\"\n",
      "[1] \"2020-07-23 14:15:59 -- Finish module 'BudgetHouseholdDvmt' for year '2010'.\"\n",
      "[1] \"2020-07-23 14:15:59 -- Starting module 'BalanceRoadCostsAndRevenues' for year '2010'.\"\n",
      "[1] \"2020-07-23 14:15:59 -- Finish module 'BalanceRoadCostsAndRevenues' for year '2010'.\"\n",
      "[1] \"2020-07-23 14:15:59 -- Starting module 'CalculateRoadDvmt' for year '2010'.\"\n",
      "[1] \"2020-07-23 14:16:00 -- Finish module 'CalculateRoadDvmt' for year '2010'.\"\n",
      "[1] \"2020-07-23 14:16:00 -- Starting module 'CalculateRoadPerformance' for year '2010'.\"\n",
      "[1] \"2020-07-23 14:16:01 -- Finish module 'CalculateRoadPerformance' for year '2010'.\"\n",
      "[1] \"2020-07-23 14:16:01 -- Starting module 'CalculateMpgMpkwhAdjustments' for year '2010'.\"\n",
      "[1] \"2020-07-23 14:16:02 -- Finish module 'CalculateMpgMpkwhAdjustments' for year '2010'.\"\n",
      "[1] \"2020-07-23 14:16:02 -- Starting module 'AdjustHhVehicleMpgMpkwh' for year '2010'.\"\n",
      "[1] \"2020-07-23 14:16:03 -- Finish module 'AdjustHhVehicleMpgMpkwh' for year '2010'.\"\n",
      "[1] \"2020-07-23 14:16:03 -- Starting module 'CalculateVehicleOperatingCost' for year '2010'.\"\n",
      "[1] \"2020-07-23 14:16:07 -- Finish module 'CalculateVehicleOperatingCost' for year '2010'.\"\n",
      "[1] \"2020-07-23 14:16:07 -- Starting module 'BudgetHouseholdDvmt' for year '2010'.\"\n",
      "[1] \"2020-07-23 14:16:09 -- Finish module 'BudgetHouseholdDvmt' for year '2010'.\"\n",
      "[1] \"2020-07-23 14:16:09 -- Starting module 'BalanceRoadCostsAndRevenues' for year '2010'.\"\n",
      "[1] \"2020-07-23 14:16:09 -- Finish module 'BalanceRoadCostsAndRevenues' for year '2010'.\"\n",
      "[1] \"2020-07-23 14:16:09 -- Starting module 'CalculateComEnergyAndEmissions' for year '2010'.\"\n",
      "[1] \"2020-07-23 14:16:10 -- Finish module 'CalculateComEnergyAndEmissions' for year '2010'.\"\n",
      "[1] \"2020-07-23 14:16:10 -- Starting module 'CalculatePtranEnergyAndEmissions' for year '2010'.\"\n",
      "[1] \"2020-07-23 14:16:10 -- Finish module 'CalculatePtranEnergyAndEmissions' for year '2010'.\"\n",
      "[1] \"2020-07-23 14:16:10 -- Starting module 'CreateHouseholds' for year '2038'.\"\n",
      "[1] \"2020-07-23 14:16:13 -- Finish module 'CreateHouseholds' for year '2038'.\"\n",
      "[1] \"2020-07-23 14:16:13 -- Starting module 'PredictWorkers' for year '2038'.\"\n",
      "[1] \"2020-07-23 14:16:16 -- Finish module 'PredictWorkers' for year '2038'.\"\n",
      "[1] \"2020-07-23 14:16:16 -- Starting module 'AssignLifeCycle' for year '2038'.\"\n",
      "[1] \"2020-07-23 14:16:17 -- Finish module 'AssignLifeCycle' for year '2038'.\"\n",
      "[1] \"2020-07-23 14:16:17 -- Starting module 'PredictIncome' for year '2038'.\"\n",
      "[1] \"2020-07-23 14:16:21 -- Finish module 'PredictIncome' for year '2038'.\"\n",
      "[1] \"2020-07-23 14:16:21 -- Starting module 'PredictHousing' for year '2038'.\"\n",
      "[1] \"2020-07-23 14:16:24 -- Finish module 'PredictHousing' for year '2038'.\"\n",
      "[1] \"2020-07-23 14:16:24 -- Starting module 'LocateEmployment' for year '2038'.\"\n",
      "[1] \"2020-07-23 14:16:25 -- Finish module 'LocateEmployment' for year '2038'.\"\n",
      "[1] \"2020-07-23 14:16:25 -- Starting module 'AssignLocTypes' for year '2038'.\"\n",
      "[1] \"2020-07-23 14:16:27 -- Finish module 'AssignLocTypes' for year '2038'.\"\n",
      "[1] \"2020-07-23 14:16:27 -- Starting module 'Calculate4DMeasures' for year '2038'.\"\n",
      "[1] \"2020-07-23 14:16:28 -- Finish module 'Calculate4DMeasures' for year '2038'.\"\n",
      "[1] \"2020-07-23 14:16:28 -- Starting module 'CalculateUrbanMixMeasure' for year '2038'.\"\n",
      "[1] \"2020-07-23 14:16:28 -- Finish module 'CalculateUrbanMixMeasure' for year '2038'.\"\n",
      "[1] \"2020-07-23 14:16:28 -- Starting module 'AssignParkingRestrictions' for year '2038'.\"\n",
      "[1] \"2020-07-23 14:16:29 -- Finish module 'AssignParkingRestrictions' for year '2038'.\"\n",
      "[1] \"2020-07-23 14:16:29 -- Starting module 'AssignDemandManagement' for year '2038'.\"\n",
      "[1] \"2020-07-23 14:16:29 -- Finish module 'AssignDemandManagement' for year '2038'.\"\n",
      "[1] \"2020-07-23 14:16:29 -- Starting module 'AssignCarSvcAvailability' for year '2038'.\"\n",
      "[1] \"2020-07-23 14:16:29 -- Finish module 'AssignCarSvcAvailability' for year '2038'.\"\n",
      "[1] \"2020-07-23 14:16:29 -- Starting module 'AssignTransitService' for year '2038'.\"\n",
      "[1] \"2020-07-23 14:16:30 -- Finish module 'AssignTransitService' for year '2038'.\"\n",
      "[1] \"2020-07-23 14:16:30 -- Starting module 'AssignRoadMiles' for year '2038'.\"\n",
      "[1] \"2020-07-23 14:16:30 -- Finish module 'AssignRoadMiles' for year '2038'.\"\n",
      "[1] \"2020-07-23 14:16:30 -- Starting module 'AssignDrivers' for year '2038'.\"\n",
      "[1] \"2020-07-23 14:16:32 -- Finish module 'AssignDrivers' for year '2038'.\"\n",
      "[1] \"2020-07-23 14:16:32 -- Starting module 'AssignVehicleOwnership' for year '2038'.\"\n",
      "[1] \"2020-07-23 14:16:34 -- Finish module 'AssignVehicleOwnership' for year '2038'.\"\n",
      "[1] \"2020-07-23 14:16:34 -- Starting module 'AssignVehicleType' for year '2038'.\"\n",
      "[1] \"2020-07-23 14:16:38 -- Finish module 'AssignVehicleType' for year '2038'.\"\n",
      "[1] \"2020-07-23 14:16:38 -- Starting module 'CreateVehicleTable' for year '2038'.\"\n",
      "[1] \"2020-07-23 14:16:39 -- Finish module 'CreateVehicleTable' for year '2038'.\"\n",
      "[1] \"2020-07-23 14:16:39 -- Starting module 'AssignVehicleAge' for year '2038'.\"\n",
      "[1] \"2020-07-23 14:16:40 -- Finish module 'AssignVehicleAge' for year '2038'.\"\n",
      "[1] \"2020-07-23 14:16:40 -- Starting module 'CalculateVehicleOwnCost' for year '2038'.\"\n",
      "[1] \"2020-07-23 14:16:45 -- Finish module 'CalculateVehicleOwnCost' for year '2038'.\"\n",
      "[1] \"2020-07-23 14:16:45 -- Starting module 'AdjustVehicleOwnership' for year '2038'.\"\n",
      "[1] \"2020-07-23 14:16:47 -- Finish module 'AdjustVehicleOwnership' for year '2038'.\"\n",
      "[1] \"2020-07-23 14:16:47 -- Starting module 'CalculateHouseholdDvmt' for year '2038'.\"\n",
      "[1] \"2020-07-23 14:16:48 -- Finish module 'CalculateHouseholdDvmt' for year '2038'.\"\n",
      "[1] \"2020-07-23 14:16:48 -- Starting module 'CalculateAltModeTrips' for year '2038'.\"\n",
      "[1] \"2020-07-23 14:16:48 -- Finish module 'CalculateAltModeTrips' for year '2038'.\"\n",
      "[1] \"2020-07-23 14:16:48 -- Starting module 'CalculateVehicleTrips' for year '2038'.\"\n",
      "[1] \"2020-07-23 14:16:49 -- Finish module 'CalculateVehicleTrips' for year '2038'.\"\n",
      "[1] \"2020-07-23 14:16:49 -- Starting module 'DivertSovTravel' for year '2038'.\"\n",
      "[1] \"2020-07-23 14:16:50 -- Finish module 'DivertSovTravel' for year '2038'.\"\n",
      "[1] \"2020-07-23 14:16:50 -- Starting module 'CalculateCarbonIntensity' for year '2038'.\"\n",
      "[1] \"2020-07-23 14:16:51 -- Finish module 'CalculateCarbonIntensity' for year '2038'.\"\n",
      "[1] \"2020-07-23 14:16:51 -- Starting module 'AssignHhVehiclePowertrain' for year '2038'.\"\n",
      "[1] \"2020-07-23 14:16:53 -- Finish module 'AssignHhVehiclePowertrain' for year '2038'.\"\n",
      "[1] \"2020-07-23 14:16:53 -- Starting module 'CalculateRoadDvmt' for year '2038'.\"\n",
      "[1] \"2020-07-23 14:16:54 -- Finish module 'CalculateRoadDvmt' for year '2038'.\"\n",
      "[1] \"2020-07-23 14:16:54 -- Starting module 'CalculateRoadPerformance' for year '2038'.\"\n",
      "[1] \"2020-07-23 14:16:56 -- Finish module 'CalculateRoadPerformance' for year '2038'.\"\n",
      "[1] \"2020-07-23 14:16:56 -- Starting module 'CalculateMpgMpkwhAdjustments' for year '2038'.\"\n",
      "[1] \"2020-07-23 14:16:57 -- Finish module 'CalculateMpgMpkwhAdjustments' for year '2038'.\"\n",
      "[1] \"2020-07-23 14:16:57 -- Starting module 'AdjustHhVehicleMpgMpkwh' for year '2038'.\"\n",
      "[1] \"2020-07-23 14:16:59 -- Finish module 'AdjustHhVehicleMpgMpkwh' for year '2038'.\"\n",
      "[1] \"2020-07-23 14:16:59 -- Starting module 'CalculateVehicleOperatingCost' for year '2038'.\"\n",
      "[1] \"2020-07-23 14:17:05 -- Finish module 'CalculateVehicleOperatingCost' for year '2038'.\"\n",
      "[1] \"2020-07-23 14:17:05 -- Starting module 'BudgetHouseholdDvmt' for year '2038'.\"\n",
      "[1] \"2020-07-23 14:17:08 -- Finish module 'BudgetHouseholdDvmt' for year '2038'.\"\n",
      "[1] \"2020-07-23 14:17:08 -- Starting module 'BalanceRoadCostsAndRevenues' for year '2038'.\"\n",
      "[1] \"2020-07-23 14:17:08 -- Finish module 'BalanceRoadCostsAndRevenues' for year '2038'.\"\n",
      "[1] \"2020-07-23 14:17:08 -- Starting module 'CalculateRoadDvmt' for year '2038'.\"\n",
      "[1] \"2020-07-23 14:17:09 -- Finish module 'CalculateRoadDvmt' for year '2038'.\"\n",
      "[1] \"2020-07-23 14:17:09 -- Starting module 'CalculateRoadPerformance' for year '2038'.\"\n",
      "[1] \"2020-07-23 14:17:09 -- Finish module 'CalculateRoadPerformance' for year '2038'.\"\n",
      "[1] \"2020-07-23 14:17:09 -- Starting module 'CalculateMpgMpkwhAdjustments' for year '2038'.\"\n",
      "[1] \"2020-07-23 14:17:10 -- Finish module 'CalculateMpgMpkwhAdjustments' for year '2038'.\"\n",
      "[1] \"2020-07-23 14:17:10 -- Starting module 'AdjustHhVehicleMpgMpkwh' for year '2038'.\"\n",
      "[1] \"2020-07-23 14:17:12 -- Finish module 'AdjustHhVehicleMpgMpkwh' for year '2038'.\"\n",
      "[1] \"2020-07-23 14:17:12 -- Starting module 'CalculateVehicleOperatingCost' for year '2038'.\"\n",
      "[1] \"2020-07-23 14:17:18 -- Finish module 'CalculateVehicleOperatingCost' for year '2038'.\"\n",
      "[1] \"2020-07-23 14:17:18 -- Starting module 'BudgetHouseholdDvmt' for year '2038'.\"\n",
      "[1] \"2020-07-23 14:17:20 -- Finish module 'BudgetHouseholdDvmt' for year '2038'.\"\n",
      "[1] \"2020-07-23 14:17:20 -- Starting module 'BalanceRoadCostsAndRevenues' for year '2038'.\"\n",
      "[1] \"2020-07-23 14:17:21 -- Finish module 'BalanceRoadCostsAndRevenues' for year '2038'.\"\n",
      "[1] \"2020-07-23 14:17:21 -- Starting module 'CalculateComEnergyAndEmissions' for year '2038'.\"\n",
      "[1] \"2020-07-23 14:17:22 -- Finish module 'CalculateComEnergyAndEmissions' for year '2038'.\"\n",
      "[1] \"2020-07-23 14:17:22 -- Starting module 'CalculatePtranEnergyAndEmissions' for year '2038'.\"\n",
      "[1] \"2020-07-23 14:17:22 -- Finish module 'CalculatePtranEnergyAndEmissions' for year '2038'.\"\n",
      "run_model.R: run complete.\n",
      "Model State File: /private/var/folders/js/bk_dt9015j79_f6bxnc44dsr0000gp/T/tmpn3zjrpw2/VERSPM/ModelState.Rda \n",
      "Length of InputIndex: 858 \n",
      "Rows in GroupTableName: 517 \n",
      "Length of Description: 517 \n",
      "492 rows in Group/Table/Name data.frame\n",
      "Datastore is /private/var/folders/js/bk_dt9015j79_f6bxnc44dsr0000gp/T/tmpn3zjrpw2/VERSPM/Datastore \n",
      "Extracting data...Done\n",
      "Include Tables:\n",
      "character(0)\n",
      "Exclude Tables:\n",
      "character(0)\n",
      "Exporting Tables:\n",
      "[1] \"Bzone\"     \"Azone\"     \"Marea\"     \"Household\" \"Worker\"    \"Vehicle\"  \n",
      "[7] \"Region\"   \n",
      "Exporting Bzone ...Done (as Bzone.csv)\n",
      "Exporting Azone ...Done (as Azone.csv)\n",
      "Exporting Marea ...Done (as Marea.csv)\n",
      "Exporting Household ...Done (as Household.csv)\n",
      "Exporting Worker ...Done (as Worker.csv)\n",
      "Exporting Vehicle ...Done (as Vehicle.csv)\n",
      "Exporting Region ...Done (as Region.csv)\n",
      "\n",
      "=== STDERR ===\n",
      "Failed with error:  ‘.onLoad failed in loadNamespace() for 'tcltk', details:\n",
      "  call: fun(libname, pkgname)\n",
      "  error: X11 library is missing: install XQuartz from xquartz.macosforge.org’\n",
      "\n",
      "=== END OF LOG ===\n"
     ]
    }
   ],
   "source": [
    "fx.last_run_logs()"
   ]
  },
  {
   "cell_type": "code",
   "execution_count": 13,
   "metadata": {
    "ExecuteTime": {
     "end_time": "2020-07-23T19:17:30.270565Z",
     "start_time": "2020-07-23T19:17:30.264657Z"
    }
   },
   "outputs": [
    {
     "name": "stdout",
     "output_type": "stream",
     "text": [
      "output/\n",
      "├── Azone.csv\n",
      "├── Bzone.csv\n",
      "├── Household.csv\n",
      "├── Marea.csv\n",
      "├── Region.csv\n",
      "├── Vehicle.csv\n",
      "└── Worker.csv\n"
     ]
    }
   ],
   "source": [
    "show_dir(os.path.join(fx.master_directory.name, 'VERSPM', 'output'))"
   ]
  },
  {
   "cell_type": "code",
   "execution_count": 14,
   "metadata": {
    "ExecuteTime": {
     "end_time": "2020-07-23T19:17:30.280701Z",
     "start_time": "2020-07-23T19:17:30.272211Z"
    }
   },
   "outputs": [
    {
     "data": {
      "text/plain": [
       "'/var/folders/js/bk_dt9015j79_f6bxnc44dsr0000gp/T/tmpn3zjrpw2/VERSPM/output'"
      ]
     },
     "execution_count": 14,
     "metadata": {},
     "output_type": "execute_result"
    }
   ],
   "source": [
    "os.path.join(fx.master_directory.name, 'VERSPM', 'output')"
   ]
  },
  {
   "cell_type": "markdown",
   "metadata": {},
   "source": [
    "### post-process\n",
    "\n",
    "There is an (optional) `post_process` step that is separate from the `run` step.\n",
    "\n",
    "Post-processing differs from the main model run in two important ways:\n",
    "\n",
    "- It can be run to efficiently generate a subset of performance measures.\n",
    "- It can be run based on archived model main-run core model results.\n",
    "\n",
    "Both features are designed to support workflows where new performance \n",
    "measures are added to the exploratory scope after the main model run(s)\n",
    "are completed. By allowing the `post_process` method to be run only for a \n",
    "subset of measures, we can avoid replicating possibly expensive \n",
    "post-processing steps when we have already completed them, or when they\n",
    "are not needed for a particular application.  \n",
    "\n",
    "For example, consider an exploratory modeling activity where the scope \n",
    "at the time of the initial model run experiments was focused on highway\n",
    "measures, and transit usage was not explored extensively, and no \n",
    "network assignment was done for transit trips when the experiments were\n",
    "initially run.  By creating a post-process step to run the transit \n",
    "network assignment, we can apply that step to existing archived results,\n",
    "as well as have it run automatically for future model experients\n",
    "where transit usage is under study, but continue to omit it for future \n",
    "model experients where we do not need it.\n",
    "\n",
    "An optional `measure_names` argument allows the post-processor to\n",
    "identify which measures need additional computational effort to generate,\n",
    "and to skip excluded measures that are not currently of interest, or\n",
    "which have already been computed and do not need to be computed again.\n",
    "\n",
    "The post processing is isolated from the main model run to allow it to\n",
    "be run later using archived model results.  When executed directly \n",
    "after a core model run, it will operate on the results of the model\n",
    "stored in the local working directory.  However, it can also be\n",
    "used with an optional `output_path` argument, which can be pointed at\n",
    "a model archive directory instead of the local working directory.\n",
    "\n",
    "A consequence of this (and an intentional limitation) is that the \n",
    "`post_process` method should only use files from the set of files \n",
    "that are or will be archived from the core model run, and not attempt\n",
    "to use other non-persistent temporary or intermediate files that \n",
    "will not be archived."
   ]
  },
  {
   "cell_type": "code",
   "execution_count": 15,
   "metadata": {
    "ExecuteTime": {
     "end_time": "2020-07-23T19:17:30.986805Z",
     "start_time": "2020-07-23T19:17:30.282083Z"
    }
   },
   "outputs": [],
   "source": [
    "fx.post_process()"
   ]
  },
  {
   "cell_type": "markdown",
   "metadata": {},
   "source": [
    "At this point, the model's output performance measures should be available in one\n",
    "or more output files that can be read in the next step.  For this example, the\n",
    "results are written to two separate files: 'output_1.csv.gz' and 'output.yaml'."
   ]
  },
  {
   "cell_type": "code",
   "execution_count": 16,
   "metadata": {
    "ExecuteTime": {
     "end_time": "2020-07-23T19:17:30.991601Z",
     "start_time": "2020-07-23T19:17:30.988526Z"
    }
   },
   "outputs": [
    {
     "name": "stdout",
     "output_type": "stream",
     "text": [
      "{\"GHGReduction\": 0, \"DVMTPerCapita\": 19.55285903857264, \"WalkTravelPerCapita\": 0.34769618863101326, \"TruckDelay\": 0, \"AirPollutionEm\": 805356.8872181879, \"FuelUse\": 35474824.98767122, \"VehicleCost\": 3.9926988995433295, \"VehicleCostLow\": 21.159882378294324}\n"
     ]
    }
   ],
   "source": [
    "show_file_contents(fx.model_path, \"output\", \"ComputedMeasures.json\")"
   ]
  },
  {
   "cell_type": "markdown",
   "metadata": {},
   "source": [
    "### load-measures\n",
    "\n",
    "The `load_measures` method is the place to actually reach into\n",
    "files in the core model's run results and extract performance\n",
    "measures, returning a dictionary of key-value pairs for the \n",
    "various performance measures. It takes an optional list giving a \n",
    "subset of performance measures to load, and like the `post_process` \n",
    "method also can be pointed at an archive location instead of loading \n",
    "measures from the local working directory (which is the default).\n",
    "The `load_measures` method should not do any post-processing\n",
    "of results (i.e. it should read from but not write to the model\n",
    "outputs directory)."
   ]
  },
  {
   "cell_type": "code",
   "execution_count": 17,
   "metadata": {
    "ExecuteTime": {
     "end_time": "2020-07-23T19:17:30.998240Z",
     "start_time": "2020-07-23T19:17:30.993287Z"
    }
   },
   "outputs": [
    {
     "data": {
      "text/plain": [
       "{'GHGReduction': 0,\n",
       " 'DVMTPerCapita': 19.55285903857264,\n",
       " 'WalkTravelPerCapita': 0.34769618863101326,\n",
       " 'TruckDelay': 0,\n",
       " 'AirPollutionEm': 805356.8872181879,\n",
       " 'FuelUse': 35474824.98767122,\n",
       " 'VehicleCost': 3.9926988995433295,\n",
       " 'VehicleCostLow': 21.159882378294324}"
      ]
     },
     "execution_count": 17,
     "metadata": {},
     "output_type": "execute_result"
    }
   ],
   "source": [
    "fx.load_measures()"
   ]
  },
  {
   "cell_type": "markdown",
   "metadata": {},
   "source": [
    "You may note that the implementation of `RoadTestFileModel` in the `core_files_demo` module\n",
    "does not actually include a `load_measures` method itself, but instead inherits this method\n",
    "from the `FilesCoreModel` superclass. The instructions on how to actually find the relevant\n",
    "performance measures for this file are instead loaded into table parsers, which are defined\n",
    "in the `RoadTestFileModel.__init__` constructor.  There are [details and illustrations\n",
    "of how to write and use parsers in the file parsing examples page of the TMIP-EMAT documentation.](https://tmip-emat.github.io/source/emat.models/table_parse_example.html)"
   ]
  },
  {
   "cell_type": "markdown",
   "metadata": {},
   "source": [
    "### archive\n",
    "\n",
    "The `archive` method copies the relevant model output files to an archive location for \n",
    "longer term storage.  The particular archive location is based on the experiment id\n",
    "for a particular experiment, and can be customized if desired by overloading the \n",
    "`get_experiment_archive_path` method.  This customization is not done in this demo,\n",
    "so the default location is used."
   ]
  },
  {
   "cell_type": "code",
   "execution_count": 18,
   "metadata": {
    "ExecuteTime": {
     "end_time": "2020-07-23T19:17:31.011826Z",
     "start_time": "2020-07-23T19:17:30.999933Z"
    }
   },
   "outputs": [
    {
     "data": {
      "text/plain": [
       "'/var/folders/js/bk_dt9015j79_f6bxnc44dsr0000gp/T/tmpn3zjrpw2/./archive/scp_VERSPM/exp_1'"
      ]
     },
     "execution_count": 18,
     "metadata": {},
     "output_type": "execute_result"
    }
   ],
   "source": [
    "fx.get_experiment_archive_path(parameters=params)"
   ]
  },
  {
   "cell_type": "markdown",
   "metadata": {},
   "source": [
    "Actually running the `archive` method should copy any relevant output files\n",
    "from the `model_path` of the current active model into a subdirectory of `archive_path`."
   ]
  },
  {
   "cell_type": "code",
   "execution_count": 19,
   "metadata": {
    "ExecuteTime": {
     "end_time": "2020-07-23T19:17:35.148970Z",
     "start_time": "2020-07-23T19:17:31.013721Z"
    }
   },
   "outputs": [
    {
     "name": "stderr",
     "output_type": "stream",
     "text": [
      "[02:20.18] MainProcess/INFO: VERSPM ARCHIVE\n",
      " from: /var/folders/js/bk_dt9015j79_f6bxnc44dsr0000gp/T/tmpn3zjrpw2/VERSPM/output\n",
      "   to: /var/folders/js/bk_dt9015j79_f6bxnc44dsr0000gp/T/tmpn3zjrpw2/./archive/scp_VERSPM/exp_1.zip\n"
     ]
    }
   ],
   "source": [
    "fx.archive(params)"
   ]
  },
  {
   "cell_type": "code",
   "execution_count": 20,
   "metadata": {
    "ExecuteTime": {
     "end_time": "2020-07-23T19:17:35.337805Z",
     "start_time": "2020-07-23T19:17:35.151156Z"
    }
   },
   "outputs": [
    {
     "name": "stdout",
     "output_type": "stream",
     "text": [
      "tmpn3zjrpw2/\n",
      "├── archive/\n",
      "│   └── scp_VERSPM/\n",
      "│       └── exp_1.zip\n",
      "├── VERSPM/\n",
      "│   ├── .Rprofile\n",
      "│   ├── Datastore/\n",
      "│   │   ├── 2010/\n",
      "│   │   │   ├── Azone/\n",
      "│   │   │   │   ├── Age0to14.Rda\n",
      "│   │   │   │   ├── Age15to19.Rda\n",
      "│   │   │   │   ├── Age20to29.Rda\n",
      "│   │   │   │   ├── Age30to54.Rda\n",
      "│   │   │   │   ├── Age55to64.Rda\n",
      "│   │   │   │   ├── Age65Plus.Rda\n",
      "│   │   │   │   ├── AutoCarSvcSubProp.Rda\n",
      "│   │   │   │   ├── AutoMeanAge.Rda\n",
      "│   │   │   │   ├── AveCarSvcVehicleAge.Rda\n",
      "│   │   │   │   ├── AveHhSize.Rda\n",
      "│   │   │   │   ├── Azone.Rda\n",
      "│   │   │   │   ├── ElectricityCI.Rda\n",
      "│   │   │   │   ├── FuelCost.Rda\n",
      "│   │   │   │   ├── FuelTax.Rda\n",
      "│   │   │   │   ├── GQIncomePC.Rda\n",
      "│   │   │   │   ├── GrpAge0to14.Rda\n",
      "│   │   │   │   ├── GrpAge15to19.Rda\n",
      "│   │   │   │   ├── GrpAge20to29.Rda\n",
      "│   │   │   │   ├── GrpAge30to54.Rda\n",
      "│   │   │   │   ├── GrpAge55to64.Rda\n",
      "│   │   │   │   ├── GrpAge65Plus.Rda\n",
      "│   │   │   │   ├── HHIncomePC.Rda\n",
      "│   │   │   │   ├── HighCarSvcAccessTime.Rda\n",
      "│   │   │   │   ├── HighCarSvcCost.Rda\n",
      "│   │   │   │   ├── LowCarSvcAccessTime.Rda\n",
      "│   │   │   │   ├── LowCarSvcCost.Rda\n",
      "│   │   │   │   ├── LtTrkCarSvcSubProp.Rda\n",
      "│   │   │   │   ├── LtTrkMeanAge.Rda\n",
      "│   │   │   │   ├── LtTrkProp.Rda\n",
      "│   │   │   │   ├── Marea.Rda\n",
      "│   │   │   │   ├── NumGq.Rda\n",
      "│   │   │   │   ├── NumHh.Rda\n",
      "│   │   │   │   ├── NumWkr.Rda\n",
      "│   │   │   │   ├── OwnedVehAccessTime.Rda\n",
      "│   │   │   │   ├── PaydHhProp.Rda\n",
      "│   │   │   │   ├── PevSurchgTaxProp.Rda\n",
      "│   │   │   │   ├── PowerCost.Rda\n",
      "│   │   │   │   ├── Prop1PerHh.Rda\n",
      "│   │   │   │   ├── PropGQChargingAvail.Rda\n",
      "│   │   │   │   ├── PropMFChargingAvail.Rda\n",
      "│   │   │   │   ├── PropSFChargingAvail.Rda\n",
      "│   │   │   │   ├── PropSovDvmtDiverted.Rda\n",
      "│   │   │   │   ├── VehOwnAdValoremTax.Rda\n",
      "│   │   │   │   ├── VehOwnFlatRateFee.Rda\n",
      "│   │   │   │   └── VmtTax.Rda\n",
      "│   │   │   ├── Bzone/\n",
      "│   │   │   │   ├── Azone.Rda\n",
      "│   │   │   │   ├── Bzone.Rda\n",
      "│   │   │   │   ├── CarSvcLevel.Rda\n",
      "│   │   │   │   ├── D1B.Rda\n",
      "│   │   │   │   ├── D1C.Rda\n",
      "│   │   │   │   ├── D1D.Rda\n",
      "│   │   │   │   ├── D2A_EPHHM.Rda\n",
      "│   │   │   │   ├── D2A_JPHH.Rda\n",
      "│   │   │   │   ├── D2A_WRKEMP.Rda\n",
      "│   │   │   │   ├── D3bpo4.Rda\n",
      "│   │   │   │   ├── D4c.Rda\n",
      "│   │   │   │   ├── D5.Rda\n",
      "│   │   │   │   ├── EcoProp.Rda\n",
      "│   │   │   │   ├── GQ.Rda\n",
      "│   │   │   │   ├── GQDU.Rda\n",
      "│   │   │   │   ├── HhPropIncQ1.Rda\n",
      "│   │   │   │   ├── HhPropIncQ2.Rda\n",
      "│   │   │   │   ├── HhPropIncQ3.Rda\n",
      "│   │   │   │   ├── HhPropIncQ4.Rda\n",
      "│   │   │   │   ├── ImpProp.Rda\n",
      "│   │   │   │   ├── Latitude.Rda\n",
      "│   │   │   │   ├── Longitude.Rda\n",
      "│   │   │   │   ├── Marea.Rda\n",
      "│   │   │   │   ├── MF.Rda\n",
      "│   │   │   │   ├── MFDU.Rda\n",
      "│   │   │   │   ├── MixUseProp.Rda\n",
      "│   │   │   │   ├── NumHh.Rda\n",
      "│   │   │   │   ├── NumWkr.Rda\n",
      "│   │   │   │   ├── PkgCost.Rda\n",
      "│   │   │   │   ├── PkgSpacesPerGQ.Rda\n",
      "│   │   │   │   ├── PkgSpacesPerMFDU.Rda\n",
      "│   │   │   │   ├── PkgSpacesPerSFDU.Rda\n",
      "│   │   │   │   ├── Pop.Rda\n",
      "│   │   │   │   ├── PropCashOut.Rda\n",
      "│   │   │   │   ├── PropNonWrkTripPay.Rda\n",
      "│   │   │   │   ├── PropTownGQDU.Rda\n",
      "│   │   │   │   ├── PropTownMFDU.Rda\n",
      "│   │   │   │   ├── PropTownSFDU.Rda\n",
      "│   │   │   │   ├── PropUrbanGQDU.Rda\n",
      "│   │   │   │   ├── PropUrbanMFDU.Rda\n",
      "│   │   │   │   ├── PropUrbanSFDU.Rda\n",
      "│   │   │   │   ├── PropWkrPay.Rda\n",
      "│   │   │   │   ├── RetEmp.Rda\n",
      "│   │   │   │   ├── RuralArea.Rda\n",
      "│   │   │   │   ├── RuralPop.Rda\n",
      "│   │   │   │   ├── SF.Rda\n",
      "│   │   │   │   ├── SFDU.Rda\n",
      "│   │   │   │   ├── SvcEmp.Rda\n",
      "│   │   │   │   ├── TotEmp.Rda\n",
      "│   │   │   │   ├── TownArea.Rda\n",
      "│   │   │   │   ├── TownPop.Rda\n",
      "│   │   │   │   ├── UrbanArea.Rda\n",
      "│   │   │   │   └── UrbanPop.Rda\n",
      "│   │   │   ├── Household/\n",
      "│   │   │   │   ├── Age0to14.Rda\n",
      "│   │   │   │   ├── Age15to19.Rda\n",
      "│   │   │   │   ├── Age20to29.Rda\n",
      "│   │   │   │   ├── Age30to54.Rda\n",
      "│   │   │   │   ├── Age55to64.Rda\n",
      "│   │   │   │   ├── Age65Plus.Rda\n",
      "│   │   │   │   ├── AveCO2ePM.Rda\n",
      "│   │   │   │   ├── AveGPM.Rda\n",
      "│   │   │   │   ├── AveKWHPM.Rda\n",
      "│   │   │   │   ├── AveRoadUseTaxPM.Rda\n",
      "│   │   │   │   ├── AveSocEnvCostPM.Rda\n",
      "│   │   │   │   ├── AveTrpLenDiverted.Rda\n",
      "│   │   │   │   ├── AveVehCostPM.Rda\n",
      "│   │   │   │   ├── AveVehTripLen.Rda\n",
      "│   │   │   │   ├── Azone.Rda\n",
      "│   │   │   │   ├── BikeTrips.Rda\n",
      "│   │   │   │   ├── Bzone.Rda\n",
      "│   │   │   │   ├── CarSvcLevel.Rda\n",
      "│   │   │   │   ├── DailyCO2e.Rda\n",
      "│   │   │   │   ├── DailyGGE.Rda\n",
      "│   │   │   │   ├── DailyKWH.Rda\n",
      "│   │   │   │   ├── Drivers.Rda\n",
      "│   │   │   │   ├── Drv15to19.Rda\n",
      "│   │   │   │   ├── Drv20to29.Rda\n",
      "│   │   │   │   ├── Drv30to54.Rda\n",
      "│   │   │   │   ├── Drv55to64.Rda\n",
      "│   │   │   │   ├── Drv65Plus.Rda\n",
      "│   │   │   │   ├── DrvAgePersons.Rda\n",
      "│   │   │   │   ├── Dvmt.Rda\n",
      "│   │   │   │   ├── FreeParkingSpaces.Rda\n",
      "│   │   │   │   ├── HasPaydIns.Rda\n",
      "│   │   │   │   ├── HhId.Rda\n",
      "│   │   │   │   ├── HhSize.Rda\n",
      "│   │   │   │   ├── HhType.Rda\n",
      "│   │   │   │   ├── HouseType.Rda\n",
      "│   │   │   │   ├── Income.Rda\n",
      "│   │   │   │   ├── IsEcoDrive.Rda\n",
      "│   │   │   │   ├── IsIMP.Rda\n",
      "│   │   │   │   ├── IsUrbanMixNbrhd.Rda\n",
      "│   │   │   │   ├── LifeCycle.Rda\n",
      "│   │   │   │   ├── LocType.Rda\n",
      "│   │   │   │   ├── Marea.Rda\n",
      "│   │   │   │   ├── NumAuto.Rda\n",
      "│   │   │   │   ├── NumHighCarSvc.Rda\n",
      "│   │   │   │   ├── NumLtTrk.Rda\n",
      "│   │   │   │   ├── OtherParkingCost.Rda\n",
      "│   │   │   │   ├── OwnCost.Rda\n",
      "│   │   │   │   ├── OwnCostSavings.Rda\n",
      "│   │   │   │   ├── ParkingUnitCost.Rda\n",
      "│   │   │   │   ├── PropDvmtDiverted.Rda\n",
      "│   │   │   │   ├── PropTdmDvmtReduction.Rda\n",
      "│   │   │   │   ├── SovDvmtProp.Rda\n",
      "│   │   │   │   ├── TransitTrips.Rda\n",
      "│   │   │   │   ├── UrbanDvmtProp.Rda\n",
      "│   │   │   │   ├── Vehicles.Rda\n",
      "│   │   │   │   ├── VehicleTrips.Rda\n",
      "│   │   │   │   ├── WalkTrips.Rda\n",
      "│   │   │   │   ├── Wkr15to19.Rda\n",
      "│   │   │   │   ├── Wkr20to29.Rda\n",
      "│   │   │   │   ├── Wkr30to54.Rda\n",
      "│   │   │   │   ├── Wkr55to64.Rda\n",
      "│   │   │   │   ├── Wkr65Plus.Rda\n",
      "│   │   │   │   └── Workers.Rda\n",
      "│   │   │   ├── Marea/\n",
      "│   │   │   │   ├── AccessMgtDeployProp.Rda\n",
      "│   │   │   │   ├── ArtDvmtPropExtCong.Rda\n",
      "│   │   │   │   ├── ArtDvmtPropHvyCong.Rda\n",
      "│   │   │   │   ├── ArtDvmtPropModCong.Rda\n",
      "│   │   │   │   ├── ArtDvmtPropNoneCong.Rda\n",
      "│   │   │   │   ├── ArtDvmtPropSevCong.Rda\n",
      "│   │   │   │   ├── ArtExtCongChg.Rda\n",
      "│   │   │   │   ├── ArtExtCongSpeed.Rda\n",
      "│   │   │   │   ├── ArtHvyCongChg.Rda\n",
      "│   │   │   │   ├── ArtHvyCongSpeed.Rda\n",
      "│   │   │   │   ├── ArtLaneMi.Rda\n",
      "│   │   │   │   ├── ArtModCongChg.Rda\n",
      "│   │   │   │   ├── ArtModCongSpeed.Rda\n",
      "│   │   │   │   ├── ArtNoneCongChg.Rda\n",
      "│   │   │   │   ├── ArtNoneCongSpeed.Rda\n",
      "│   │   │   │   ├── ArtSevCongChg.Rda\n",
      "│   │   │   │   ├── ArtSevCongSpeed.Rda\n",
      "│   │   │   │   ├── ArtSmooth.Rda\n",
      "│   │   │   │   ├── AveCongPrice.Rda\n",
      "│   │   │   │   ├── BusArtDvmt.Rda\n",
      "│   │   │   │   ├── BusAveSpeed.Rda\n",
      "│   │   │   │   ├── BusCO2e.Rda\n",
      "│   │   │   │   ├── BusCO2eRate.Rda\n",
      "│   │   │   │   ├── BusDvmt.Rda\n",
      "│   │   │   │   ├── BusEcoDriveFactor.Rda\n",
      "│   │   │   │   ├── BusFwyDvmt.Rda\n",
      "│   │   │   │   ├── BusGGE.Rda\n",
      "│   │   │   │   ├── BusKWH.Rda\n",
      "│   │   │   │   ├── BusOthDvmt.Rda\n",
      "│   │   │   │   ├── BusPropBev.Rda\n",
      "│   │   │   │   ├── BusPropCng.Rda\n",
      "│   │   │   │   ├── BusPropDiesel.Rda\n",
      "│   │   │   │   ├── BusPropGasoline.Rda\n",
      "│   │   │   │   ├── BusPropHev.Rda\n",
      "│   │   │   │   ├── BusPropIcev.Rda\n",
      "│   │   │   │   ├── BusSpdSmoothFactor.Rda\n",
      "│   │   │   │   ├── BusTotDelay.Rda\n",
      "│   │   │   │   ├── ComSvcAveUrbanAutoCO2eRate.Rda\n",
      "│   │   │   │   ├── ComSvcAveUrbanLtTrkCO2eRate.Rda\n",
      "│   │   │   │   ├── ComSvcNonUrbanCO2e.Rda\n",
      "│   │   │   │   ├── ComSvcNonUrbanGGE.Rda\n",
      "│   │   │   │   ├── ComSvcNonUrbanKWH.Rda\n",
      "│   │   │   │   ├── ComSvcRuralDvmt.Rda\n",
      "│   │   │   │   ├── ComSvcTownDvmt.Rda\n",
      "│   │   │   │   ├── ComSvcUrbanCO2e.Rda\n",
      "│   │   │   │   ├── ComSvcUrbanDvmt.Rda\n",
      "│   │   │   │   ├── ComSvcUrbanGGE.Rda\n",
      "│   │   │   │   ├── ComSvcUrbanKWH.Rda\n",
      "│   │   │   │   ├── CRRevMi.Rda\n",
      "│   │   │   │   ├── DRRevMi.Rda\n",
      "│   │   │   │   ├── FwyDvmtPropExtCong.Rda\n",
      "│   │   │   │   ├── FwyDvmtPropHvyCong.Rda\n",
      "│   │   │   │   ├── FwyDvmtPropModCong.Rda\n",
      "│   │   │   │   ├── FwyDvmtPropNoneCong.Rda\n",
      "│   │   │   │   ├── FwyDvmtPropSevCong.Rda\n",
      "│   │   │   │   ├── FwyExtCongChg.Rda\n",
      "│   │   │   │   ├── FwyExtCongSpeed.Rda\n",
      "│   │   │   │   ├── FwyHvyCongChg.Rda\n",
      "│   │   │   │   ├── FwyHvyCongSpeed.Rda\n",
      "│   │   │   │   ├── FwyLaneMi.Rda\n",
      "│   │   │   │   ├── FwyLaneMiPC.Rda\n",
      "│   │   │   │   ├── FwyModCongChg.Rda\n",
      "│   │   │   │   ├── FwyModCongSpeed.Rda\n",
      "│   │   │   │   ├── FwyNoneCongChg.Rda\n",
      "│   │   │   │   ├── FwyNoneCongSpeed.Rda\n",
      "│   │   │   │   ├── FwySevCongChg.Rda\n",
      "│   │   │   │   ├── FwySevCongSpeed.Rda\n",
      "│   │   │   │   ├── FwySmooth.Rda\n",
      "│   │   │   │   ├── HdIceFactor.Rda\n",
      "│   │   │   │   ├── HRRevMi.Rda\n",
      "│   │   │   │   ├── HvyTrkArtDvmt.Rda\n",
      "│   │   │   │   ├── HvyTrkAveSpeed.Rda\n",
      "│   │   │   │   ├── HvyTrkAveUrbanCO2eRate.Rda\n",
      "│   │   │   │   ├── HvyTrkEcoDrive.Rda\n",
      "│   │   │   │   ├── HvyTrkEcoDriveFactor.Rda\n",
      "│   │   │   │   ├── HvyTrkFwyDvmt.Rda\n",
      "│   │   │   │   ├── HvyTrkOthDvmt.Rda\n",
      "│   │   │   │   ├── HvyTrkSpdSmoothFactor.Rda\n",
      "│   │   │   │   ├── HvyTrkTotDelay.Rda\n",
      "│   │   │   │   ├── HvyTrkUrbanCO2e.Rda\n",
      "│   │   │   │   ├── HvyTrkUrbanDvmt.Rda\n",
      "│   │   │   │   ├── HvyTrkUrbanGGE.Rda\n",
      "│   │   │   │   ├── HvyTrkUrbanKWH.Rda\n",
      "│   │   │   │   ├── IncidentMgtDeployProp.Rda\n",
      "│   │   │   │   ├── LdEvFactor.Rda\n",
      "│   │   │   │   ├── LdFcvFactor.Rda\n",
      "│   │   │   │   ├── LdHevFactor.Rda\n",
      "│   │   │   │   ├── LdIceFactor.Rda\n",
      "│   │   │   │   ├── LdvArtDvmt.Rda\n",
      "│   │   │   │   ├── LdvAveSpeed.Rda\n",
      "│   │   │   │   ├── LdvEcoDrive.Rda\n",
      "│   │   │   │   ├── LdvEcoDriveFactor.Rda\n",
      "│   │   │   │   ├── LdvFwyArtDvmt.Rda\n",
      "│   │   │   │   ├── LdvFwyDvmt.Rda\n",
      "│   │   │   │   ├── LdvOthDvmt.Rda\n",
      "│   │   │   │   ├── LdvSpdSmoothFactor.Rda\n",
      "│   │   │   │   ├── LdvTotDelay.Rda\n",
      "│   │   │   │   ├── Marea.Rda\n",
      "│   │   │   │   ├── MBRevMi.Rda\n",
      "│   │   │   │   ├── MGRevMi.Rda\n",
      "│   │   │   │   ├── NonUrbanAveSpeed.Rda\n",
      "│   │   │   │   ├── NonUrbanHhPropUrbanDvmt.Rda\n",
      "│   │   │   │   ├── OtherArtOpsDeployProp.Rda\n",
      "│   │   │   │   ├── OtherFwyOpsDeployProp.Rda\n",
      "│   │   │   │   ├── OthSpd.Rda\n",
      "│   │   │   │   ├── RailCO2e.Rda\n",
      "│   │   │   │   ├── RailCO2eRate.Rda\n",
      "│   │   │   │   ├── RailDvmt.Rda\n",
      "│   │   │   │   ├── RailGGE.Rda\n",
      "│   │   │   │   ├── RailKWH.Rda\n",
      "│   │   │   │   ├── RailPropDiesel.Rda\n",
      "│   │   │   │   ├── RailPropEv.Rda\n",
      "│   │   │   │   ├── RailPropGasoline.Rda\n",
      "│   │   │   │   ├── RailPropHev.Rda\n",
      "│   │   │   │   ├── RailPropIcev.Rda\n",
      "│   │   │   │   ├── RampMeterDeployProp.Rda\n",
      "│   │   │   │   ├── RBRevMi.Rda\n",
      "│   │   │   │   ├── RuralHhDvmt.Rda\n",
      "│   │   │   │   ├── RuralIncome.Rda\n",
      "│   │   │   │   ├── RuralPop.Rda\n",
      "│   │   │   │   ├── SignalCoordDeployProp.Rda\n",
      "│   │   │   │   ├── SRRevMi.Rda\n",
      "│   │   │   │   ├── TownHhDvmt.Rda\n",
      "│   │   │   │   ├── TownIncome.Rda\n",
      "│   │   │   │   ├── TownPop.Rda\n",
      "│   │   │   │   ├── TranRevMiPC.Rda\n",
      "│   │   │   │   ├── TransitBiodieselPropDiesel.Rda\n",
      "│   │   │   │   ├── TransitBusFuelCI.Rda\n",
      "│   │   │   │   ├── TransitEthanolPropGasoline.Rda\n",
      "│   │   │   │   ├── TransitRailFuelCI.Rda\n",
      "│   │   │   │   ├── TransitRngPropCng.Rda\n",
      "│   │   │   │   ├── TransitVanFuelCI.Rda\n",
      "│   │   │   │   ├── UrbanHhDvmt.Rda\n",
      "│   │   │   │   ├── UrbanHhPropUrbanDvmt.Rda\n",
      "│   │   │   │   ├── UrbanIncome.Rda\n",
      "│   │   │   │   ├── UrbanPop.Rda\n",
      "│   │   │   │   ├── VanCO2e.Rda\n",
      "│   │   │   │   ├── VanCO2eRate.Rda\n",
      "│   │   │   │   ├── VanDvmt.Rda\n",
      "│   │   │   │   ├── VanGGE.Rda\n",
      "│   │   │   │   ├── VanKWH.Rda\n",
      "│   │   │   │   ├── VanPropBev.Rda\n",
      "│   │   │   │   ├── VanPropCng.Rda\n",
      "│   │   │   │   ├── VanPropDiesel.Rda\n",
      "│   │   │   │   ├── VanPropGasoline.Rda\n",
      "│   │   │   │   ├── VanPropHev.Rda\n",
      "│   │   │   │   ├── VanPropIcev.Rda\n",
      "│   │   │   │   └── VPRevMi.Rda\n",
      "│   │   │   ├── Region/\n",
      "│   │   │   │   ├── ArtLnMiCost.Rda\n",
      "│   │   │   │   ├── AveComSvcVehicleAge.Rda\n",
      "│   │   │   │   ├── BusEcoDriveFactor.Rda\n",
      "│   │   │   │   ├── CarSvcAutoFuelCI.Rda\n",
      "│   │   │   │   ├── CarSvcAutoPropBev.Rda\n",
      "│   │   │   │   ├── CarSvcAutoPropHev.Rda\n",
      "│   │   │   │   ├── CarSvcAutoPropIcev.Rda\n",
      "│   │   │   │   ├── CarSvcFuelCI.Rda\n",
      "│   │   │   │   ├── CarSvcLtTrkFuelCI.Rda\n",
      "│   │   │   │   ├── CarSvcLtTrkPropBev.Rda\n",
      "│   │   │   │   ├── CarSvcLtTrkPropHev.Rda\n",
      "│   │   │   │   ├── CarSvcLtTrkPropIcev.Rda\n",
      "│   │   │   │   ├── CO2eCost.Rda\n",
      "│   │   │   │   ├── ComSvcAutoFuelCI.Rda\n",
      "│   │   │   │   ├── ComSvcAutoPropBev.Rda\n",
      "│   │   │   │   ├── ComSvcAutoPropHev.Rda\n",
      "│   │   │   │   ├── ComSvcAutoPropIcev.Rda\n",
      "│   │   │   │   ├── ComSvcFuelCI.Rda\n",
      "│   │   │   │   ├── ComSvcLtTrkFuelCI.Rda\n",
      "│   │   │   │   ├── ComSvcLtTrkProp.Rda\n",
      "│   │   │   │   ├── ComSvcLtTrkPropBev.Rda\n",
      "│   │   │   │   ├── ComSvcLtTrkPropHev.Rda\n",
      "│   │   │   │   ├── ComSvcLtTrkPropIcev.Rda\n",
      "│   │   │   │   ├── ExtraVmtTax.Rda\n",
      "│   │   │   │   ├── FwyLnMiCost.Rda\n",
      "│   │   │   │   ├── HdIceFactor.Rda\n",
      "│   │   │   │   ├── HhAutoFuelCI.Rda\n",
      "│   │   │   │   ├── HhFuelCI.Rda\n",
      "│   │   │   │   ├── HhLtTrkFuelCI.Rda\n",
      "│   │   │   │   ├── HvyTrkEcoDriveFactor.Rda\n",
      "│   │   │   │   ├── HvyTrkFuelCI.Rda\n",
      "│   │   │   │   ├── HvyTrkNonUrbanCO2e.Rda\n",
      "│   │   │   │   ├── HvyTrkNonUrbanDvmt.Rda\n",
      "│   │   │   │   ├── HvyTrkNonUrbanGGE.Rda\n",
      "│   │   │   │   ├── HvyTrkNonUrbanKWH.Rda\n",
      "│   │   │   │   ├── HvyTrkPCE.Rda\n",
      "│   │   │   │   ├── HvyTrkPropBev.Rda\n",
      "│   │   │   │   ├── HvyTrkPropHev.Rda\n",
      "│   │   │   │   ├── HvyTrkPropIcev.Rda\n",
      "│   │   │   │   ├── HvyTrkUrbanCO2e.Rda\n",
      "│   │   │   │   ├── HvyTrkUrbanDvmt.Rda\n",
      "│   │   │   │   ├── HvyTrkUrbanGGE.Rda\n",
      "│   │   │   │   ├── HvyTrkUrbanKWH.Rda\n",
      "│   │   │   │   ├── LdEvFactor.Rda\n",
      "│   │   │   │   ├── LdFcvFactor.Rda\n",
      "│   │   │   │   ├── LdHevFactor.Rda\n",
      "│   │   │   │   ├── LdIceFactor.Rda\n",
      "│   │   │   │   ├── LdvEcoDriveFactor.Rda\n",
      "│   │   │   │   ├── PropClimateCostPaid.Rda\n",
      "│   │   │   │   ├── PropOtherExtCostPaid.Rda\n",
      "│   │   │   │   ├── RoadBaseModCost.Rda\n",
      "│   │   │   │   ├── RoadOtherCost.Rda\n",
      "│   │   │   │   ├── RoadPresOpMaintCost.Rda\n",
      "│   │   │   │   ├── TransitBusFuelCI.Rda\n",
      "│   │   │   │   ├── TransitRailFuelCI.Rda\n",
      "│   │   │   │   └── TransitVanFuelCI.Rda\n",
      "│   │   │   ├── Vehicle/\n",
      "│   │   │   │   ├── Age.Rda\n",
      "│   │   │   │   ├── Azone.Rda\n",
      "│   │   │   │   ├── BatRng.Rda\n",
      "│   │   │   │   ├── Bzone.Rda\n",
      "│   │   │   │   ├── DvmtProp.Rda\n",
      "│   │   │   │   ├── ElecCO2ePM.Rda\n",
      "│   │   │   │   ├── ElecDvmtProp.Rda\n",
      "│   │   │   │   ├── FuelCO2ePM.Rda\n",
      "│   │   │   │   ├── GPM.Rda\n",
      "│   │   │   │   ├── HhId.Rda\n",
      "│   │   │   │   ├── InsCost.Rda\n",
      "│   │   │   │   ├── KWHPM.Rda\n",
      "│   │   │   │   ├── Marea.Rda\n",
      "│   │   │   │   ├── MPG.Rda\n",
      "│   │   │   │   ├── MPGe.Rda\n",
      "│   │   │   │   ├── MPKWH.Rda\n",
      "│   │   │   │   ├── OwnCost.Rda\n",
      "│   │   │   │   ├── OwnCostPerMile.Rda\n",
      "│   │   │   │   ├── Powertrain.Rda\n",
      "│   │   │   │   ├── SwitchToCarSvc.Rda\n",
      "│   │   │   │   ├── Type.Rda\n",
      "│   │   │   │   ├── VehicleAccess.Rda\n",
      "│   │   │   │   └── VehId.Rda\n",
      "│   │   │   └── Worker/\n",
      "│   │   │       ├── Azone.Rda\n",
      "│   │   │       ├── Bzone.Rda\n",
      "│   │   │       ├── DistanceToWork.Rda\n",
      "│   │   │       ├── HhId.Rda\n",
      "│   │   │       ├── IsCashOut.Rda\n",
      "│   │   │       ├── IsECO.Rda\n",
      "│   │   │       ├── Marea.Rda\n",
      "│   │   │       ├── ParkingCost.Rda\n",
      "│   │   │       ├── PaysForParking.Rda\n",
      "│   │   │       └── WkrId.Rda\n",
      "│   │   ├── 2038/\n",
      "│   │   │   ├── Azone/\n",
      "│   │   │   │   ├── Age0to14.Rda\n",
      "│   │   │   │   ├── Age15to19.Rda\n",
      "│   │   │   │   ├── Age20to29.Rda\n",
      "│   │   │   │   ├── Age30to54.Rda\n",
      "│   │   │   │   ├── Age55to64.Rda\n",
      "│   │   │   │   ├── Age65Plus.Rda\n",
      "│   │   │   │   ├── AutoCarSvcSubProp.Rda\n",
      "│   │   │   │   ├── AutoMeanAge.Rda\n",
      "│   │   │   │   ├── AveCarSvcVehicleAge.Rda\n",
      "│   │   │   │   ├── AveHhSize.Rda\n",
      "│   │   │   │   ├── Azone.Rda\n",
      "│   │   │   │   ├── ElectricityCI.Rda\n",
      "│   │   │   │   ├── FuelCost.Rda\n",
      "│   │   │   │   ├── FuelTax.Rda\n",
      "│   │   │   │   ├── GQIncomePC.Rda\n",
      "│   │   │   │   ├── GrpAge0to14.Rda\n",
      "│   │   │   │   ├── GrpAge15to19.Rda\n",
      "│   │   │   │   ├── GrpAge20to29.Rda\n",
      "│   │   │   │   ├── GrpAge30to54.Rda\n",
      "│   │   │   │   ├── GrpAge55to64.Rda\n",
      "│   │   │   │   ├── GrpAge65Plus.Rda\n",
      "│   │   │   │   ├── HHIncomePC.Rda\n",
      "│   │   │   │   ├── HighCarSvcAccessTime.Rda\n",
      "│   │   │   │   ├── HighCarSvcCost.Rda\n",
      "│   │   │   │   ├── LowCarSvcAccessTime.Rda\n",
      "│   │   │   │   ├── LowCarSvcCost.Rda\n",
      "│   │   │   │   ├── LtTrkCarSvcSubProp.Rda\n",
      "│   │   │   │   ├── LtTrkMeanAge.Rda\n",
      "│   │   │   │   ├── LtTrkProp.Rda\n",
      "│   │   │   │   ├── Marea.Rda\n",
      "│   │   │   │   ├── NumGq.Rda\n",
      "│   │   │   │   ├── NumHh.Rda\n",
      "│   │   │   │   ├── NumWkr.Rda\n",
      "│   │   │   │   ├── OwnedVehAccessTime.Rda\n",
      "│   │   │   │   ├── PaydHhProp.Rda\n",
      "│   │   │   │   ├── PevSurchgTaxProp.Rda\n",
      "│   │   │   │   ├── PowerCost.Rda\n",
      "│   │   │   │   ├── Prop1PerHh.Rda\n",
      "│   │   │   │   ├── PropGQChargingAvail.Rda\n",
      "│   │   │   │   ├── PropMFChargingAvail.Rda\n",
      "│   │   │   │   ├── PropSFChargingAvail.Rda\n",
      "│   │   │   │   ├── PropSovDvmtDiverted.Rda\n",
      "│   │   │   │   ├── VehOwnAdValoremTax.Rda\n",
      "│   │   │   │   ├── VehOwnFlatRateFee.Rda\n",
      "│   │   │   │   └── VmtTax.Rda\n",
      "│   │   │   ├── Bzone/\n",
      "│   │   │   │   ├── Azone.Rda\n",
      "│   │   │   │   ├── Bzone.Rda\n",
      "│   │   │   │   ├── CarSvcLevel.Rda\n",
      "│   │   │   │   ├── D1B.Rda\n",
      "│   │   │   │   ├── D1C.Rda\n",
      "│   │   │   │   ├── D1D.Rda\n",
      "│   │   │   │   ├── D2A_EPHHM.Rda\n",
      "│   │   │   │   ├── D2A_JPHH.Rda\n",
      "│   │   │   │   ├── D2A_WRKEMP.Rda\n",
      "│   │   │   │   ├── D3bpo4.Rda\n",
      "│   │   │   │   ├── D4c.Rda\n",
      "│   │   │   │   ├── D5.Rda\n",
      "│   │   │   │   ├── EcoProp.Rda\n",
      "│   │   │   │   ├── GQ.Rda\n",
      "│   │   │   │   ├── GQDU.Rda\n",
      "│   │   │   │   ├── HhPropIncQ1.Rda\n",
      "│   │   │   │   ├── HhPropIncQ2.Rda\n",
      "│   │   │   │   ├── HhPropIncQ3.Rda\n",
      "│   │   │   │   ├── HhPropIncQ4.Rda\n",
      "│   │   │   │   ├── ImpProp.Rda\n",
      "│   │   │   │   ├── Latitude.Rda\n",
      "│   │   │   │   ├── Longitude.Rda\n",
      "│   │   │   │   ├── Marea.Rda\n",
      "│   │   │   │   ├── MF.Rda\n",
      "│   │   │   │   ├── MFDU.Rda\n",
      "│   │   │   │   ├── MixUseProp.Rda\n",
      "│   │   │   │   ├── NumHh.Rda\n",
      "│   │   │   │   ├── NumWkr.Rda\n",
      "│   │   │   │   ├── PkgCost.Rda\n",
      "│   │   │   │   ├── PkgSpacesPerGQ.Rda\n",
      "│   │   │   │   ├── PkgSpacesPerMFDU.Rda\n",
      "│   │   │   │   ├── PkgSpacesPerSFDU.Rda\n",
      "│   │   │   │   ├── Pop.Rda\n",
      "│   │   │   │   ├── PropCashOut.Rda\n",
      "│   │   │   │   ├── PropNonWrkTripPay.Rda\n",
      "│   │   │   │   ├── PropTownGQDU.Rda\n",
      "│   │   │   │   ├── PropTownMFDU.Rda\n",
      "│   │   │   │   ├── PropTownSFDU.Rda\n",
      "│   │   │   │   ├── PropUrbanGQDU.Rda\n",
      "│   │   │   │   ├── PropUrbanMFDU.Rda\n",
      "│   │   │   │   ├── PropUrbanSFDU.Rda\n",
      "│   │   │   │   ├── PropWkrPay.Rda\n",
      "│   │   │   │   ├── RetEmp.Rda\n",
      "│   │   │   │   ├── RuralArea.Rda\n",
      "│   │   │   │   ├── RuralPop.Rda\n",
      "│   │   │   │   ├── SF.Rda\n",
      "│   │   │   │   ├── SFDU.Rda\n",
      "│   │   │   │   ├── SvcEmp.Rda\n",
      "│   │   │   │   ├── TotEmp.Rda\n",
      "│   │   │   │   ├── TownArea.Rda\n",
      "│   │   │   │   ├── TownPop.Rda\n",
      "│   │   │   │   ├── UrbanArea.Rda\n",
      "│   │   │   │   └── UrbanPop.Rda\n",
      "│   │   │   ├── Household/\n",
      "│   │   │   │   ├── Age0to14.Rda\n",
      "│   │   │   │   ├── Age15to19.Rda\n",
      "│   │   │   │   ├── Age20to29.Rda\n",
      "│   │   │   │   ├── Age30to54.Rda\n",
      "│   │   │   │   ├── Age55to64.Rda\n",
      "│   │   │   │   ├── Age65Plus.Rda\n",
      "│   │   │   │   ├── AveCO2ePM.Rda\n",
      "│   │   │   │   ├── AveGPM.Rda\n",
      "│   │   │   │   ├── AveKWHPM.Rda\n",
      "│   │   │   │   ├── AveRoadUseTaxPM.Rda\n",
      "│   │   │   │   ├── AveSocEnvCostPM.Rda\n",
      "│   │   │   │   ├── AveTrpLenDiverted.Rda\n",
      "│   │   │   │   ├── AveVehCostPM.Rda\n",
      "│   │   │   │   ├── AveVehTripLen.Rda\n",
      "│   │   │   │   ├── Azone.Rda\n",
      "│   │   │   │   ├── BikeTrips.Rda\n",
      "│   │   │   │   ├── Bzone.Rda\n",
      "│   │   │   │   ├── CarSvcLevel.Rda\n",
      "│   │   │   │   ├── DailyCO2e.Rda\n",
      "│   │   │   │   ├── DailyGGE.Rda\n",
      "│   │   │   │   ├── DailyKWH.Rda\n",
      "│   │   │   │   ├── Drivers.Rda\n",
      "│   │   │   │   ├── Drv15to19.Rda\n",
      "│   │   │   │   ├── Drv20to29.Rda\n",
      "│   │   │   │   ├── Drv30to54.Rda\n",
      "│   │   │   │   ├── Drv55to64.Rda\n",
      "│   │   │   │   ├── Drv65Plus.Rda\n",
      "│   │   │   │   ├── DrvAgePersons.Rda\n",
      "│   │   │   │   ├── Dvmt.Rda\n",
      "│   │   │   │   ├── FreeParkingSpaces.Rda\n",
      "│   │   │   │   ├── HasPaydIns.Rda\n",
      "│   │   │   │   ├── HhId.Rda\n",
      "│   │   │   │   ├── HhSize.Rda\n",
      "│   │   │   │   ├── HhType.Rda\n",
      "│   │   │   │   ├── HouseType.Rda\n",
      "│   │   │   │   ├── Income.Rda\n",
      "│   │   │   │   ├── IsEcoDrive.Rda\n",
      "│   │   │   │   ├── IsIMP.Rda\n",
      "│   │   │   │   ├── IsUrbanMixNbrhd.Rda\n",
      "│   │   │   │   ├── LifeCycle.Rda\n",
      "│   │   │   │   ├── LocType.Rda\n",
      "│   │   │   │   ├── Marea.Rda\n",
      "│   │   │   │   ├── NumAuto.Rda\n",
      "│   │   │   │   ├── NumHighCarSvc.Rda\n",
      "│   │   │   │   ├── NumLtTrk.Rda\n",
      "│   │   │   │   ├── OtherParkingCost.Rda\n",
      "│   │   │   │   ├── OwnCost.Rda\n",
      "│   │   │   │   ├── OwnCostSavings.Rda\n",
      "│   │   │   │   ├── ParkingUnitCost.Rda\n",
      "│   │   │   │   ├── PropDvmtDiverted.Rda\n",
      "│   │   │   │   ├── PropTdmDvmtReduction.Rda\n",
      "│   │   │   │   ├── SovDvmtProp.Rda\n",
      "│   │   │   │   ├── TransitTrips.Rda\n",
      "│   │   │   │   ├── UrbanDvmtProp.Rda\n",
      "│   │   │   │   ├── Vehicles.Rda\n",
      "│   │   │   │   ├── VehicleTrips.Rda\n",
      "│   │   │   │   ├── WalkTrips.Rda\n",
      "│   │   │   │   ├── Wkr15to19.Rda\n",
      "│   │   │   │   ├── Wkr20to29.Rda\n",
      "│   │   │   │   ├── Wkr30to54.Rda\n",
      "│   │   │   │   ├── Wkr55to64.Rda\n",
      "│   │   │   │   ├── Wkr65Plus.Rda\n",
      "│   │   │   │   └── Workers.Rda\n",
      "│   │   │   ├── Marea/\n",
      "│   │   │   │   ├── AccessMgtDeployProp.Rda\n",
      "│   │   │   │   ├── ArtDvmtPropExtCong.Rda\n",
      "│   │   │   │   ├── ArtDvmtPropHvyCong.Rda\n",
      "│   │   │   │   ├── ArtDvmtPropModCong.Rda\n",
      "│   │   │   │   ├── ArtDvmtPropNoneCong.Rda\n",
      "│   │   │   │   ├── ArtDvmtPropSevCong.Rda\n",
      "│   │   │   │   ├── ArtExtCongChg.Rda\n",
      "│   │   │   │   ├── ArtExtCongSpeed.Rda\n",
      "│   │   │   │   ├── ArtHvyCongChg.Rda\n",
      "│   │   │   │   ├── ArtHvyCongSpeed.Rda\n",
      "│   │   │   │   ├── ArtLaneMi.Rda\n",
      "│   │   │   │   ├── ArtModCongChg.Rda\n",
      "│   │   │   │   ├── ArtModCongSpeed.Rda\n",
      "│   │   │   │   ├── ArtNoneCongChg.Rda\n",
      "│   │   │   │   ├── ArtNoneCongSpeed.Rda\n",
      "│   │   │   │   ├── ArtSevCongChg.Rda\n",
      "│   │   │   │   ├── ArtSevCongSpeed.Rda\n",
      "│   │   │   │   ├── ArtSmooth.Rda\n",
      "│   │   │   │   ├── AveCongPrice.Rda\n",
      "│   │   │   │   ├── BusArtDvmt.Rda\n",
      "│   │   │   │   ├── BusAveSpeed.Rda\n",
      "│   │   │   │   ├── BusCO2e.Rda\n",
      "│   │   │   │   ├── BusCO2eRate.Rda\n",
      "│   │   │   │   ├── BusDvmt.Rda\n",
      "│   │   │   │   ├── BusEcoDriveFactor.Rda\n",
      "│   │   │   │   ├── BusFwyDvmt.Rda\n",
      "│   │   │   │   ├── BusGGE.Rda\n",
      "│   │   │   │   ├── BusKWH.Rda\n",
      "│   │   │   │   ├── BusOthDvmt.Rda\n",
      "│   │   │   │   ├── BusPropBev.Rda\n",
      "│   │   │   │   ├── BusPropCng.Rda\n",
      "│   │   │   │   ├── BusPropDiesel.Rda\n",
      "│   │   │   │   ├── BusPropGasoline.Rda\n",
      "│   │   │   │   ├── BusPropHev.Rda\n",
      "│   │   │   │   ├── BusPropIcev.Rda\n",
      "│   │   │   │   ├── BusSpdSmoothFactor.Rda\n",
      "│   │   │   │   ├── BusTotDelay.Rda\n",
      "│   │   │   │   ├── ComSvcAveUrbanAutoCO2eRate.Rda\n",
      "│   │   │   │   ├── ComSvcAveUrbanLtTrkCO2eRate.Rda\n",
      "│   │   │   │   ├── ComSvcNonUrbanCO2e.Rda\n",
      "│   │   │   │   ├── ComSvcNonUrbanGGE.Rda\n",
      "│   │   │   │   ├── ComSvcNonUrbanKWH.Rda\n",
      "│   │   │   │   ├── ComSvcRuralDvmt.Rda\n",
      "│   │   │   │   ├── ComSvcTownDvmt.Rda\n",
      "│   │   │   │   ├── ComSvcUrbanCO2e.Rda\n",
      "│   │   │   │   ├── ComSvcUrbanDvmt.Rda\n",
      "│   │   │   │   ├── ComSvcUrbanGGE.Rda\n",
      "│   │   │   │   ├── ComSvcUrbanKWH.Rda\n",
      "│   │   │   │   ├── CRRevMi.Rda\n",
      "│   │   │   │   ├── DRRevMi.Rda\n",
      "│   │   │   │   ├── FwyDvmtPropExtCong.Rda\n",
      "│   │   │   │   ├── FwyDvmtPropHvyCong.Rda\n",
      "│   │   │   │   ├── FwyDvmtPropModCong.Rda\n",
      "│   │   │   │   ├── FwyDvmtPropNoneCong.Rda\n",
      "│   │   │   │   ├── FwyDvmtPropSevCong.Rda\n",
      "│   │   │   │   ├── FwyExtCongChg.Rda\n",
      "│   │   │   │   ├── FwyExtCongSpeed.Rda\n",
      "│   │   │   │   ├── FwyHvyCongChg.Rda\n",
      "│   │   │   │   ├── FwyHvyCongSpeed.Rda\n",
      "│   │   │   │   ├── FwyLaneMi.Rda\n",
      "│   │   │   │   ├── FwyLaneMiPC.Rda\n",
      "│   │   │   │   ├── FwyModCongChg.Rda\n",
      "│   │   │   │   ├── FwyModCongSpeed.Rda\n",
      "│   │   │   │   ├── FwyNoneCongChg.Rda\n",
      "│   │   │   │   ├── FwyNoneCongSpeed.Rda\n",
      "│   │   │   │   ├── FwySevCongChg.Rda\n",
      "│   │   │   │   ├── FwySevCongSpeed.Rda\n",
      "│   │   │   │   ├── FwySmooth.Rda\n",
      "│   │   │   │   ├── HdIceFactor.Rda\n",
      "│   │   │   │   ├── HRRevMi.Rda\n",
      "│   │   │   │   ├── HvyTrkArtDvmt.Rda\n",
      "│   │   │   │   ├── HvyTrkAveSpeed.Rda\n",
      "│   │   │   │   ├── HvyTrkAveUrbanCO2eRate.Rda\n",
      "│   │   │   │   ├── HvyTrkEcoDrive.Rda\n",
      "│   │   │   │   ├── HvyTrkEcoDriveFactor.Rda\n",
      "│   │   │   │   ├── HvyTrkFwyDvmt.Rda\n",
      "│   │   │   │   ├── HvyTrkOthDvmt.Rda\n",
      "│   │   │   │   ├── HvyTrkSpdSmoothFactor.Rda\n",
      "│   │   │   │   ├── HvyTrkTotDelay.Rda\n",
      "│   │   │   │   ├── HvyTrkUrbanCO2e.Rda\n",
      "│   │   │   │   ├── HvyTrkUrbanDvmt.Rda\n",
      "│   │   │   │   ├── HvyTrkUrbanGGE.Rda\n",
      "│   │   │   │   ├── HvyTrkUrbanKWH.Rda\n",
      "│   │   │   │   ├── IncidentMgtDeployProp.Rda\n",
      "│   │   │   │   ├── LdEvFactor.Rda\n",
      "│   │   │   │   ├── LdFcvFactor.Rda\n",
      "│   │   │   │   ├── LdHevFactor.Rda\n",
      "│   │   │   │   ├── LdIceFactor.Rda\n",
      "│   │   │   │   ├── LdvArtDvmt.Rda\n",
      "│   │   │   │   ├── LdvAveSpeed.Rda\n",
      "│   │   │   │   ├── LdvEcoDrive.Rda\n",
      "│   │   │   │   ├── LdvEcoDriveFactor.Rda\n",
      "│   │   │   │   ├── LdvFwyArtDvmt.Rda\n",
      "│   │   │   │   ├── LdvFwyDvmt.Rda\n",
      "│   │   │   │   ├── LdvOthDvmt.Rda\n",
      "│   │   │   │   ├── LdvSpdSmoothFactor.Rda\n",
      "│   │   │   │   ├── LdvTotDelay.Rda\n",
      "│   │   │   │   ├── Marea.Rda\n",
      "│   │   │   │   ├── MBRevMi.Rda\n",
      "│   │   │   │   ├── MGRevMi.Rda\n",
      "│   │   │   │   ├── NonUrbanAveSpeed.Rda\n",
      "│   │   │   │   ├── NonUrbanHhPropUrbanDvmt.Rda\n",
      "│   │   │   │   ├── OtherArtOpsDeployProp.Rda\n",
      "│   │   │   │   ├── OtherFwyOpsDeployProp.Rda\n",
      "│   │   │   │   ├── OthSpd.Rda\n",
      "│   │   │   │   ├── RailCO2e.Rda\n",
      "│   │   │   │   ├── RailCO2eRate.Rda\n",
      "│   │   │   │   ├── RailDvmt.Rda\n",
      "│   │   │   │   ├── RailGGE.Rda\n",
      "│   │   │   │   ├── RailKWH.Rda\n",
      "│   │   │   │   ├── RailPropDiesel.Rda\n",
      "│   │   │   │   ├── RailPropEv.Rda\n",
      "│   │   │   │   ├── RailPropGasoline.Rda\n",
      "│   │   │   │   ├── RailPropHev.Rda\n",
      "│   │   │   │   ├── RailPropIcev.Rda\n",
      "│   │   │   │   ├── RampMeterDeployProp.Rda\n",
      "│   │   │   │   ├── RBRevMi.Rda\n",
      "│   │   │   │   ├── RuralHhDvmt.Rda\n",
      "│   │   │   │   ├── RuralIncome.Rda\n",
      "│   │   │   │   ├── RuralPop.Rda\n",
      "│   │   │   │   ├── SignalCoordDeployProp.Rda\n",
      "│   │   │   │   ├── SRRevMi.Rda\n",
      "│   │   │   │   ├── TownHhDvmt.Rda\n",
      "│   │   │   │   ├── TownIncome.Rda\n",
      "│   │   │   │   ├── TownPop.Rda\n",
      "│   │   │   │   ├── TranRevMiPC.Rda\n",
      "│   │   │   │   ├── TransitBiodieselPropDiesel.Rda\n",
      "│   │   │   │   ├── TransitBusFuelCI.Rda\n",
      "│   │   │   │   ├── TransitEthanolPropGasoline.Rda\n",
      "│   │   │   │   ├── TransitRailFuelCI.Rda\n",
      "│   │   │   │   ├── TransitRngPropCng.Rda\n",
      "│   │   │   │   ├── TransitVanFuelCI.Rda\n",
      "│   │   │   │   ├── UrbanHhDvmt.Rda\n",
      "│   │   │   │   ├── UrbanHhPropUrbanDvmt.Rda\n",
      "│   │   │   │   ├── UrbanIncome.Rda\n",
      "│   │   │   │   ├── UrbanPop.Rda\n",
      "│   │   │   │   ├── VanCO2e.Rda\n",
      "│   │   │   │   ├── VanCO2eRate.Rda\n",
      "│   │   │   │   ├── VanDvmt.Rda\n",
      "│   │   │   │   ├── VanGGE.Rda\n",
      "│   │   │   │   ├── VanKWH.Rda\n",
      "│   │   │   │   ├── VanPropBev.Rda\n",
      "│   │   │   │   ├── VanPropCng.Rda\n",
      "│   │   │   │   ├── VanPropDiesel.Rda\n",
      "│   │   │   │   ├── VanPropGasoline.Rda\n",
      "│   │   │   │   ├── VanPropHev.Rda\n",
      "│   │   │   │   ├── VanPropIcev.Rda\n",
      "│   │   │   │   └── VPRevMi.Rda\n",
      "│   │   │   ├── Region/\n",
      "│   │   │   │   ├── ArtLnMiCost.Rda\n",
      "│   │   │   │   ├── AveComSvcVehicleAge.Rda\n",
      "│   │   │   │   ├── BusEcoDriveFactor.Rda\n",
      "│   │   │   │   ├── CarSvcAutoFuelCI.Rda\n",
      "│   │   │   │   ├── CarSvcAutoPropBev.Rda\n",
      "│   │   │   │   ├── CarSvcAutoPropHev.Rda\n",
      "│   │   │   │   ├── CarSvcAutoPropIcev.Rda\n",
      "│   │   │   │   ├── CarSvcFuelCI.Rda\n",
      "│   │   │   │   ├── CarSvcLtTrkFuelCI.Rda\n",
      "│   │   │   │   ├── CarSvcLtTrkPropBev.Rda\n",
      "│   │   │   │   ├── CarSvcLtTrkPropHev.Rda\n",
      "│   │   │   │   ├── CarSvcLtTrkPropIcev.Rda\n",
      "│   │   │   │   ├── CO2eCost.Rda\n",
      "│   │   │   │   ├── ComSvcAutoFuelCI.Rda\n",
      "│   │   │   │   ├── ComSvcAutoPropBev.Rda\n",
      "│   │   │   │   ├── ComSvcAutoPropHev.Rda\n",
      "│   │   │   │   ├── ComSvcAutoPropIcev.Rda\n",
      "│   │   │   │   ├── ComSvcFuelCI.Rda\n",
      "│   │   │   │   ├── ComSvcLtTrkFuelCI.Rda\n",
      "│   │   │   │   ├── ComSvcLtTrkProp.Rda\n",
      "│   │   │   │   ├── ComSvcLtTrkPropBev.Rda\n",
      "│   │   │   │   ├── ComSvcLtTrkPropHev.Rda\n",
      "│   │   │   │   ├── ComSvcLtTrkPropIcev.Rda\n",
      "│   │   │   │   ├── ExtraVmtTax.Rda\n",
      "│   │   │   │   ├── FwyLnMiCost.Rda\n",
      "│   │   │   │   ├── HdIceFactor.Rda\n",
      "│   │   │   │   ├── HhAutoFuelCI.Rda\n",
      "│   │   │   │   ├── HhFuelCI.Rda\n",
      "│   │   │   │   ├── HhLtTrkFuelCI.Rda\n",
      "│   │   │   │   ├── HvyTrkEcoDriveFactor.Rda\n",
      "│   │   │   │   ├── HvyTrkFuelCI.Rda\n",
      "│   │   │   │   ├── HvyTrkNonUrbanCO2e.Rda\n",
      "│   │   │   │   ├── HvyTrkNonUrbanDvmt.Rda\n",
      "│   │   │   │   ├── HvyTrkNonUrbanGGE.Rda\n",
      "│   │   │   │   ├── HvyTrkNonUrbanKWH.Rda\n",
      "│   │   │   │   ├── HvyTrkPCE.Rda\n",
      "│   │   │   │   ├── HvyTrkPropBev.Rda\n",
      "│   │   │   │   ├── HvyTrkPropHev.Rda\n",
      "│   │   │   │   ├── HvyTrkPropIcev.Rda\n",
      "│   │   │   │   ├── HvyTrkUrbanCO2e.Rda\n",
      "│   │   │   │   ├── HvyTrkUrbanDvmt.Rda\n",
      "│   │   │   │   ├── HvyTrkUrbanGGE.Rda\n",
      "│   │   │   │   ├── HvyTrkUrbanKWH.Rda\n",
      "│   │   │   │   ├── LdEvFactor.Rda\n",
      "│   │   │   │   ├── LdFcvFactor.Rda\n",
      "│   │   │   │   ├── LdHevFactor.Rda\n",
      "│   │   │   │   ├── LdIceFactor.Rda\n",
      "│   │   │   │   ├── LdvEcoDriveFactor.Rda\n",
      "│   │   │   │   ├── PropClimateCostPaid.Rda\n",
      "│   │   │   │   ├── PropOtherExtCostPaid.Rda\n",
      "│   │   │   │   ├── RoadBaseModCost.Rda\n",
      "│   │   │   │   ├── RoadOtherCost.Rda\n",
      "│   │   │   │   ├── RoadPresOpMaintCost.Rda\n",
      "│   │   │   │   ├── TransitBusFuelCI.Rda\n",
      "│   │   │   │   ├── TransitRailFuelCI.Rda\n",
      "│   │   │   │   └── TransitVanFuelCI.Rda\n",
      "│   │   │   ├── Vehicle/\n",
      "│   │   │   │   ├── Age.Rda\n",
      "│   │   │   │   ├── Azone.Rda\n",
      "│   │   │   │   ├── BatRng.Rda\n",
      "│   │   │   │   ├── Bzone.Rda\n",
      "│   │   │   │   ├── DvmtProp.Rda\n",
      "│   │   │   │   ├── ElecCO2ePM.Rda\n",
      "│   │   │   │   ├── ElecDvmtProp.Rda\n",
      "│   │   │   │   ├── FuelCO2ePM.Rda\n",
      "│   │   │   │   ├── GPM.Rda\n",
      "│   │   │   │   ├── HhId.Rda\n",
      "│   │   │   │   ├── InsCost.Rda\n",
      "│   │   │   │   ├── KWHPM.Rda\n",
      "│   │   │   │   ├── Marea.Rda\n",
      "│   │   │   │   ├── MPG.Rda\n",
      "│   │   │   │   ├── MPGe.Rda\n",
      "│   │   │   │   ├── MPKWH.Rda\n",
      "│   │   │   │   ├── OwnCost.Rda\n",
      "│   │   │   │   ├── OwnCostPerMile.Rda\n",
      "│   │   │   │   ├── Powertrain.Rda\n",
      "│   │   │   │   ├── SwitchToCarSvc.Rda\n",
      "│   │   │   │   ├── Type.Rda\n",
      "│   │   │   │   ├── VehicleAccess.Rda\n",
      "│   │   │   │   └── VehId.Rda\n",
      "│   │   │   └── Worker/\n",
      "│   │   │       ├── Azone.Rda\n",
      "│   │   │       ├── Bzone.Rda\n",
      "│   │   │       ├── DistanceToWork.Rda\n",
      "│   │   │       ├── HhId.Rda\n",
      "│   │   │       ├── IsCashOut.Rda\n",
      "│   │   │       ├── IsECO.Rda\n",
      "│   │   │       ├── Marea.Rda\n",
      "│   │   │       ├── ParkingCost.Rda\n",
      "│   │   │       ├── PaysForParking.Rda\n",
      "│   │   │       └── WkrId.Rda\n",
      "│   │   ├── DatastoreListing.Rda\n",
      "│   │   └── Global/\n",
      "│   │       ├── Azone/\n",
      "│   │       │   ├── Azone.Rda\n",
      "│   │       │   └── Marea.Rda\n",
      "│   │       ├── Bzone/\n",
      "│   │       │   ├── Azone.Rda\n",
      "│   │       │   ├── Bzone.Rda\n",
      "│   │       │   └── Marea.Rda\n",
      "│   │       ├── Fuel/\n",
      "│   │       ├── Marea/\n",
      "│   │       │   ├── BusArtDvmtProp.Rda\n",
      "│   │       │   ├── BusFwyDvmtProp.Rda\n",
      "│   │       │   ├── BusOthDvmtProp.Rda\n",
      "│   │       │   ├── ComSvcDvmtHhDvmtFactor.Rda\n",
      "│   │       │   ├── ComSvcDvmtIncomeFactor.Rda\n",
      "│   │       │   ├── ComSvcDvmtPopulationFactor.Rda\n",
      "│   │       │   ├── HvyTrkArtDvmtProp.Rda\n",
      "│   │       │   ├── HvyTrkDvmtIncomeFactor.Rda\n",
      "│   │       │   ├── HvyTrkDvmtPopulationFactor.Rda\n",
      "│   │       │   ├── HvyTrkFwyDvmtProp.Rda\n",
      "│   │       │   ├── HvyTrkOthDvmtProp.Rda\n",
      "│   │       │   ├── LambdaAdj.Rda\n",
      "│   │       │   ├── LdvArtDvmtProp.Rda\n",
      "│   │       │   ├── LdvFwyDvmtProp.Rda\n",
      "│   │       │   ├── LdvOthDvmtProp.Rda\n",
      "│   │       │   ├── LdvUrbanRoadProp.Rda\n",
      "│   │       │   ├── Marea.Rda\n",
      "│   │       │   ├── UrbanHvyTrkDvmt.Rda\n",
      "│   │       │   ├── UrbanLdvDvmt.Rda\n",
      "│   │       │   └── UzaNameLookup.Rda\n",
      "│   │       ├── Model/\n",
      "│   │       │   └── ValueOfTime.Rda\n",
      "│   │       ├── OtherOpsEffectiveness/\n",
      "│   │       │   ├── Art_NonRcr.Rda\n",
      "│   │       │   ├── Art_Rcr.Rda\n",
      "│   │       │   ├── Fwy_NonRcr.Rda\n",
      "│   │       │   ├── Fwy_Rcr.Rda\n",
      "│   │       │   └── Level.Rda\n",
      "│   │       └── Region/\n",
      "│   │           ├── ComSvcDvmtGrowthBasis.Rda\n",
      "│   │           ├── HvyTrkDvmt.Rda\n",
      "│   │           ├── HvyTrkDvmtGrowthBasis.Rda\n",
      "│   │           ├── HvyTrkDvmtIncomeFactor.Rda\n",
      "│   │           ├── HvyTrkDvmtPopulationFactor.Rda\n",
      "│   │           └── StateAbbrLookup.Rda\n",
      "│   ├── defs/\n",
      "│   │   ├── deflators.csv\n",
      "│   │   ├── geo.csv\n",
      "│   │   ├── model_parameters.json\n",
      "│   │   ├── run_parameters.json\n",
      "│   │   └── units.csv\n",
      "│   ├── inputs/\n",
      "│   │   ├── azone_carsvc_characteristics.csv\n",
      "│   │   ├── azone_charging_availability.csv\n",
      "│   │   ├── azone_electricity_carbon_intensity.csv\n",
      "│   │   ├── azone_fuel_power_cost.csv\n",
      "│   │   ├── azone_gq_pop_by_age.csv\n",
      "│   │   ├── azone_hh_lttrk_prop.csv\n",
      "│   │   ├── azone_hh_pop_by_age.csv\n",
      "│   │   ├── azone_hh_veh_mean_age.csv\n",
      "│   │   ├── azone_hh_veh_own_taxes.csv\n",
      "│   │   ├── azone_hhsize_targets.csv\n",
      "│   │   ├── azone_lttrk_prop.csv\n",
      "│   │   ├── azone_payd_insurance_prop.csv\n",
      "│   │   ├── azone_per_cap_inc.csv\n",
      "│   │   ├── azone_prop_sov_dvmt_diverted.csv\n",
      "│   │   ├── azone_veh_use_taxes.csv\n",
      "│   │   ├── azone_vehicle_access_times.csv\n",
      "│   │   ├── bzone_carsvc_availability.csv\n",
      "│   │   ├── bzone_dwelling_units.csv\n",
      "│   │   ├── bzone_employment.csv\n",
      "│   │   ├── bzone_hh_inc_qrtl_prop.csv\n",
      "│   │   ├── bzone_lat_lon.csv\n",
      "│   │   ├── bzone_network_design.csv\n",
      "│   │   ├── bzone_parking.csv\n",
      "│   │   ├── bzone_transit_service.csv\n",
      "│   │   ├── bzone_travel_demand_mgt.csv\n",
      "│   │   ├── bzone_unprotected_area.csv\n",
      "│   │   ├── bzone_urban-mixed-use_prop.csv\n",
      "│   │   ├── bzone_urban-town_du_proportions.csv\n",
      "│   │   ├── marea_base_year_dvmt.csv\n",
      "│   │   ├── marea_congestion_charges.csv\n",
      "│   │   ├── marea_dvmt_split_by_road_class.csv\n",
      "│   │   ├── marea_lane_miles.csv\n",
      "│   │   ├── marea_operations_deployment.csv\n",
      "│   │   ├── marea_speed_smooth_ecodrive.csv\n",
      "│   │   ├── marea_transit_ave_fuel_carbon_intensity.csv\n",
      "│   │   ├── marea_transit_biofuel_mix.csv\n",
      "│   │   ├── marea_transit_fuel.csv\n",
      "│   │   ├── marea_transit_powertrain_prop.csv\n",
      "│   │   ├── marea_transit_service.csv\n",
      "│   │   ├── other_ops_effectiveness.csv\n",
      "│   │   ├── region_ave_fuel_carbon_intensity.csv\n",
      "│   │   ├── region_base_year_dvmt.csv\n",
      "│   │   ├── region_carsvc_powertrain_prop.csv\n",
      "│   │   ├── region_co2e_costs.csv\n",
      "│   │   ├── region_comsvc_ave_veh_age.csv\n",
      "│   │   ├── region_comsvc_lttrk_prop.csv\n",
      "│   │   ├── region_comsvc_powertrain_prop.csv\n",
      "│   │   ├── region_comsvc_veh_mean_age.csv\n",
      "│   │   ├── region_hvytrk_powertrain_prop.csv\n",
      "│   │   ├── region_prop_externalities_paid.csv\n",
      "│   │   ├── region_road_cost.csv\n",
      "│   │   ├── temp_azone_relative_employment.csv\n",
      "│   │   ├── temp_region_base_year_hvytrk_dvmt.csv\n",
      "│   │   └── temp_region_hh_driver_adjust_prop.csv\n",
      "│   ├── Log_2020-07-23_14_15_14.txt\n",
      "│   ├── ModelState.Rda\n",
      "│   ├── output/\n",
      "│   │   ├── Azone.csv\n",
      "│   │   ├── Bzone.csv\n",
      "│   │   ├── ComputedMeasures.json\n",
      "│   │   ├── Household.csv\n",
      "│   │   ├── Marea.csv\n",
      "│   │   ├── Region.csv\n",
      "│   │   ├── Vehicle.csv\n",
      "│   │   └── Worker.csv\n",
      "│   └── run_model.R\n",
      "├── verspm-model-config.yml\n",
      "├── verspm-scope.yml\n",
      "└── verspm.db\n"
     ]
    }
   ],
   "source": [
    "show_dir(fx.local_directory)"
   ]
  },
  {
   "cell_type": "code",
   "execution_count": 21,
   "metadata": {
    "ExecuteTime": {
     "end_time": "2020-07-23T19:17:35.371655Z",
     "start_time": "2020-07-23T19:17:35.339993Z"
    }
   },
   "outputs": [
    {
     "ename": "NameError",
     "evalue": "name 'STOP' is not defined",
     "output_type": "error",
     "traceback": [
      "\u001b[0;31m---------------------------------------------------------------------------\u001b[0m",
      "\u001b[0;31mNameError\u001b[0m                                 Traceback (most recent call last)",
      "\u001b[0;32m<ipython-input-21-ee4decdca3b8>\u001b[0m in \u001b[0;36m<module>\u001b[0;34m\u001b[0m\n\u001b[0;32m----> 1\u001b[0;31m \u001b[0mSTOP\u001b[0m\u001b[0;34m\u001b[0m\u001b[0;34m\u001b[0m\u001b[0m\n\u001b[0m",
      "\u001b[0;31mNameError\u001b[0m: name 'STOP' is not defined"
     ]
    }
   ],
   "source": [
    "STOP"
   ]
  },
  {
   "cell_type": "markdown",
   "metadata": {},
   "source": [
    "It is permissible, but not required, to simply copy the entire contents of the \n",
    "former to the latter, as is done in this example. However, if the current active model\n",
    "directory has a lot of boilerplate files that don't change with the inputs, or\n",
    "if it becomes full of intermediate or temporary files that definitely will never\n",
    "be used to compute performance measures, it can be advisable to selectively copy\n",
    "only relevant files. In that case, those files and whatever related sub-directory\n",
    "tree structure exists in the current active model should be replicated within the\n",
    "experiments archive directory."
   ]
  },
  {
   "cell_type": "markdown",
   "metadata": {},
   "source": [
    "## Normal Operation for Running Multiple Experiments"
   ]
  },
  {
   "cell_type": "markdown",
   "metadata": {},
   "source": [
    "For this demo, we'll create a design of experiments with only 8 experiments.\n",
    "The `design_experiments` method of the `RoadTestFileModel` object is not defined\n",
    "in the custom `core_files_demo` written for this model, but rather is a generic\n",
    "function provide by the TMIP-EMAT main library.\n",
    "Real applications will typically use a larger number of experiments, but this small number\n",
    "is sufficient to demonstrate the operation of the tools."
   ]
  },
  {
   "cell_type": "code",
   "execution_count": null,
   "metadata": {
    "ExecuteTime": {
     "end_time": "2020-07-23T19:17:35.374279Z",
     "start_time": "2020-07-23T19:15:11.436Z"
    }
   },
   "outputs": [],
   "source": [
    "design1 = fx.design_experiments(design_name='lhs_1', n_samples=8)\n",
    "design1"
   ]
  },
  {
   "cell_type": "markdown",
   "metadata": {},
   "source": [
    "The `run_experiments` command will automatically run the model once for each experiment in the named design.\n",
    "The demo command line version of the road test model is (intentionally) a little bit slow, so will take a few\n",
    "seconds to conduct these eight model experiment runs."
   ]
  },
  {
   "cell_type": "code",
   "execution_count": null,
   "metadata": {
    "ExecuteTime": {
     "end_time": "2020-07-23T19:17:35.375592Z",
     "start_time": "2020-07-23T19:15:11.437Z"
    }
   },
   "outputs": [],
   "source": [
    "# fx.run_experiments(design_name='lhs_1')"
   ]
  },
  {
   "cell_type": "markdown",
   "metadata": {},
   "source": [
    "Much better!  Now we can see we have a more complete set of outputs, without the NaN's.  Hooray!"
   ]
  },
  {
   "cell_type": "code",
   "execution_count": null,
   "metadata": {
    "ExecuteTime": {
     "end_time": "2020-07-23T19:17:35.377007Z",
     "start_time": "2020-07-23T19:15:11.438Z"
    }
   },
   "outputs": [],
   "source": [
    "# results = fx.db.read_experiment_all(scope_name=fx.scope.name, design_name='lhs_1')\n",
    "# results"
   ]
  },
  {
   "cell_type": "markdown",
   "metadata": {},
   "source": [
    "## Multiprocessing for Running Multiple Experiments\n",
    "\n",
    "The examples above are all single-process demonstrations of using TMIP-EMAT to run core model\n",
    "experiments.  If your core model itself is multi-threaded or otherwise is designed to make \n",
    "full use of your multi-core CPU, or if a single core model run will otherwise max out some\n",
    "computational resource (e.g. RAM, disk space) then single process operation should be sufficient.\n",
    "\n",
    "If, on the other hand, your core model is such that you can run multiple independent instances of\n",
    "the model side-by-side on the same machine, then you could benefit from a multiprocessing \n",
    "approach.  This can be accomplished by splitting a design of experiments over several\n",
    "processes that you start manually, or by using an automatic multiprocessing library such as \n",
    "`dask.distributed`."
   ]
  },
  {
   "cell_type": "markdown",
   "metadata": {},
   "source": [
    "### Automatic Multiprocessing for Running Multiple Experiments\n",
    "\n",
    "The examples above are all essentially single-process demonstrations of using TMIP-EMAT to run core model\n",
    "experiments, either by running all in one single process, or by having a user manually instantiate a number \n",
    "of single processes.  If your core model itself is multi-threaded or otherwise is designed to make \n",
    "full use of your multi-core CPU, or if a single core model run will otherwise max out some\n",
    "computational resource (e.g. RAM, disk space) then single process operation should be sufficient.\n",
    "\n",
    "If, on the other hand, your model is such that you can run multiple independent instances of\n",
    "the model side-by-side on the same machine, but you don't want to manage the process of manually, \n",
    "then you could benefit from a multiprocessing approach that uses the `dask.distributed` library.  To\n",
    "demonstrate this, we'll create yet another small design of experiments to run."
   ]
  },
  {
   "cell_type": "code",
   "execution_count": null,
   "metadata": {
    "ExecuteTime": {
     "end_time": "2020-07-23T19:17:35.378584Z",
     "start_time": "2020-07-23T19:15:11.439Z"
    }
   },
   "outputs": [],
   "source": [
    "design3 = fx.design_experiments(design_name='lhs_3', n_samples=8, random_seed=3)\n",
    "design3"
   ]
  },
  {
   "cell_type": "markdown",
   "metadata": {},
   "source": [
    "The demo module is set up to facilitate distributed multiprocessing. During the `setup`\n",
    "step, the code detects if it is being run in a distributed \"worker\" environment instead of\n",
    "in a normal Python environment.  If the \"worker\" environment is detected, then a copy\n",
    "of the entire files-based model is made into the worker's local workspace, and the model\n",
    "is run there instead of in the master workspace.  This allows each worker to edit the files\n",
    "independently and simultaneously, without disturbing other parallel workers.\n",
    "\n",
    "With this small modification, we are ready to run this demo model in parallel subprocesses.\n",
    "to do, we simply import the `get_client` function, and use that for the `evaluator` argument\n",
    "in the `run_experiments` method."
   ]
  },
  {
   "cell_type": "code",
   "execution_count": null,
   "metadata": {
    "ExecuteTime": {
     "end_time": "2020-07-23T19:17:35.379634Z",
     "start_time": "2020-07-23T19:15:11.441Z"
    }
   },
   "outputs": [],
   "source": [
    "from emat.util.distributed import get_client # for multi-process operation\n",
    "fx.run_experiments(design=design3, evaluator=get_client())"
   ]
  },
  {
   "cell_type": "code",
   "execution_count": null,
   "metadata": {
    "ExecuteTime": {
     "end_time": "2020-07-23T19:17:35.380763Z",
     "start_time": "2020-07-23T19:15:11.442Z"
    }
   },
   "outputs": [],
   "source": [
    "os.path.exists(fx.get_experiment_archive_path(1)[:-6])"
   ]
  },
  {
   "cell_type": "code",
   "execution_count": null,
   "metadata": {
    "ExecuteTime": {
     "end_time": "2020-07-23T19:17:35.381969Z",
     "start_time": "2020-07-23T19:15:11.443Z"
    }
   },
   "outputs": [],
   "source": [
    "fx.local_directory"
   ]
  },
  {
   "cell_type": "code",
   "execution_count": null,
   "metadata": {},
   "outputs": [],
   "source": []
  },
  {
   "cell_type": "code",
   "execution_count": null,
   "metadata": {},
   "outputs": [],
   "source": []
  },
  {
   "cell_type": "code",
   "execution_count": null,
   "metadata": {},
   "outputs": [],
   "source": []
  },
  {
   "cell_type": "code",
   "execution_count": null,
   "metadata": {},
   "outputs": [],
   "source": []
  },
  {
   "cell_type": "code",
   "execution_count": null,
   "metadata": {
    "ExecuteTime": {
     "end_time": "2020-07-23T19:17:35.383003Z",
     "start_time": "2020-07-23T19:15:11.446Z"
    }
   },
   "outputs": [],
   "source": [
    "fx.archive_path = os.path.expanduser( \"~/sandbox/ve8-temp/archive\")\n",
    "fx.archive_path"
   ]
  },
  {
   "cell_type": "code",
   "execution_count": 22,
   "metadata": {
    "ExecuteTime": {
     "end_time": "2020-07-23T19:19:23.208908Z",
     "start_time": "2020-07-23T19:19:22.569386Z"
    }
   },
   "outputs": [
    {
     "name": "stdout",
     "output_type": "stream",
     "text": [
      "True\n",
      "/var/folders/js/bk_dt9015j79_f6bxnc44dsr0000gp/T/tmpn3zjrpw2/./archive/scp_VERSPM/exp_1.zip\n"
     ]
    },
    {
     "data": {
      "text/plain": [
       "{'GHGReduction': 0,\n",
       " 'DVMTPerCapita': 19.55285903857264,\n",
       " 'WalkTravelPerCapita': 0.34769618863101326,\n",
       " 'TruckDelay': 0,\n",
       " 'AirPollutionEm': 805356.8872181879,\n",
       " 'FuelUse': 35474824.98767122,\n",
       " 'VehicleCost': 3.9926988995433295,\n",
       " 'VehicleCostLow': 21.159882378294324}"
      ]
     },
     "execution_count": 22,
     "metadata": {},
     "output_type": "execute_result"
    }
   ],
   "source": [
    "fx.load_archived_measures(1)"
   ]
  },
  {
   "cell_type": "code",
   "execution_count": null,
   "metadata": {},
   "outputs": [],
   "source": []
  }
 ],
 "metadata": {
  "jupytext": {
   "formats": "ipynb,py:percent"
  },
  "kernelspec": {
   "display_name": "Python 3",
   "language": "python",
   "name": "python3"
  },
  "language_info": {
   "codemirror_mode": {
    "name": "ipython",
    "version": 3
   },
   "file_extension": ".py",
   "mimetype": "text/x-python",
   "name": "python",
   "nbconvert_exporter": "python",
   "pygments_lexer": "ipython3",
   "version": "3.7.6"
  },
  "pycharm": {
   "stem_cell": {
    "cell_type": "raw",
    "metadata": {
     "collapsed": false
    },
    "source": []
   }
  },
  "toc": {
   "base_numbering": 1,
   "nav_menu": {},
   "number_sections": true,
   "sideBar": true,
   "skip_h1_title": false,
   "title_cell": "Table of Contents",
   "title_sidebar": "Contents",
   "toc_cell": false,
   "toc_position": {
    "height": "calc(100% - 180px)",
    "left": "10px",
    "top": "150px",
    "width": "220.2375030517578px"
   },
   "toc_section_display": true,
   "toc_window_display": true
  }
 },
 "nbformat": 4,
 "nbformat_minor": 4
}
